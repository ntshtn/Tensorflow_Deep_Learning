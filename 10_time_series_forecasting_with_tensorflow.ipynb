{
  "nbformat": 4,
  "nbformat_minor": 0,
  "metadata": {
    "colab": {
      "provenance": [],
      "gpuType": "T4",
      "authorship_tag": "ABX9TyPu+CgmigNvuge+Fl4OuLwo"
    },
    "kernelspec": {
      "name": "python3",
      "display_name": "Python 3"
    },
    "language_info": {
      "name": "python"
    },
    "accelerator": "GPU"
  },
  "cells": [
    {
      "cell_type": "markdown",
      "source": [
        "## Time series forecasting fundamentals with TensorFlow + Milestone Project 3: BitPredict\n",
        "\n",
        "Let's write some TensorFlow code to predict the price of Bitcoin based on the historical price of Bitcoin.\n",
        "\n",
        "⚠️ **Note:** This is not a financial advice."
      ],
      "metadata": {
        "id": "fFh6gG4v7ULN"
      }
    },
    {
      "cell_type": "markdown",
      "source": [
        "The predictability of an event or a quantity depends on several factors:\n",
        "1. how well we understand the factors that contribute to it,\n",
        "2. how much data is available,\n",
        "3. how similar the future is to the past,\n",
        "4. whether the forecasts can affect the thing we are trying to forecast."
      ],
      "metadata": {
        "id": "-vROCcjP3ftx"
      }
    },
    {
      "cell_type": "markdown",
      "source": [
        "## Get Data\n",
        "\n",
        "The data is from: https://www.coindesk.com/price/bitcoin, and we will be using the closing price of 24 hours."
      ],
      "metadata": {
        "id": "OCizvY1S8DlM"
      }
    },
    {
      "cell_type": "code",
      "source": [
        "!wget https://raw.githubusercontent.com/mrdbourke/tensorflow-deep-learning/main/extras/BTC_USD_2013-10-01_2021-05-18-CoinDesk.csv"
      ],
      "metadata": {
        "colab": {
          "base_uri": "https://localhost:8080/"
        },
        "id": "OYGfOr3R8CSS",
        "outputId": "c31aca67-a927-4962-891a-dac3b256c7f6"
      },
      "execution_count": 1,
      "outputs": [
        {
          "output_type": "stream",
          "name": "stdout",
          "text": [
            "--2025-02-22 16:02:35--  https://raw.githubusercontent.com/mrdbourke/tensorflow-deep-learning/main/extras/BTC_USD_2013-10-01_2021-05-18-CoinDesk.csv\n",
            "Resolving raw.githubusercontent.com (raw.githubusercontent.com)... 185.199.108.133, 185.199.109.133, 185.199.110.133, ...\n",
            "Connecting to raw.githubusercontent.com (raw.githubusercontent.com)|185.199.108.133|:443... connected.\n",
            "HTTP request sent, awaiting response... 200 OK\n",
            "Length: 178509 (174K) [text/plain]\n",
            "Saving to: ‘BTC_USD_2013-10-01_2021-05-18-CoinDesk.csv’\n",
            "\n",
            "BTC_USD_2013-10-01_ 100%[===================>] 174.33K  --.-KB/s    in 0.004s  \n",
            "\n",
            "2025-02-22 16:02:38 (43.7 MB/s) - ‘BTC_USD_2013-10-01_2021-05-18-CoinDesk.csv’ saved [178509/178509]\n",
            "\n"
          ]
        }
      ]
    },
    {
      "cell_type": "markdown",
      "source": [
        "## Importing time series data with pandas"
      ],
      "metadata": {
        "id": "oij3oggL85UA"
      }
    },
    {
      "cell_type": "code",
      "source": [
        "# Import with pandas\n",
        "import pandas as pd\n",
        "# Let's read in our Bitcoin data and parse the dates\n",
        "df = pd.read_csv(\"/content/BTC_USD_2013-10-01_2021-05-18-CoinDesk.csv\", parse_dates=[\"Date\"], index_col=[\"Date\"]) # parse the data column and tell pandas that the first column is a date\n",
        "\n",
        "df.head()"
      ],
      "metadata": {
        "colab": {
          "base_uri": "https://localhost:8080/",
          "height": 337
        },
        "id": "QQgy5Aq18_hp",
        "outputId": "b9e39942-8472-4c70-c6d5-873963b7b551"
      },
      "execution_count": 2,
      "outputs": [
        {
          "output_type": "execute_result",
          "data": {
            "text/plain": [
              "           Currency  Closing Price (USD)  24h Open (USD)  24h High (USD)  \\\n",
              "Date                                                                       \n",
              "2013-10-01      BTC            123.65499       124.30466       124.75166   \n",
              "2013-10-02      BTC            125.45500       123.65499       125.75850   \n",
              "2013-10-03      BTC            108.58483       125.45500       125.66566   \n",
              "2013-10-04      BTC            118.67466       108.58483       118.67500   \n",
              "2013-10-05      BTC            121.33866       118.67466       121.93633   \n",
              "\n",
              "            24h Low (USD)  \n",
              "Date                       \n",
              "2013-10-01      122.56349  \n",
              "2013-10-02      123.63383  \n",
              "2013-10-03       83.32833  \n",
              "2013-10-04      107.05816  \n",
              "2013-10-05      118.00566  "
            ],
            "text/html": [
              "\n",
              "  <div id=\"df-073c5924-54e7-48f6-a0d1-44f063d88e80\" class=\"colab-df-container\">\n",
              "    <div>\n",
              "<style scoped>\n",
              "    .dataframe tbody tr th:only-of-type {\n",
              "        vertical-align: middle;\n",
              "    }\n",
              "\n",
              "    .dataframe tbody tr th {\n",
              "        vertical-align: top;\n",
              "    }\n",
              "\n",
              "    .dataframe thead th {\n",
              "        text-align: right;\n",
              "    }\n",
              "</style>\n",
              "<table border=\"1\" class=\"dataframe\">\n",
              "  <thead>\n",
              "    <tr style=\"text-align: right;\">\n",
              "      <th></th>\n",
              "      <th>Currency</th>\n",
              "      <th>Closing Price (USD)</th>\n",
              "      <th>24h Open (USD)</th>\n",
              "      <th>24h High (USD)</th>\n",
              "      <th>24h Low (USD)</th>\n",
              "    </tr>\n",
              "    <tr>\n",
              "      <th>Date</th>\n",
              "      <th></th>\n",
              "      <th></th>\n",
              "      <th></th>\n",
              "      <th></th>\n",
              "      <th></th>\n",
              "    </tr>\n",
              "  </thead>\n",
              "  <tbody>\n",
              "    <tr>\n",
              "      <th>2013-10-01</th>\n",
              "      <td>BTC</td>\n",
              "      <td>123.65499</td>\n",
              "      <td>124.30466</td>\n",
              "      <td>124.75166</td>\n",
              "      <td>122.56349</td>\n",
              "    </tr>\n",
              "    <tr>\n",
              "      <th>2013-10-02</th>\n",
              "      <td>BTC</td>\n",
              "      <td>125.45500</td>\n",
              "      <td>123.65499</td>\n",
              "      <td>125.75850</td>\n",
              "      <td>123.63383</td>\n",
              "    </tr>\n",
              "    <tr>\n",
              "      <th>2013-10-03</th>\n",
              "      <td>BTC</td>\n",
              "      <td>108.58483</td>\n",
              "      <td>125.45500</td>\n",
              "      <td>125.66566</td>\n",
              "      <td>83.32833</td>\n",
              "    </tr>\n",
              "    <tr>\n",
              "      <th>2013-10-04</th>\n",
              "      <td>BTC</td>\n",
              "      <td>118.67466</td>\n",
              "      <td>108.58483</td>\n",
              "      <td>118.67500</td>\n",
              "      <td>107.05816</td>\n",
              "    </tr>\n",
              "    <tr>\n",
              "      <th>2013-10-05</th>\n",
              "      <td>BTC</td>\n",
              "      <td>121.33866</td>\n",
              "      <td>118.67466</td>\n",
              "      <td>121.93633</td>\n",
              "      <td>118.00566</td>\n",
              "    </tr>\n",
              "  </tbody>\n",
              "</table>\n",
              "</div>\n",
              "    <div class=\"colab-df-buttons\">\n",
              "\n",
              "  <div class=\"colab-df-container\">\n",
              "    <button class=\"colab-df-convert\" onclick=\"convertToInteractive('df-073c5924-54e7-48f6-a0d1-44f063d88e80')\"\n",
              "            title=\"Convert this dataframe to an interactive table.\"\n",
              "            style=\"display:none;\">\n",
              "\n",
              "  <svg xmlns=\"http://www.w3.org/2000/svg\" height=\"24px\" viewBox=\"0 -960 960 960\">\n",
              "    <path d=\"M120-120v-720h720v720H120Zm60-500h600v-160H180v160Zm220 220h160v-160H400v160Zm0 220h160v-160H400v160ZM180-400h160v-160H180v160Zm440 0h160v-160H620v160ZM180-180h160v-160H180v160Zm440 0h160v-160H620v160Z\"/>\n",
              "  </svg>\n",
              "    </button>\n",
              "\n",
              "  <style>\n",
              "    .colab-df-container {\n",
              "      display:flex;\n",
              "      gap: 12px;\n",
              "    }\n",
              "\n",
              "    .colab-df-convert {\n",
              "      background-color: #E8F0FE;\n",
              "      border: none;\n",
              "      border-radius: 50%;\n",
              "      cursor: pointer;\n",
              "      display: none;\n",
              "      fill: #1967D2;\n",
              "      height: 32px;\n",
              "      padding: 0 0 0 0;\n",
              "      width: 32px;\n",
              "    }\n",
              "\n",
              "    .colab-df-convert:hover {\n",
              "      background-color: #E2EBFA;\n",
              "      box-shadow: 0px 1px 2px rgba(60, 64, 67, 0.3), 0px 1px 3px 1px rgba(60, 64, 67, 0.15);\n",
              "      fill: #174EA6;\n",
              "    }\n",
              "\n",
              "    .colab-df-buttons div {\n",
              "      margin-bottom: 4px;\n",
              "    }\n",
              "\n",
              "    [theme=dark] .colab-df-convert {\n",
              "      background-color: #3B4455;\n",
              "      fill: #D2E3FC;\n",
              "    }\n",
              "\n",
              "    [theme=dark] .colab-df-convert:hover {\n",
              "      background-color: #434B5C;\n",
              "      box-shadow: 0px 1px 3px 1px rgba(0, 0, 0, 0.15);\n",
              "      filter: drop-shadow(0px 1px 2px rgba(0, 0, 0, 0.3));\n",
              "      fill: #FFFFFF;\n",
              "    }\n",
              "  </style>\n",
              "\n",
              "    <script>\n",
              "      const buttonEl =\n",
              "        document.querySelector('#df-073c5924-54e7-48f6-a0d1-44f063d88e80 button.colab-df-convert');\n",
              "      buttonEl.style.display =\n",
              "        google.colab.kernel.accessAllowed ? 'block' : 'none';\n",
              "\n",
              "      async function convertToInteractive(key) {\n",
              "        const element = document.querySelector('#df-073c5924-54e7-48f6-a0d1-44f063d88e80');\n",
              "        const dataTable =\n",
              "          await google.colab.kernel.invokeFunction('convertToInteractive',\n",
              "                                                    [key], {});\n",
              "        if (!dataTable) return;\n",
              "\n",
              "        const docLinkHtml = 'Like what you see? Visit the ' +\n",
              "          '<a target=\"_blank\" href=https://colab.research.google.com/notebooks/data_table.ipynb>data table notebook</a>'\n",
              "          + ' to learn more about interactive tables.';\n",
              "        element.innerHTML = '';\n",
              "        dataTable['output_type'] = 'display_data';\n",
              "        await google.colab.output.renderOutput(dataTable, element);\n",
              "        const docLink = document.createElement('div');\n",
              "        docLink.innerHTML = docLinkHtml;\n",
              "        element.appendChild(docLink);\n",
              "      }\n",
              "    </script>\n",
              "  </div>\n",
              "\n",
              "\n",
              "<div id=\"df-e200dc5b-217e-45b8-a401-048d6b0d398f\">\n",
              "  <button class=\"colab-df-quickchart\" onclick=\"quickchart('df-e200dc5b-217e-45b8-a401-048d6b0d398f')\"\n",
              "            title=\"Suggest charts\"\n",
              "            style=\"display:none;\">\n",
              "\n",
              "<svg xmlns=\"http://www.w3.org/2000/svg\" height=\"24px\"viewBox=\"0 0 24 24\"\n",
              "     width=\"24px\">\n",
              "    <g>\n",
              "        <path d=\"M19 3H5c-1.1 0-2 .9-2 2v14c0 1.1.9 2 2 2h14c1.1 0 2-.9 2-2V5c0-1.1-.9-2-2-2zM9 17H7v-7h2v7zm4 0h-2V7h2v10zm4 0h-2v-4h2v4z\"/>\n",
              "    </g>\n",
              "</svg>\n",
              "  </button>\n",
              "\n",
              "<style>\n",
              "  .colab-df-quickchart {\n",
              "      --bg-color: #E8F0FE;\n",
              "      --fill-color: #1967D2;\n",
              "      --hover-bg-color: #E2EBFA;\n",
              "      --hover-fill-color: #174EA6;\n",
              "      --disabled-fill-color: #AAA;\n",
              "      --disabled-bg-color: #DDD;\n",
              "  }\n",
              "\n",
              "  [theme=dark] .colab-df-quickchart {\n",
              "      --bg-color: #3B4455;\n",
              "      --fill-color: #D2E3FC;\n",
              "      --hover-bg-color: #434B5C;\n",
              "      --hover-fill-color: #FFFFFF;\n",
              "      --disabled-bg-color: #3B4455;\n",
              "      --disabled-fill-color: #666;\n",
              "  }\n",
              "\n",
              "  .colab-df-quickchart {\n",
              "    background-color: var(--bg-color);\n",
              "    border: none;\n",
              "    border-radius: 50%;\n",
              "    cursor: pointer;\n",
              "    display: none;\n",
              "    fill: var(--fill-color);\n",
              "    height: 32px;\n",
              "    padding: 0;\n",
              "    width: 32px;\n",
              "  }\n",
              "\n",
              "  .colab-df-quickchart:hover {\n",
              "    background-color: var(--hover-bg-color);\n",
              "    box-shadow: 0 1px 2px rgba(60, 64, 67, 0.3), 0 1px 3px 1px rgba(60, 64, 67, 0.15);\n",
              "    fill: var(--button-hover-fill-color);\n",
              "  }\n",
              "\n",
              "  .colab-df-quickchart-complete:disabled,\n",
              "  .colab-df-quickchart-complete:disabled:hover {\n",
              "    background-color: var(--disabled-bg-color);\n",
              "    fill: var(--disabled-fill-color);\n",
              "    box-shadow: none;\n",
              "  }\n",
              "\n",
              "  .colab-df-spinner {\n",
              "    border: 2px solid var(--fill-color);\n",
              "    border-color: transparent;\n",
              "    border-bottom-color: var(--fill-color);\n",
              "    animation:\n",
              "      spin 1s steps(1) infinite;\n",
              "  }\n",
              "\n",
              "  @keyframes spin {\n",
              "    0% {\n",
              "      border-color: transparent;\n",
              "      border-bottom-color: var(--fill-color);\n",
              "      border-left-color: var(--fill-color);\n",
              "    }\n",
              "    20% {\n",
              "      border-color: transparent;\n",
              "      border-left-color: var(--fill-color);\n",
              "      border-top-color: var(--fill-color);\n",
              "    }\n",
              "    30% {\n",
              "      border-color: transparent;\n",
              "      border-left-color: var(--fill-color);\n",
              "      border-top-color: var(--fill-color);\n",
              "      border-right-color: var(--fill-color);\n",
              "    }\n",
              "    40% {\n",
              "      border-color: transparent;\n",
              "      border-right-color: var(--fill-color);\n",
              "      border-top-color: var(--fill-color);\n",
              "    }\n",
              "    60% {\n",
              "      border-color: transparent;\n",
              "      border-right-color: var(--fill-color);\n",
              "    }\n",
              "    80% {\n",
              "      border-color: transparent;\n",
              "      border-right-color: var(--fill-color);\n",
              "      border-bottom-color: var(--fill-color);\n",
              "    }\n",
              "    90% {\n",
              "      border-color: transparent;\n",
              "      border-bottom-color: var(--fill-color);\n",
              "    }\n",
              "  }\n",
              "</style>\n",
              "\n",
              "  <script>\n",
              "    async function quickchart(key) {\n",
              "      const quickchartButtonEl =\n",
              "        document.querySelector('#' + key + ' button');\n",
              "      quickchartButtonEl.disabled = true;  // To prevent multiple clicks.\n",
              "      quickchartButtonEl.classList.add('colab-df-spinner');\n",
              "      try {\n",
              "        const charts = await google.colab.kernel.invokeFunction(\n",
              "            'suggestCharts', [key], {});\n",
              "      } catch (error) {\n",
              "        console.error('Error during call to suggestCharts:', error);\n",
              "      }\n",
              "      quickchartButtonEl.classList.remove('colab-df-spinner');\n",
              "      quickchartButtonEl.classList.add('colab-df-quickchart-complete');\n",
              "    }\n",
              "    (() => {\n",
              "      let quickchartButtonEl =\n",
              "        document.querySelector('#df-e200dc5b-217e-45b8-a401-048d6b0d398f button');\n",
              "      quickchartButtonEl.style.display =\n",
              "        google.colab.kernel.accessAllowed ? 'block' : 'none';\n",
              "    })();\n",
              "  </script>\n",
              "</div>\n",
              "\n",
              "    </div>\n",
              "  </div>\n"
            ],
            "application/vnd.google.colaboratory.intrinsic+json": {
              "type": "dataframe",
              "variable_name": "df",
              "summary": "{\n  \"name\": \"df\",\n  \"rows\": 2787,\n  \"fields\": [\n    {\n      \"column\": \"Date\",\n      \"properties\": {\n        \"dtype\": \"date\",\n        \"min\": \"2013-10-01 00:00:00\",\n        \"max\": \"2021-05-18 00:00:00\",\n        \"num_unique_values\": 2787,\n        \"samples\": [\n          \"2019-06-11 00:00:00\",\n          \"2021-05-03 00:00:00\",\n          \"2017-10-05 00:00:00\"\n        ],\n        \"semantic_type\": \"\",\n        \"description\": \"\"\n      }\n    },\n    {\n      \"column\": \"Currency\",\n      \"properties\": {\n        \"dtype\": \"category\",\n        \"num_unique_values\": 1,\n        \"samples\": [\n          \"BTC\"\n        ],\n        \"semantic_type\": \"\",\n        \"description\": \"\"\n      }\n    },\n    {\n      \"column\": \"Closing Price (USD)\",\n      \"properties\": {\n        \"dtype\": \"number\",\n        \"std\": 10887.847444369514,\n        \"min\": 108.58483,\n        \"max\": 63346.7890351052,\n        \"num_unique_values\": 2787,\n        \"samples\": [\n          7954.0062377205\n        ],\n        \"semantic_type\": \"\",\n        \"description\": \"\"\n      }\n    },\n    {\n      \"column\": \"24h Open (USD)\",\n      \"properties\": {\n        \"dtype\": \"number\",\n        \"std\": 10863.800772123866,\n        \"min\": 108.58483,\n        \"max\": 63562.6735446382,\n        \"num_unique_values\": 2787,\n        \"samples\": [\n          7600.9225047785\n        ],\n        \"semantic_type\": \"\",\n        \"description\": \"\"\n      }\n    },\n    {\n      \"column\": \"24h High (USD)\",\n      \"properties\": {\n        \"dtype\": \"number\",\n        \"std\": 11206.779756254147,\n        \"min\": 118.675,\n        \"max\": 64801.787869525,\n        \"num_unique_values\": 2787,\n        \"samples\": [\n          8064.9001353225\n        ],\n        \"semantic_type\": \"\",\n        \"description\": \"\"\n      }\n    },\n    {\n      \"column\": \"24h Low (USD)\",\n      \"properties\": {\n        \"dtype\": \"number\",\n        \"std\": 10475.811251828402,\n        \"min\": 83.32833,\n        \"max\": 62094.6329143272,\n        \"num_unique_values\": 2785,\n        \"samples\": [\n          7714.610306452\n        ],\n        \"semantic_type\": \"\",\n        \"description\": \"\"\n      }\n    }\n  ]\n}"
            }
          },
          "metadata": {},
          "execution_count": 2
        }
      ]
    },
    {
      "cell_type": "code",
      "source": [
        "df.info()"
      ],
      "metadata": {
        "colab": {
          "base_uri": "https://localhost:8080/"
        },
        "id": "gfKUUQ5f-bu4",
        "outputId": "c6bd8a1d-994c-4529-dd3b-909ff09657d4"
      },
      "execution_count": 3,
      "outputs": [
        {
          "output_type": "stream",
          "name": "stdout",
          "text": [
            "<class 'pandas.core.frame.DataFrame'>\n",
            "DatetimeIndex: 2787 entries, 2013-10-01 to 2021-05-18\n",
            "Data columns (total 5 columns):\n",
            " #   Column               Non-Null Count  Dtype  \n",
            "---  ------               --------------  -----  \n",
            " 0   Currency             2787 non-null   object \n",
            " 1   Closing Price (USD)  2787 non-null   float64\n",
            " 2   24h Open (USD)       2787 non-null   float64\n",
            " 3   24h High (USD)       2787 non-null   float64\n",
            " 4   24h Low (USD)        2787 non-null   float64\n",
            "dtypes: float64(4), object(1)\n",
            "memory usage: 130.6+ KB\n"
          ]
        }
      ]
    },
    {
      "cell_type": "code",
      "source": [
        "df.tail()"
      ],
      "metadata": {
        "colab": {
          "base_uri": "https://localhost:8080/",
          "height": 337
        },
        "id": "DIyznknw-qrN",
        "outputId": "2e294503-b87b-43b0-8096-8cc5e710ffaa"
      },
      "execution_count": 4,
      "outputs": [
        {
          "output_type": "execute_result",
          "data": {
            "text/plain": [
              "           Currency  Closing Price (USD)  24h Open (USD)  24h High (USD)  \\\n",
              "Date                                                                       \n",
              "2021-05-14      BTC         49764.132082    49596.778891    51448.798576   \n",
              "2021-05-15      BTC         50032.693137    49717.354353    51578.312545   \n",
              "2021-05-16      BTC         47885.625255    49926.035067    50690.802950   \n",
              "2021-05-17      BTC         45604.615754    46805.537852    49670.414174   \n",
              "2021-05-18      BTC         43144.471291    46439.336570    46622.853437   \n",
              "\n",
              "            24h Low (USD)  \n",
              "Date                       \n",
              "2021-05-14   46294.720180  \n",
              "2021-05-15   48944.346536  \n",
              "2021-05-16   47005.102292  \n",
              "2021-05-17   43868.638969  \n",
              "2021-05-18   42102.346430  "
            ],
            "text/html": [
              "\n",
              "  <div id=\"df-37bb95c8-1152-42f9-96a0-350f0605c7ad\" class=\"colab-df-container\">\n",
              "    <div>\n",
              "<style scoped>\n",
              "    .dataframe tbody tr th:only-of-type {\n",
              "        vertical-align: middle;\n",
              "    }\n",
              "\n",
              "    .dataframe tbody tr th {\n",
              "        vertical-align: top;\n",
              "    }\n",
              "\n",
              "    .dataframe thead th {\n",
              "        text-align: right;\n",
              "    }\n",
              "</style>\n",
              "<table border=\"1\" class=\"dataframe\">\n",
              "  <thead>\n",
              "    <tr style=\"text-align: right;\">\n",
              "      <th></th>\n",
              "      <th>Currency</th>\n",
              "      <th>Closing Price (USD)</th>\n",
              "      <th>24h Open (USD)</th>\n",
              "      <th>24h High (USD)</th>\n",
              "      <th>24h Low (USD)</th>\n",
              "    </tr>\n",
              "    <tr>\n",
              "      <th>Date</th>\n",
              "      <th></th>\n",
              "      <th></th>\n",
              "      <th></th>\n",
              "      <th></th>\n",
              "      <th></th>\n",
              "    </tr>\n",
              "  </thead>\n",
              "  <tbody>\n",
              "    <tr>\n",
              "      <th>2021-05-14</th>\n",
              "      <td>BTC</td>\n",
              "      <td>49764.132082</td>\n",
              "      <td>49596.778891</td>\n",
              "      <td>51448.798576</td>\n",
              "      <td>46294.720180</td>\n",
              "    </tr>\n",
              "    <tr>\n",
              "      <th>2021-05-15</th>\n",
              "      <td>BTC</td>\n",
              "      <td>50032.693137</td>\n",
              "      <td>49717.354353</td>\n",
              "      <td>51578.312545</td>\n",
              "      <td>48944.346536</td>\n",
              "    </tr>\n",
              "    <tr>\n",
              "      <th>2021-05-16</th>\n",
              "      <td>BTC</td>\n",
              "      <td>47885.625255</td>\n",
              "      <td>49926.035067</td>\n",
              "      <td>50690.802950</td>\n",
              "      <td>47005.102292</td>\n",
              "    </tr>\n",
              "    <tr>\n",
              "      <th>2021-05-17</th>\n",
              "      <td>BTC</td>\n",
              "      <td>45604.615754</td>\n",
              "      <td>46805.537852</td>\n",
              "      <td>49670.414174</td>\n",
              "      <td>43868.638969</td>\n",
              "    </tr>\n",
              "    <tr>\n",
              "      <th>2021-05-18</th>\n",
              "      <td>BTC</td>\n",
              "      <td>43144.471291</td>\n",
              "      <td>46439.336570</td>\n",
              "      <td>46622.853437</td>\n",
              "      <td>42102.346430</td>\n",
              "    </tr>\n",
              "  </tbody>\n",
              "</table>\n",
              "</div>\n",
              "    <div class=\"colab-df-buttons\">\n",
              "\n",
              "  <div class=\"colab-df-container\">\n",
              "    <button class=\"colab-df-convert\" onclick=\"convertToInteractive('df-37bb95c8-1152-42f9-96a0-350f0605c7ad')\"\n",
              "            title=\"Convert this dataframe to an interactive table.\"\n",
              "            style=\"display:none;\">\n",
              "\n",
              "  <svg xmlns=\"http://www.w3.org/2000/svg\" height=\"24px\" viewBox=\"0 -960 960 960\">\n",
              "    <path d=\"M120-120v-720h720v720H120Zm60-500h600v-160H180v160Zm220 220h160v-160H400v160Zm0 220h160v-160H400v160ZM180-400h160v-160H180v160Zm440 0h160v-160H620v160ZM180-180h160v-160H180v160Zm440 0h160v-160H620v160Z\"/>\n",
              "  </svg>\n",
              "    </button>\n",
              "\n",
              "  <style>\n",
              "    .colab-df-container {\n",
              "      display:flex;\n",
              "      gap: 12px;\n",
              "    }\n",
              "\n",
              "    .colab-df-convert {\n",
              "      background-color: #E8F0FE;\n",
              "      border: none;\n",
              "      border-radius: 50%;\n",
              "      cursor: pointer;\n",
              "      display: none;\n",
              "      fill: #1967D2;\n",
              "      height: 32px;\n",
              "      padding: 0 0 0 0;\n",
              "      width: 32px;\n",
              "    }\n",
              "\n",
              "    .colab-df-convert:hover {\n",
              "      background-color: #E2EBFA;\n",
              "      box-shadow: 0px 1px 2px rgba(60, 64, 67, 0.3), 0px 1px 3px 1px rgba(60, 64, 67, 0.15);\n",
              "      fill: #174EA6;\n",
              "    }\n",
              "\n",
              "    .colab-df-buttons div {\n",
              "      margin-bottom: 4px;\n",
              "    }\n",
              "\n",
              "    [theme=dark] .colab-df-convert {\n",
              "      background-color: #3B4455;\n",
              "      fill: #D2E3FC;\n",
              "    }\n",
              "\n",
              "    [theme=dark] .colab-df-convert:hover {\n",
              "      background-color: #434B5C;\n",
              "      box-shadow: 0px 1px 3px 1px rgba(0, 0, 0, 0.15);\n",
              "      filter: drop-shadow(0px 1px 2px rgba(0, 0, 0, 0.3));\n",
              "      fill: #FFFFFF;\n",
              "    }\n",
              "  </style>\n",
              "\n",
              "    <script>\n",
              "      const buttonEl =\n",
              "        document.querySelector('#df-37bb95c8-1152-42f9-96a0-350f0605c7ad button.colab-df-convert');\n",
              "      buttonEl.style.display =\n",
              "        google.colab.kernel.accessAllowed ? 'block' : 'none';\n",
              "\n",
              "      async function convertToInteractive(key) {\n",
              "        const element = document.querySelector('#df-37bb95c8-1152-42f9-96a0-350f0605c7ad');\n",
              "        const dataTable =\n",
              "          await google.colab.kernel.invokeFunction('convertToInteractive',\n",
              "                                                    [key], {});\n",
              "        if (!dataTable) return;\n",
              "\n",
              "        const docLinkHtml = 'Like what you see? Visit the ' +\n",
              "          '<a target=\"_blank\" href=https://colab.research.google.com/notebooks/data_table.ipynb>data table notebook</a>'\n",
              "          + ' to learn more about interactive tables.';\n",
              "        element.innerHTML = '';\n",
              "        dataTable['output_type'] = 'display_data';\n",
              "        await google.colab.output.renderOutput(dataTable, element);\n",
              "        const docLink = document.createElement('div');\n",
              "        docLink.innerHTML = docLinkHtml;\n",
              "        element.appendChild(docLink);\n",
              "      }\n",
              "    </script>\n",
              "  </div>\n",
              "\n",
              "\n",
              "<div id=\"df-06e6e979-c982-4df6-a25c-9d876a3ee18e\">\n",
              "  <button class=\"colab-df-quickchart\" onclick=\"quickchart('df-06e6e979-c982-4df6-a25c-9d876a3ee18e')\"\n",
              "            title=\"Suggest charts\"\n",
              "            style=\"display:none;\">\n",
              "\n",
              "<svg xmlns=\"http://www.w3.org/2000/svg\" height=\"24px\"viewBox=\"0 0 24 24\"\n",
              "     width=\"24px\">\n",
              "    <g>\n",
              "        <path d=\"M19 3H5c-1.1 0-2 .9-2 2v14c0 1.1.9 2 2 2h14c1.1 0 2-.9 2-2V5c0-1.1-.9-2-2-2zM9 17H7v-7h2v7zm4 0h-2V7h2v10zm4 0h-2v-4h2v4z\"/>\n",
              "    </g>\n",
              "</svg>\n",
              "  </button>\n",
              "\n",
              "<style>\n",
              "  .colab-df-quickchart {\n",
              "      --bg-color: #E8F0FE;\n",
              "      --fill-color: #1967D2;\n",
              "      --hover-bg-color: #E2EBFA;\n",
              "      --hover-fill-color: #174EA6;\n",
              "      --disabled-fill-color: #AAA;\n",
              "      --disabled-bg-color: #DDD;\n",
              "  }\n",
              "\n",
              "  [theme=dark] .colab-df-quickchart {\n",
              "      --bg-color: #3B4455;\n",
              "      --fill-color: #D2E3FC;\n",
              "      --hover-bg-color: #434B5C;\n",
              "      --hover-fill-color: #FFFFFF;\n",
              "      --disabled-bg-color: #3B4455;\n",
              "      --disabled-fill-color: #666;\n",
              "  }\n",
              "\n",
              "  .colab-df-quickchart {\n",
              "    background-color: var(--bg-color);\n",
              "    border: none;\n",
              "    border-radius: 50%;\n",
              "    cursor: pointer;\n",
              "    display: none;\n",
              "    fill: var(--fill-color);\n",
              "    height: 32px;\n",
              "    padding: 0;\n",
              "    width: 32px;\n",
              "  }\n",
              "\n",
              "  .colab-df-quickchart:hover {\n",
              "    background-color: var(--hover-bg-color);\n",
              "    box-shadow: 0 1px 2px rgba(60, 64, 67, 0.3), 0 1px 3px 1px rgba(60, 64, 67, 0.15);\n",
              "    fill: var(--button-hover-fill-color);\n",
              "  }\n",
              "\n",
              "  .colab-df-quickchart-complete:disabled,\n",
              "  .colab-df-quickchart-complete:disabled:hover {\n",
              "    background-color: var(--disabled-bg-color);\n",
              "    fill: var(--disabled-fill-color);\n",
              "    box-shadow: none;\n",
              "  }\n",
              "\n",
              "  .colab-df-spinner {\n",
              "    border: 2px solid var(--fill-color);\n",
              "    border-color: transparent;\n",
              "    border-bottom-color: var(--fill-color);\n",
              "    animation:\n",
              "      spin 1s steps(1) infinite;\n",
              "  }\n",
              "\n",
              "  @keyframes spin {\n",
              "    0% {\n",
              "      border-color: transparent;\n",
              "      border-bottom-color: var(--fill-color);\n",
              "      border-left-color: var(--fill-color);\n",
              "    }\n",
              "    20% {\n",
              "      border-color: transparent;\n",
              "      border-left-color: var(--fill-color);\n",
              "      border-top-color: var(--fill-color);\n",
              "    }\n",
              "    30% {\n",
              "      border-color: transparent;\n",
              "      border-left-color: var(--fill-color);\n",
              "      border-top-color: var(--fill-color);\n",
              "      border-right-color: var(--fill-color);\n",
              "    }\n",
              "    40% {\n",
              "      border-color: transparent;\n",
              "      border-right-color: var(--fill-color);\n",
              "      border-top-color: var(--fill-color);\n",
              "    }\n",
              "    60% {\n",
              "      border-color: transparent;\n",
              "      border-right-color: var(--fill-color);\n",
              "    }\n",
              "    80% {\n",
              "      border-color: transparent;\n",
              "      border-right-color: var(--fill-color);\n",
              "      border-bottom-color: var(--fill-color);\n",
              "    }\n",
              "    90% {\n",
              "      border-color: transparent;\n",
              "      border-bottom-color: var(--fill-color);\n",
              "    }\n",
              "  }\n",
              "</style>\n",
              "\n",
              "  <script>\n",
              "    async function quickchart(key) {\n",
              "      const quickchartButtonEl =\n",
              "        document.querySelector('#' + key + ' button');\n",
              "      quickchartButtonEl.disabled = true;  // To prevent multiple clicks.\n",
              "      quickchartButtonEl.classList.add('colab-df-spinner');\n",
              "      try {\n",
              "        const charts = await google.colab.kernel.invokeFunction(\n",
              "            'suggestCharts', [key], {});\n",
              "      } catch (error) {\n",
              "        console.error('Error during call to suggestCharts:', error);\n",
              "      }\n",
              "      quickchartButtonEl.classList.remove('colab-df-spinner');\n",
              "      quickchartButtonEl.classList.add('colab-df-quickchart-complete');\n",
              "    }\n",
              "    (() => {\n",
              "      let quickchartButtonEl =\n",
              "        document.querySelector('#df-06e6e979-c982-4df6-a25c-9d876a3ee18e button');\n",
              "      quickchartButtonEl.style.display =\n",
              "        google.colab.kernel.accessAllowed ? 'block' : 'none';\n",
              "    })();\n",
              "  </script>\n",
              "</div>\n",
              "\n",
              "    </div>\n",
              "  </div>\n"
            ],
            "application/vnd.google.colaboratory.intrinsic+json": {
              "type": "dataframe",
              "summary": "{\n  \"name\": \"df\",\n  \"rows\": 5,\n  \"fields\": [\n    {\n      \"column\": \"Date\",\n      \"properties\": {\n        \"dtype\": \"date\",\n        \"min\": \"2021-05-14 00:00:00\",\n        \"max\": \"2021-05-18 00:00:00\",\n        \"num_unique_values\": 5,\n        \"samples\": [\n          \"2021-05-15 00:00:00\",\n          \"2021-05-18 00:00:00\",\n          \"2021-05-16 00:00:00\"\n        ],\n        \"semantic_type\": \"\",\n        \"description\": \"\"\n      }\n    },\n    {\n      \"column\": \"Currency\",\n      \"properties\": {\n        \"dtype\": \"category\",\n        \"num_unique_values\": 1,\n        \"samples\": [\n          \"BTC\"\n        ],\n        \"semantic_type\": \"\",\n        \"description\": \"\"\n      }\n    },\n    {\n      \"column\": \"Closing Price (USD)\",\n      \"properties\": {\n        \"dtype\": \"number\",\n        \"std\": 2916.5186784641833,\n        \"min\": 43144.4712908603,\n        \"max\": 50032.6931367648,\n        \"num_unique_values\": 5,\n        \"samples\": [\n          50032.6931367648\n        ],\n        \"semantic_type\": \"\",\n        \"description\": \"\"\n      }\n    },\n    {\n      \"column\": \"24h Open (USD)\",\n      \"properties\": {\n        \"dtype\": \"number\",\n        \"std\": 1720.1702365921644,\n        \"min\": 46439.3365698047,\n        \"max\": 49926.035067459,\n        \"num_unique_values\": 5,\n        \"samples\": [\n          49717.3543531654\n        ],\n        \"semantic_type\": \"\",\n        \"description\": \"\"\n      }\n    },\n    {\n      \"column\": \"24h High (USD)\",\n      \"properties\": {\n        \"dtype\": \"number\",\n        \"std\": 2035.9897613463545,\n        \"min\": 46622.8534374849,\n        \"max\": 51578.3125446899,\n        \"num_unique_values\": 5,\n        \"samples\": [\n          51578.3125446899\n        ],\n        \"semantic_type\": \"\",\n        \"description\": \"\"\n      }\n    },\n    {\n      \"column\": \"24h Low (USD)\",\n      \"properties\": {\n        \"dtype\": \"number\",\n        \"std\": 2686.239730855477,\n        \"min\": 42102.3464296188,\n        \"max\": 48944.3465360214,\n        \"num_unique_values\": 5,\n        \"samples\": [\n          48944.3465360214\n        ],\n        \"semantic_type\": \"\",\n        \"description\": \"\"\n      }\n    }\n  ]\n}"
            }
          },
          "metadata": {},
          "execution_count": 4
        }
      ]
    },
    {
      "cell_type": "code",
      "source": [
        "len(df)"
      ],
      "metadata": {
        "colab": {
          "base_uri": "https://localhost:8080/"
        },
        "id": "tlvmW7JB-s72",
        "outputId": "6dfa6cd4-5212-4fcf-866c-969fb7d8d469"
      },
      "execution_count": 5,
      "outputs": [
        {
          "output_type": "execute_result",
          "data": {
            "text/plain": [
              "2787"
            ]
          },
          "metadata": {},
          "execution_count": 5
        }
      ]
    },
    {
      "cell_type": "markdown",
      "source": [
        "We've collected the historical price of Bitcoin for the past ~8 years but there's 2787 samples.\n",
        "\n",
        "Typically deep learning models like lots and lots of samples (where lots can thousands to tens of thousand to millions).\n",
        "\n",
        "A smaller number of samples is something we will run into with time series data problems.\n",
        "\n",
        "> **Note:** The **seasonality** of a time series dataset is referred as the number of samples per year. So for our Bitcoin data, it has a seasonality of daily value of 365 because we collect one sample per day."
      ],
      "metadata": {
        "id": "FtNh7sbt-7Zz"
      }
    },
    {
      "cell_type": "markdown",
      "source": [
        "### Types of time series\n",
        "\n",
        "* **Trend:** time series has a clear long-termn increase or decrease (may or may not be linear).\n",
        "* **Seasonal:** time series affected by seasonal factors such as time of the year (e.g. increased sales towards end of year).\n",
        "* **Cyclic:** time series shows rises and falls over an unfixed period, these tend to be longer/more variable than seasonal pattern.\n",
        "\n",
        "### Univariate and Multivariate time series data\n",
        "\n",
        "* **Univariate:** Only one variable (using the price of Bitcoin to predict the price of Bitcoin).\n",
        "* **Multivariate:** More than one variable (using the price of Bitcoin as well as the block reward size to predict the price of Bitcoin)."
      ],
      "metadata": {
        "id": "xgYnXi2jDs1R"
      }
    },
    {
      "cell_type": "code",
      "source": [
        "## Extract only the data we wanted"
      ],
      "metadata": {
        "id": "Nahq2puYDsZO"
      },
      "execution_count": 6,
      "outputs": []
    },
    {
      "cell_type": "code",
      "source": [
        "# Only want closing price for each day\n",
        "bitcoin_prices = pd.DataFrame(df[\"Closing Price (USD)\"]).rename(columns={\"Closing Price (USD)\": \"Price\"})\n",
        "bitcoin_prices.head()"
      ],
      "metadata": {
        "colab": {
          "base_uri": "https://localhost:8080/",
          "height": 235
        },
        "id": "EyalKxpyIGjA",
        "outputId": "9d8a6dd0-15cf-4830-8a0e-6a3a44a2423b"
      },
      "execution_count": 7,
      "outputs": [
        {
          "output_type": "execute_result",
          "data": {
            "text/plain": [
              "                Price\n",
              "Date                 \n",
              "2013-10-01  123.65499\n",
              "2013-10-02  125.45500\n",
              "2013-10-03  108.58483\n",
              "2013-10-04  118.67466\n",
              "2013-10-05  121.33866"
            ],
            "text/html": [
              "\n",
              "  <div id=\"df-e8689d8a-4ece-4ab5-ba34-1bc4d2506c1f\" class=\"colab-df-container\">\n",
              "    <div>\n",
              "<style scoped>\n",
              "    .dataframe tbody tr th:only-of-type {\n",
              "        vertical-align: middle;\n",
              "    }\n",
              "\n",
              "    .dataframe tbody tr th {\n",
              "        vertical-align: top;\n",
              "    }\n",
              "\n",
              "    .dataframe thead th {\n",
              "        text-align: right;\n",
              "    }\n",
              "</style>\n",
              "<table border=\"1\" class=\"dataframe\">\n",
              "  <thead>\n",
              "    <tr style=\"text-align: right;\">\n",
              "      <th></th>\n",
              "      <th>Price</th>\n",
              "    </tr>\n",
              "    <tr>\n",
              "      <th>Date</th>\n",
              "      <th></th>\n",
              "    </tr>\n",
              "  </thead>\n",
              "  <tbody>\n",
              "    <tr>\n",
              "      <th>2013-10-01</th>\n",
              "      <td>123.65499</td>\n",
              "    </tr>\n",
              "    <tr>\n",
              "      <th>2013-10-02</th>\n",
              "      <td>125.45500</td>\n",
              "    </tr>\n",
              "    <tr>\n",
              "      <th>2013-10-03</th>\n",
              "      <td>108.58483</td>\n",
              "    </tr>\n",
              "    <tr>\n",
              "      <th>2013-10-04</th>\n",
              "      <td>118.67466</td>\n",
              "    </tr>\n",
              "    <tr>\n",
              "      <th>2013-10-05</th>\n",
              "      <td>121.33866</td>\n",
              "    </tr>\n",
              "  </tbody>\n",
              "</table>\n",
              "</div>\n",
              "    <div class=\"colab-df-buttons\">\n",
              "\n",
              "  <div class=\"colab-df-container\">\n",
              "    <button class=\"colab-df-convert\" onclick=\"convertToInteractive('df-e8689d8a-4ece-4ab5-ba34-1bc4d2506c1f')\"\n",
              "            title=\"Convert this dataframe to an interactive table.\"\n",
              "            style=\"display:none;\">\n",
              "\n",
              "  <svg xmlns=\"http://www.w3.org/2000/svg\" height=\"24px\" viewBox=\"0 -960 960 960\">\n",
              "    <path d=\"M120-120v-720h720v720H120Zm60-500h600v-160H180v160Zm220 220h160v-160H400v160Zm0 220h160v-160H400v160ZM180-400h160v-160H180v160Zm440 0h160v-160H620v160ZM180-180h160v-160H180v160Zm440 0h160v-160H620v160Z\"/>\n",
              "  </svg>\n",
              "    </button>\n",
              "\n",
              "  <style>\n",
              "    .colab-df-container {\n",
              "      display:flex;\n",
              "      gap: 12px;\n",
              "    }\n",
              "\n",
              "    .colab-df-convert {\n",
              "      background-color: #E8F0FE;\n",
              "      border: none;\n",
              "      border-radius: 50%;\n",
              "      cursor: pointer;\n",
              "      display: none;\n",
              "      fill: #1967D2;\n",
              "      height: 32px;\n",
              "      padding: 0 0 0 0;\n",
              "      width: 32px;\n",
              "    }\n",
              "\n",
              "    .colab-df-convert:hover {\n",
              "      background-color: #E2EBFA;\n",
              "      box-shadow: 0px 1px 2px rgba(60, 64, 67, 0.3), 0px 1px 3px 1px rgba(60, 64, 67, 0.15);\n",
              "      fill: #174EA6;\n",
              "    }\n",
              "\n",
              "    .colab-df-buttons div {\n",
              "      margin-bottom: 4px;\n",
              "    }\n",
              "\n",
              "    [theme=dark] .colab-df-convert {\n",
              "      background-color: #3B4455;\n",
              "      fill: #D2E3FC;\n",
              "    }\n",
              "\n",
              "    [theme=dark] .colab-df-convert:hover {\n",
              "      background-color: #434B5C;\n",
              "      box-shadow: 0px 1px 3px 1px rgba(0, 0, 0, 0.15);\n",
              "      filter: drop-shadow(0px 1px 2px rgba(0, 0, 0, 0.3));\n",
              "      fill: #FFFFFF;\n",
              "    }\n",
              "  </style>\n",
              "\n",
              "    <script>\n",
              "      const buttonEl =\n",
              "        document.querySelector('#df-e8689d8a-4ece-4ab5-ba34-1bc4d2506c1f button.colab-df-convert');\n",
              "      buttonEl.style.display =\n",
              "        google.colab.kernel.accessAllowed ? 'block' : 'none';\n",
              "\n",
              "      async function convertToInteractive(key) {\n",
              "        const element = document.querySelector('#df-e8689d8a-4ece-4ab5-ba34-1bc4d2506c1f');\n",
              "        const dataTable =\n",
              "          await google.colab.kernel.invokeFunction('convertToInteractive',\n",
              "                                                    [key], {});\n",
              "        if (!dataTable) return;\n",
              "\n",
              "        const docLinkHtml = 'Like what you see? Visit the ' +\n",
              "          '<a target=\"_blank\" href=https://colab.research.google.com/notebooks/data_table.ipynb>data table notebook</a>'\n",
              "          + ' to learn more about interactive tables.';\n",
              "        element.innerHTML = '';\n",
              "        dataTable['output_type'] = 'display_data';\n",
              "        await google.colab.output.renderOutput(dataTable, element);\n",
              "        const docLink = document.createElement('div');\n",
              "        docLink.innerHTML = docLinkHtml;\n",
              "        element.appendChild(docLink);\n",
              "      }\n",
              "    </script>\n",
              "  </div>\n",
              "\n",
              "\n",
              "<div id=\"df-2a2c46fb-cb4e-4032-bd0c-5bd2b03a435b\">\n",
              "  <button class=\"colab-df-quickchart\" onclick=\"quickchart('df-2a2c46fb-cb4e-4032-bd0c-5bd2b03a435b')\"\n",
              "            title=\"Suggest charts\"\n",
              "            style=\"display:none;\">\n",
              "\n",
              "<svg xmlns=\"http://www.w3.org/2000/svg\" height=\"24px\"viewBox=\"0 0 24 24\"\n",
              "     width=\"24px\">\n",
              "    <g>\n",
              "        <path d=\"M19 3H5c-1.1 0-2 .9-2 2v14c0 1.1.9 2 2 2h14c1.1 0 2-.9 2-2V5c0-1.1-.9-2-2-2zM9 17H7v-7h2v7zm4 0h-2V7h2v10zm4 0h-2v-4h2v4z\"/>\n",
              "    </g>\n",
              "</svg>\n",
              "  </button>\n",
              "\n",
              "<style>\n",
              "  .colab-df-quickchart {\n",
              "      --bg-color: #E8F0FE;\n",
              "      --fill-color: #1967D2;\n",
              "      --hover-bg-color: #E2EBFA;\n",
              "      --hover-fill-color: #174EA6;\n",
              "      --disabled-fill-color: #AAA;\n",
              "      --disabled-bg-color: #DDD;\n",
              "  }\n",
              "\n",
              "  [theme=dark] .colab-df-quickchart {\n",
              "      --bg-color: #3B4455;\n",
              "      --fill-color: #D2E3FC;\n",
              "      --hover-bg-color: #434B5C;\n",
              "      --hover-fill-color: #FFFFFF;\n",
              "      --disabled-bg-color: #3B4455;\n",
              "      --disabled-fill-color: #666;\n",
              "  }\n",
              "\n",
              "  .colab-df-quickchart {\n",
              "    background-color: var(--bg-color);\n",
              "    border: none;\n",
              "    border-radius: 50%;\n",
              "    cursor: pointer;\n",
              "    display: none;\n",
              "    fill: var(--fill-color);\n",
              "    height: 32px;\n",
              "    padding: 0;\n",
              "    width: 32px;\n",
              "  }\n",
              "\n",
              "  .colab-df-quickchart:hover {\n",
              "    background-color: var(--hover-bg-color);\n",
              "    box-shadow: 0 1px 2px rgba(60, 64, 67, 0.3), 0 1px 3px 1px rgba(60, 64, 67, 0.15);\n",
              "    fill: var(--button-hover-fill-color);\n",
              "  }\n",
              "\n",
              "  .colab-df-quickchart-complete:disabled,\n",
              "  .colab-df-quickchart-complete:disabled:hover {\n",
              "    background-color: var(--disabled-bg-color);\n",
              "    fill: var(--disabled-fill-color);\n",
              "    box-shadow: none;\n",
              "  }\n",
              "\n",
              "  .colab-df-spinner {\n",
              "    border: 2px solid var(--fill-color);\n",
              "    border-color: transparent;\n",
              "    border-bottom-color: var(--fill-color);\n",
              "    animation:\n",
              "      spin 1s steps(1) infinite;\n",
              "  }\n",
              "\n",
              "  @keyframes spin {\n",
              "    0% {\n",
              "      border-color: transparent;\n",
              "      border-bottom-color: var(--fill-color);\n",
              "      border-left-color: var(--fill-color);\n",
              "    }\n",
              "    20% {\n",
              "      border-color: transparent;\n",
              "      border-left-color: var(--fill-color);\n",
              "      border-top-color: var(--fill-color);\n",
              "    }\n",
              "    30% {\n",
              "      border-color: transparent;\n",
              "      border-left-color: var(--fill-color);\n",
              "      border-top-color: var(--fill-color);\n",
              "      border-right-color: var(--fill-color);\n",
              "    }\n",
              "    40% {\n",
              "      border-color: transparent;\n",
              "      border-right-color: var(--fill-color);\n",
              "      border-top-color: var(--fill-color);\n",
              "    }\n",
              "    60% {\n",
              "      border-color: transparent;\n",
              "      border-right-color: var(--fill-color);\n",
              "    }\n",
              "    80% {\n",
              "      border-color: transparent;\n",
              "      border-right-color: var(--fill-color);\n",
              "      border-bottom-color: var(--fill-color);\n",
              "    }\n",
              "    90% {\n",
              "      border-color: transparent;\n",
              "      border-bottom-color: var(--fill-color);\n",
              "    }\n",
              "  }\n",
              "</style>\n",
              "\n",
              "  <script>\n",
              "    async function quickchart(key) {\n",
              "      const quickchartButtonEl =\n",
              "        document.querySelector('#' + key + ' button');\n",
              "      quickchartButtonEl.disabled = true;  // To prevent multiple clicks.\n",
              "      quickchartButtonEl.classList.add('colab-df-spinner');\n",
              "      try {\n",
              "        const charts = await google.colab.kernel.invokeFunction(\n",
              "            'suggestCharts', [key], {});\n",
              "      } catch (error) {\n",
              "        console.error('Error during call to suggestCharts:', error);\n",
              "      }\n",
              "      quickchartButtonEl.classList.remove('colab-df-spinner');\n",
              "      quickchartButtonEl.classList.add('colab-df-quickchart-complete');\n",
              "    }\n",
              "    (() => {\n",
              "      let quickchartButtonEl =\n",
              "        document.querySelector('#df-2a2c46fb-cb4e-4032-bd0c-5bd2b03a435b button');\n",
              "      quickchartButtonEl.style.display =\n",
              "        google.colab.kernel.accessAllowed ? 'block' : 'none';\n",
              "    })();\n",
              "  </script>\n",
              "</div>\n",
              "\n",
              "    </div>\n",
              "  </div>\n"
            ],
            "application/vnd.google.colaboratory.intrinsic+json": {
              "type": "dataframe",
              "variable_name": "bitcoin_prices",
              "summary": "{\n  \"name\": \"bitcoin_prices\",\n  \"rows\": 2787,\n  \"fields\": [\n    {\n      \"column\": \"Date\",\n      \"properties\": {\n        \"dtype\": \"date\",\n        \"min\": \"2013-10-01 00:00:00\",\n        \"max\": \"2021-05-18 00:00:00\",\n        \"num_unique_values\": 2787,\n        \"samples\": [\n          \"2019-06-11 00:00:00\",\n          \"2021-05-03 00:00:00\",\n          \"2017-10-05 00:00:00\"\n        ],\n        \"semantic_type\": \"\",\n        \"description\": \"\"\n      }\n    },\n    {\n      \"column\": \"Price\",\n      \"properties\": {\n        \"dtype\": \"number\",\n        \"std\": 10887.847444369514,\n        \"min\": 108.58483,\n        \"max\": 63346.7890351052,\n        \"num_unique_values\": 2787,\n        \"samples\": [\n          7954.0062377205,\n          56427.0431250152,\n          4186.78374\n        ],\n        \"semantic_type\": \"\",\n        \"description\": \"\"\n      }\n    }\n  ]\n}"
            }
          },
          "metadata": {},
          "execution_count": 7
        }
      ]
    },
    {
      "cell_type": "code",
      "source": [
        "import matplotlib.pyplot as plt\n",
        "bitcoin_prices.plot(figsize=(10,7))\n",
        "plt.ylabel(\"BTC Price\")\n",
        "plt.title(\"Price of Bitcoin from 1 October 2013 to 18 May 2021\", fontsize=16)\n",
        "plt.legend(fontsize=14);"
      ],
      "metadata": {
        "colab": {
          "base_uri": "https://localhost:8080/",
          "height": 470
        },
        "id": "ona_Rut7IgRO",
        "outputId": "d12cb1d5-86ec-478b-8252-d2de6ff489be"
      },
      "execution_count": 8,
      "outputs": [
        {
          "output_type": "display_data",
          "data": {
            "text/plain": [
              "<Figure size 1000x700 with 1 Axes>"
            ],
            "image/png": "[encoded data removed]"
          },
          "metadata": {}
        }
      ]
    },
    {
      "cell_type": "markdown",
      "source": [
        "## Importing time series data with Python's CSV module"
      ],
      "metadata": {
        "id": "jJHZI1xAJfUc"
      }
    },
    {
      "cell_type": "code",
      "source": [
        "# Importing and formatting historical Bitcoin data with Python\n",
        "import csv\n",
        "from datetime import datetime\n",
        "\n",
        "timesteps = []\n",
        "btc_price = []\n",
        "with open(\"/content/BTC_USD_2013-10-01_2021-05-18-CoinDesk.csv\", \"r\") as f:\n",
        "  csv_reader = csv.reader(f, delimiter=\",\")\n",
        "  next(csv_reader) # skip first line (get rid of column titles)\n",
        "  for line in csv_reader:\n",
        "    timesteps.append(datetime.strptime(line[1], \"%Y-%m-%d\")) # get the dates as dates (not as strings)\n",
        "    btc_price.append(float(line[2])) # get the closing price as float\n",
        "\n",
        "# View first 10 of each\n",
        "timesteps[:10], btc_price[:10]"
      ],
      "metadata": {
        "colab": {
          "base_uri": "https://localhost:8080/"
        },
        "id": "JOEh_YuwJN1W",
        "outputId": "89d1640a-4329-4aac-8220-5d4bc72f6976"
      },
      "execution_count": 9,
      "outputs": [
        {
          "output_type": "execute_result",
          "data": {
            "text/plain": [
              "([datetime.datetime(2013, 10, 1, 0, 0),\n",
              "  datetime.datetime(2013, 10, 2, 0, 0),\n",
              "  datetime.datetime(2013, 10, 3, 0, 0),\n",
              "  datetime.datetime(2013, 10, 4, 0, 0),\n",
              "  datetime.datetime(2013, 10, 5, 0, 0),\n",
              "  datetime.datetime(2013, 10, 6, 0, 0),\n",
              "  datetime.datetime(2013, 10, 7, 0, 0),\n",
              "  datetime.datetime(2013, 10, 8, 0, 0),\n",
              "  datetime.datetime(2013, 10, 9, 0, 0),\n",
              "  datetime.datetime(2013, 10, 10, 0, 0)],\n",
              " [123.65499,\n",
              "  125.455,\n",
              "  108.58483,\n",
              "  118.67466,\n",
              "  121.33866,\n",
              "  120.65533,\n",
              "  121.795,\n",
              "  123.033,\n",
              "  124.049,\n",
              "  125.96116])"
            ]
          },
          "metadata": {},
          "execution_count": 9
        }
      ]
    },
    {
      "cell_type": "code",
      "source": [
        "# Plot from csv\n",
        "import matplotlib.pyplot as plt\n",
        "import numpy as np\n",
        "plt.figure(figsize=(10,7))\n",
        "plt.plot(timesteps, btc_price)\n",
        "plt.ylabel(\"BTC Price\")\n",
        "plt.xlabel(\"Date\")\n",
        "plt.title(\"Price of Bitcoin from 1 October 2013 to 18 May 2021\", fontsize=16);\n",
        "#plt.legend() doesn't work for data from python csv"
      ],
      "metadata": {
        "colab": {
          "base_uri": "https://localhost:8080/",
          "height": 470
        },
        "id": "CwRU15dTL5ce",
        "outputId": "5db2695e-0dcf-466f-b44e-6a792d31dbad"
      },
      "execution_count": 10,
      "outputs": [
        {
          "output_type": "display_data",
          "data": {
            "text/plain": [
              "<Figure size 1000x700 with 1 Axes>"
            ],
            "image/png": "[encoded data removed]"
          },
          "metadata": {}
        }
      ]
    },
    {
      "cell_type": "markdown",
      "source": [
        "## Format data part 1: Create train and test sets of our time series data"
      ],
      "metadata": {
        "id": "RbBLYl5fRgvP"
      }
    },
    {
      "cell_type": "markdown",
      "source": [
        "### Creating train and test sets with time series data (The **WRONG** way)"
      ],
      "metadata": {
        "id": "rh2p6jBCRm9d"
      }
    },
    {
      "cell_type": "code",
      "source": [
        "# Get bitcoin date array\n",
        "timesteps = bitcoin_prices.index.to_numpy()\n",
        "prices = bitcoin_prices[\"Price\"].to_numpy()\n",
        "\n",
        "timesteps[:10], prices[:10]"
      ],
      "metadata": {
        "colab": {
          "base_uri": "https://localhost:8080/"
        },
        "id": "DwYrSXaERe6c",
        "outputId": "f980f9f9-61a9-4a7b-dc4f-457d9d89577c"
      },
      "execution_count": 11,
      "outputs": [
        {
          "output_type": "execute_result",
          "data": {
            "text/plain": [
              "(array(['2013-10-01T00:00:00.000000000', '2013-10-02T00:00:00.000000000',\n",
              "        '2013-10-03T00:00:00.000000000', '2013-10-04T00:00:00.000000000',\n",
              "        '2013-10-05T00:00:00.000000000', '2013-10-06T00:00:00.000000000',\n",
              "        '2013-10-07T00:00:00.000000000', '2013-10-08T00:00:00.000000000',\n",
              "        '2013-10-09T00:00:00.000000000', '2013-10-10T00:00:00.000000000'],\n",
              "       dtype='datetime64[ns]'),\n",
              " array([123.65499, 125.455  , 108.58483, 118.67466, 121.33866, 120.65533,\n",
              "        121.795  , 123.033  , 124.049  , 125.96116]))"
            ]
          },
          "metadata": {},
          "execution_count": 11
        }
      ]
    },
    {
      "cell_type": "code",
      "source": [
        "# Wrong way to make train/test set for time series data\n",
        "from sklearn.model_selection import train_test_split\n",
        "\n",
        "X_train, X_test, y_train, y_test = train_test_split(timesteps, prices, test_size=0.2, random_state=42)\n",
        "\n",
        "X_train.shape, X_test.shape, y_train.shape, y_test.shape"
      ],
      "metadata": {
        "colab": {
          "base_uri": "https://localhost:8080/"
        },
        "id": "qbSP0wCpSPzG",
        "outputId": "acdfd715-a82a-4668-b125-a3affff218a9"
      },
      "execution_count": 12,
      "outputs": [
        {
          "output_type": "execute_result",
          "data": {
            "text/plain": [
              "((2229,), (558,), (2229,), (558,))"
            ]
          },
          "metadata": {},
          "execution_count": 12
        }
      ]
    },
    {
      "cell_type": "code",
      "source": [
        "# Let's plot wrong train and test splits\n",
        "plt.figure(figsize=(10,7))\n",
        "plt.scatter(X_train, y_train, s=5, label=\"Train data\")\n",
        "plt.scatter(X_test, y_test, s=5, label=\"Test data\")\n",
        "plt.xlabel(\"Date\")\n",
        "plt.ylabel(\"BTC Price\")\n",
        "plt.legend(fontsize=14)\n",
        "plt.show();"
      ],
      "metadata": {
        "colab": {
          "base_uri": "https://localhost:8080/",
          "height": 453
        },
        "id": "P8wmYHPVTBnX",
        "outputId": "a2310129-71a8-4b17-8098-e5a6140fa402"
      },
      "execution_count": 13,
      "outputs": [
        {
          "output_type": "display_data",
          "data": {
            "text/plain": [
              "<Figure size 1000x700 with 1 Axes>"
            ],
            "image/png": "[encoded data removed]"
          },
          "metadata": {}
        }
      ]
    },
    {
      "cell_type": "markdown",
      "source": [
        "The issue with this is that it is a random split, our training data set is riddled with test data, which is a data leak. Data from the (pseudo) future leaks into past."
      ],
      "metadata": {
        "id": "RmG4-bWdUDVi"
      }
    },
    {
      "cell_type": "markdown",
      "source": [
        "### Create train and test sets for time series (the right way)\n",
        "\n",
        "We use time series split to create train set that represents the past, and test set that represents the (pseudo) future."
      ],
      "metadata": {
        "id": "2OYysuFLUAgP"
      }
    },
    {
      "cell_type": "code",
      "source": [
        "# Create train and test splits the right way for time series data\n",
        "split_size = int(0.8 * len(prices)) # 80% train, 20% test\n",
        "\n",
        "# Create train data splits (everything before the split)\n",
        "X_train, y_train = timesteps[:split_size], prices[:split_size]\n",
        "\n",
        "# Create test data splits (everything beyond the split)\n",
        "X_test, y_test = timesteps[split_size:], prices[split_size:]\n",
        "\n",
        "len(X_train), len(X_test), len(y_train), len(y_test)"
      ],
      "metadata": {
        "colab": {
          "base_uri": "https://localhost:8080/"
        },
        "id": "wybif4XUUzSv",
        "outputId": "5581a57d-19ae-4878-aec0-786fa0db25eb"
      },
      "execution_count": 14,
      "outputs": [
        {
          "output_type": "execute_result",
          "data": {
            "text/plain": [
              "(2229, 558, 2229, 558)"
            ]
          },
          "metadata": {},
          "execution_count": 14
        }
      ]
    },
    {
      "cell_type": "code",
      "source": [
        "# Plot correctly made splits\n",
        "plt.figure(figsize=(10,7))\n",
        "plt.scatter(X_train, y_train, s=5, label=\"Train data\")\n",
        "plt.scatter(X_test, y_test, s=5, label=\"Test data\")\n",
        "plt.xlabel(\"Date\")\n",
        "plt.ylabel(\"BTC Price\")\n",
        "plt.legend(fontsize=14)\n",
        "plt.show();"
      ],
      "metadata": {
        "colab": {
          "base_uri": "https://localhost:8080/",
          "height": 453
        },
        "id": "DNNDbNVXVlMV",
        "outputId": "a8511026-8b31-4edb-e2d1-c226d1031ecc"
      },
      "execution_count": 15,
      "outputs": [
        {
          "output_type": "display_data",
          "data": {
            "text/plain": [
              "<Figure size 1000x700 with 1 Axes>"
            ],
            "image/png": "[encoded data removed]"
          },
          "metadata": {}
        }
      ]
    },
    {
      "cell_type": "markdown",
      "source": [
        "## Create a plotting function\n",
        "\n",
        "Typing plotting code is tedious, let's functionize it."
      ],
      "metadata": {
        "id": "ymL8pTfbV9XB"
      }
    },
    {
      "cell_type": "code",
      "source": [
        "# Create a function to plot time series data\n",
        "def plot_time_series(timesteps, values, format=\".\", start=0, end=None, label=None):\n",
        "  \"\"\"\n",
        "  Plots timesteps (a series of points in time) against values (a series of values across timesteps).\n",
        "\n",
        "  Parameters\n",
        "  ----------\n",
        "  timesteps : array of timestep values\n",
        "  values : array of values across time\n",
        "  format : style of plot, default \".\"\n",
        "  start : where to start the plot (setting a values will index from start of timesteps and values)\n",
        "  end :  where to end the plot (similar to start but for the end)\n",
        "  label : label to show on plot about values, default None\n",
        "  \"\"\"\n",
        "  plt.plot(timesteps[start:end], values[start:end], format, label=label)\n",
        "  plt.xlabel(\"Time\")\n",
        "  plt.ylabel(\"BTC Price\")\n",
        "  if label:\n",
        "    plt.legend(fontsize=14)\n",
        "  plt.grid(True)"
      ],
      "metadata": {
        "id": "6pITv09dV04l"
      },
      "execution_count": 16,
      "outputs": []
    },
    {
      "cell_type": "code",
      "source": [
        "# Testing out plotting function\n",
        "plt.figure(figsize=(10,7))\n",
        "plot_time_series(timesteps=X_train, values=y_train, label=\"Train Data\")\n",
        "plot_time_series(timesteps=X_test, values=y_test, label=\"Test Data\")"
      ],
      "metadata": {
        "colab": {
          "base_uri": "https://localhost:8080/",
          "height": 453
        },
        "id": "rxKqEZH5Xcmu",
        "outputId": "bb3d3db8-bee4-4ac5-9ada-b459c6e6f9c6"
      },
      "execution_count": 17,
      "outputs": [
        {
          "output_type": "display_data",
          "data": {
            "text/plain": [
              "<Figure size 1000x700 with 1 Axes>"
            ],
            "image/png": "[encoded data removed]"
          },
          "metadata": {}
        }
      ]
    },
    {
      "cell_type": "markdown",
      "source": [
        "## Modelling Experiments\n",
        "\n",
        "We've got some Bitcoin historical data, to model it, let's run a series of modelling experiments and see which model performs best.\n",
        "\n",
        "Terms to be familiar with:\n",
        "* **Horizon** = number of timesteps into the future we're going to predict\n",
        "* **Window size** = number of timesteps we're going to use to predict horizon\n",
        "\n",
        "The experiments:\n",
        "\n",
        "0 - Naïve model (baseline)\n",
        "\n",
        "1 - Dense model (horizon=1, window=7)\n",
        "\n",
        "2 - Same as model 1 (horizon=1, window=30)\n",
        "\n",
        "3 - Same as model (horizon=7, window=30)\n",
        "\n",
        "4 - Conv1D (horizon=1, window=7)\n",
        "\n",
        "5 - LSTM (RNN) (horizon=1, window=7)\n",
        "\n",
        "6 - Same as model 1 (but with multivariate data) (horizon=1, window=7)\n",
        "\n",
        "7 - N-BEATS algorithmn (horizon=1, window=7)\n",
        "\n",
        "8 - Ensemble (horizon=1, window=7)\n",
        "\n",
        "9 - Future prediction model (horizon=1, window=7)\n",
        "\n",
        "10 - Same as model 1 (but with turkey data introduced) (horizon=1, window=7)"
      ],
      "metadata": {
        "id": "pru7xZ1Qs7mz"
      }
    },
    {
      "cell_type": "markdown",
      "source": [
        "## Model 0: Naïve forecast\n",
        "\n",
        "The formula looks like this:\n",
        "$$\\hat{y}_{t} = y_{t-1}$$\n",
        "\n",
        "The prediction at timestep t (y-hat) is equal to the value at timestep t-1 (previous timestep) - this is for a horizon of 1.\n",
        "\n",
        "**Ressource:** https://otexts.com/fpp3/simple-methods.html"
      ],
      "metadata": {
        "id": "rJTLHG22wn8c"
      }
    },
    {
      "cell_type": "code",
      "source": [
        "# Create a naive forecast\n",
        "naive_forecast = y_test[:-1]\n",
        "\n",
        "naive_forecast[:10], naive_forecast[-10:]"
      ],
      "metadata": {
        "colab": {
          "base_uri": "https://localhost:8080/"
        },
        "id": "8UUisrxJe9O7",
        "outputId": "f9250f84-712a-400d-f1bd-1add7fd1482e"
      },
      "execution_count": 18,
      "outputs": [
        {
          "output_type": "execute_result",
          "data": {
            "text/plain": [
              "(array([9226.48582088, 8794.35864452, 8798.04205463, 9081.18687849,\n",
              "        8711.53433917, 8760.89271814, 8749.52059102, 8656.97092235,\n",
              "        8500.64355816, 8469.2608989 ]),\n",
              " array([57107.12067189, 58788.20967893, 58102.19142623, 55715.54665129,\n",
              "        56573.5554719 , 52147.82118698, 49764.1320816 , 50032.69313676,\n",
              "        47885.62525472, 45604.61575361]))"
            ]
          },
          "metadata": {},
          "execution_count": 18
        }
      ]
    },
    {
      "cell_type": "code",
      "source": [
        "# Plot naive forecast\n",
        "plt.figure(figsize=(10,7))\n",
        "#plot_time_series(timesteps=X_train, values=y_train, label=\"Train Data\")\n",
        "plot_time_series(timesteps=X_test, values=y_test, format=\"-\", start=350, label=\"Test Data\")\n",
        "plot_time_series(timesteps=X_test[1:], values=naive_forecast, format=\"-\", start=350, label=\"Naive Forecast\")"
      ],
      "metadata": {
        "colab": {
          "base_uri": "https://localhost:8080/",
          "height": 453
        },
        "id": "xjGqTBYZzaPR",
        "outputId": "3e241775-45ae-483c-c419-8b8268a7165a"
      },
      "execution_count": 19,
      "outputs": [
        {
          "output_type": "display_data",
          "data": {
            "text/plain": [
              "<Figure size 1000x700 with 1 Axes>"
            ],
            "image/png": "[encoded data removed]"
          },
          "metadata": {}
        }
      ]
    },
    {
      "cell_type": "markdown",
      "source": [
        "## Evaluating a time series model\n",
        "\n",
        "Let's look into some evaluation metrics for time series forecasting.\n",
        "\n",
        "We are predicting a number, so that means we have a form of a regression problem and we'll need some regression-like metrics.\n",
        "\n",
        "A few common regression metrics (which can also be used for time series forecasting):\n",
        "* MAE - mean absolute error\n",
        "* MSE - mean squared error\n",
        "* RMSE - root mean squared error\n",
        "* MAPE/sMAPE - (symmetric) mean absolute percentage error\n",
        "* MASE - mean absolute scaled error\n",
        "\n",
        "For all the above metrics, lower is better.\n",
        "\n",
        "The main thing we're evaluating here is: how do our model's forecast (y_pred) compare against the actual values (y_true or ground truth values)?\n",
        "\n",
        "**Resource:** https://otexts.com/fpp3/accuracy.html"
      ],
      "metadata": {
        "id": "aMt9ZKkFFKpJ"
      }
    },
    {
      "cell_type": "code",
      "source": [
        "import tensorflow as tf"
      ],
      "metadata": {
        "id": "mdjxujp0FJ_f"
      },
      "execution_count": 20,
      "outputs": []
    },
    {
      "cell_type": "code",
      "source": [
        "# MASE implementation\n",
        "def mean_absolute_scaled_error(y_true, y_pred):\n",
        "  \"\"\"\n",
        "  Implement MASE (assuming no seasonality of data).\n",
        "  \"\"\"\n",
        "  mae = tf.reduce_mean(tf.abs(y_true-y_pred))\n",
        "\n",
        "  # Find MAE of naive forecast (no seasonality)\n",
        "  mae_naive_no_season = tf.reduce_mean(tf.abs(y_true[1:] - y_true[:-1])) # our seasonality is 1 day (hence the shift of 1)\n",
        "\n",
        "  return mae / mae_naive_no_season"
      ],
      "metadata": {
        "id": "GUjfGDlByZbS"
      },
      "execution_count": 21,
      "outputs": []
    },
    {
      "cell_type": "code",
      "source": [
        "mean_absolute_scaled_error(y_true=y_test[1:], y_pred=naive_forecast).numpy()"
      ],
      "metadata": {
        "colab": {
          "base_uri": "https://localhost:8080/"
        },
        "id": "P8L2KzcB1ZpU",
        "outputId": "8a80c6fe-53e2-43ce-b418-e3ea2a3128cc"
      },
      "execution_count": 22,
      "outputs": [
        {
          "output_type": "execute_result",
          "data": {
            "text/plain": [
              "0.9995699939182624"
            ]
          },
          "metadata": {},
          "execution_count": 22
        }
      ]
    },
    {
      "cell_type": "code",
      "source": [
        "# Create a function to take in model predictions and truth values and return evaluation metrics\n",
        "def evaluate_pred(y_true, y_pred):\n",
        "  # Make sure float32 datatype (for metric calculation)\n",
        "  y_true = tf.cast(y_true, dtype=tf.float32)\n",
        "  y_pred = tf.cast(y_pred, dtype=tf.float32)\n",
        "\n",
        "  # Calculate various evaluation metrics\n",
        "  mae = tf.keras.metrics.mae(y_true, y_pred)\n",
        "  mse = tf.keras.metrics.mse(y_true, y_pred)\n",
        "  rmse = tf.sqrt(mse)\n",
        "  mape = tf.keras.metrics.mape(y_true, y_pred)\n",
        "  mase = mean_absolute_scaled_error(y_true, y_pred)\n",
        "\n",
        "  return {\"mae\": mae.numpy(),\n",
        "          \"mse\": mse.numpy(),\n",
        "          \"rmse\": rmse.numpy(),\n",
        "          \"mape\": mape.numpy(),\n",
        "          \"mase\": mase.numpy()}"
      ],
      "metadata": {
        "id": "D384a3ib2ABi"
      },
      "execution_count": 23,
      "outputs": []
    },
    {
      "cell_type": "code",
      "source": [
        "naive_results = evaluate_pred(y_true=y_test[1:], y_pred=naive_forecast)\n",
        "naive_results"
      ],
      "metadata": {
        "colab": {
          "base_uri": "https://localhost:8080/"
        },
        "id": "KF0B5pp24ZmO",
        "outputId": "a3d7fd2f-ca09-44ec-dca7-0f2420641085"
      },
      "execution_count": 24,
      "outputs": [
        {
          "output_type": "execute_result",
          "data": {
            "text/plain": [
              "{'mae': 567.9802,\n",
              " 'mse': 1147547.0,\n",
              " 'rmse': 1071.2362,\n",
              " 'mape': 2.516525,\n",
              " 'mase': 0.99957}"
            ]
          },
          "metadata": {},
          "execution_count": 24
        }
      ]
    },
    {
      "cell_type": "markdown",
      "source": [
        "## Format Data Part 2: Windowing our dataset\n",
        "\n",
        "We window our time series dataset to turn our data into supervised learning problem.\n",
        "\n",
        "```\n",
        "Windowing for one week\n",
        "[0, 1, 2, 3, 4, 5, 6] -> [7]\n",
        "[1, 2, 3, 4, 5, 6, 7] -> [8]\n",
        "[2, 3, 4, 5, 6, 7, 8] -> [9]\n",
        "```\n",
        "\n",
        "**Resource (Sliding vs. Expanding Windows):** https://www.uber.com/en-DE/blog/forecasting-introduction/"
      ],
      "metadata": {
        "id": "KCzHTIK2De6V"
      }
    },
    {
      "cell_type": "code",
      "source": [
        "# What we want to do with our Bitcoin data\n",
        "print(f\"We want to use: {btc_price[:7]} to predict this: {btc_price[7]}\")"
      ],
      "metadata": {
        "colab": {
          "base_uri": "https://localhost:8080/"
        },
        "id": "OQTg59EnGZaQ",
        "outputId": "e067857d-3b9b-4898-9fb9-7bf1ec864f32"
      },
      "execution_count": 25,
      "outputs": [
        {
          "output_type": "stream",
          "name": "stdout",
          "text": [
            "We want to use: [123.65499, 125.455, 108.58483, 118.67466, 121.33866, 120.65533, 121.795] to predict this: 123.033\n"
          ]
        }
      ]
    },
    {
      "cell_type": "code",
      "source": [
        "# Setup global variables for window and horizon sizes\n",
        "HORIZON = 1 # predict next 1 day\n",
        "WINDOW_SIZE = 7 # use the past week of Bitcoin data to make the predictions"
      ],
      "metadata": {
        "id": "XmguUWZNH7IP"
      },
      "execution_count": 26,
      "outputs": []
    },
    {
      "cell_type": "code",
      "source": [
        "# Create function to label windowed data\n",
        "def get_labelled_windows(x, horizon=HORIZON):\n",
        "  \"\"\"\n",
        "  Create labels for windowed dataset.\n",
        "\n",
        "  E.g. if horizon = 1\n",
        "  Input: [0, 1, 2, 3, 4, 5, 6, 7] -> Output: ([0, 1, 2, 3, 4, 5, 6], 7)\n",
        "  \"\"\"\n",
        "  return x[:, :-horizon], x[:, -horizon:]"
      ],
      "metadata": {
        "id": "jxnLtyBfIReQ"
      },
      "execution_count": 27,
      "outputs": []
    },
    {
      "cell_type": "code",
      "source": [
        "# Test out the window labelling function\n",
        "test_window, test_label = get_labelled_windows(tf.expand_dims(tf.range(8), axis=0))\n",
        "print(f\"Window: {tf.squeeze(test_window).numpy()} -> Label: {tf.squeeze(test_label).numpy()}\")"
      ],
      "metadata": {
        "colab": {
          "base_uri": "https://localhost:8080/"
        },
        "id": "J9iLbO3QKXMr",
        "outputId": "75c5e522-9ecd-48eb-8629-8786463623f1"
      },
      "execution_count": 28,
      "outputs": [
        {
          "output_type": "stream",
          "name": "stdout",
          "text": [
            "Window: [0 1 2 3 4 5 6] -> Label: 7\n"
          ]
        }
      ]
    },
    {
      "cell_type": "markdown",
      "source": [
        "We need a way to do the above (which is only for small scale data) across our entire time series.\n",
        "\n",
        "We could do this with Python for loops, however, for large time series, that'd be quite slow.\n",
        "\n",
        "To speed things up, we'll leverage NumPy's array indexing.\n",
        "\n",
        "Our function will:\n",
        "1. Create a window step of specific window size.\n",
        "2. Use NumPy indexing to create a 2D array of multiple window steps, for example:\n",
        "```\n",
        "[[0, 1, 2, 3, 4, 5, 6],\n",
        "[1, 2, 3, 4, 5, 6, 7],\n",
        "[2, 3, 4, 5, 6, 7, 8]]\n",
        "```\n",
        "3. Uses the 2D array of multiple window steps to index on a target series (e.g. the historical price of Bitcoin).\n",
        "4. Uses the `get_labelled_windows()` function we created above to turn the window steps with specified horizon.\n",
        "\n",
        "**Resource:** The function we want to create has been adapted from the following article: https://medium.com/towards-data-science/fast-and-robust-sliding-window-vectorization-with-numpy-3ad950ed62f5"
      ],
      "metadata": {
        "id": "6XpRS859YJMd"
      }
    },
    {
      "cell_type": "code",
      "source": [
        "# Create function to view NumPy arrays as windows\n",
        "def make_windows(x, window_size=WINDOW_SIZE, horizon=HORIZON):\n",
        "  \"\"\"\n",
        "  Turns a 1D array into a 2D array of sequential labelled window_size with horizon size labels.\n",
        "  \"\"\"\n",
        "  # 1. Create a window of a specific window_size (add the horizon on the end for labelling later)\n",
        "  window_step = np.expand_dims(np.arange(window_size + horizon), axis=0)\n",
        "  print(window_step)\n",
        "  # 2. Create a 2D array of multiple window steps (minum 1 to account for 0 indexing)\n",
        "  window_indexes = window_step + np.expand_dims(np.arange(len(x) - (window_size + horizon - 1)), axis=0).T # create 2D array of windows of window_size\n",
        "  print(window_indexes)\n",
        "  # 3. Index on the target array (a time series) with 2D array of multiple window steps\n",
        "  windowed_array = x[window_indexes]\n",
        "  # 4. Get the labelled windows\n",
        "  windows, labels = get_labelled_windows(windowed_array, horizon=horizon)\n",
        "  return windows, labels\n"
      ],
      "metadata": {
        "id": "nEjfj472aNiT"
      },
      "execution_count": 29,
      "outputs": []
    },
    {
      "cell_type": "code",
      "source": [
        "full_windows, full_labels = make_windows(prices)"
      ],
      "metadata": {
        "id": "oY0UfItkyZFa",
        "colab": {
          "base_uri": "https://localhost:8080/"
        },
        "outputId": "36e11423-fa1f-43a9-e7e1-93b69c63aff1"
      },
      "execution_count": 30,
      "outputs": [
        {
          "output_type": "stream",
          "name": "stdout",
          "text": [
            "[[0 1 2 3 4 5 6 7]]\n",
            "[[   0    1    2 ...    5    6    7]\n",
            " [   1    2    3 ...    6    7    8]\n",
            " [   2    3    4 ...    7    8    9]\n",
            " ...\n",
            " [2777 2778 2779 ... 2782 2783 2784]\n",
            " [2778 2779 2780 ... 2783 2784 2785]\n",
            " [2779 2780 2781 ... 2784 2785 2786]]\n"
          ]
        }
      ]
    },
    {
      "cell_type": "code",
      "source": [
        "# View the first 3 windows/labels\n",
        "for i in range(3):\n",
        "  print(f\"Window: {full_windows[i]} -> Label: {full_labels[i]}\")"
      ],
      "metadata": {
        "colab": {
          "base_uri": "https://localhost:8080/"
        },
        "id": "TbxfT49Fy3iP",
        "outputId": "40b1f59f-7dad-4517-b87f-1185ff96474e"
      },
      "execution_count": 31,
      "outputs": [
        {
          "output_type": "stream",
          "name": "stdout",
          "text": [
            "Window: [123.65499 125.455   108.58483 118.67466 121.33866 120.65533 121.795  ] -> Label: [123.033]\n",
            "Window: [125.455   108.58483 118.67466 121.33866 120.65533 121.795   123.033  ] -> Label: [124.049]\n",
            "Window: [108.58483 118.67466 121.33866 120.65533 121.795   123.033   124.049  ] -> Label: [125.96116]\n"
          ]
        }
      ]
    },
    {
      "cell_type": "code",
      "source": [
        "# View the last 3 windows/labels\n",
        "for i in range(3):\n",
        "  print(f\"Window: {full_windows[i-3]} -> Label: {full_labels[i-3]}\")"
      ],
      "metadata": {
        "colab": {
          "base_uri": "https://localhost:8080/"
        },
        "id": "m3Ei6YLvzYPq",
        "outputId": "1597c98d-81f8-464c-fc51-07c5f4654717"
      },
      "execution_count": 32,
      "outputs": [
        {
          "output_type": "stream",
          "name": "stdout",
          "text": [
            "Window: [58788.20967893 58102.19142623 55715.54665129 56573.5554719\n",
            " 52147.82118698 49764.1320816  50032.69313676] -> Label: [47885.62525472]\n",
            "Window: [58102.19142623 55715.54665129 56573.5554719  52147.82118698\n",
            " 49764.1320816  50032.69313676 47885.62525472] -> Label: [45604.61575361]\n",
            "Window: [55715.54665129 56573.5554719  52147.82118698 49764.1320816\n",
            " 50032.69313676 47885.62525472 45604.61575361] -> Label: [43144.47129086]\n"
          ]
        }
      ]
    },
    {
      "cell_type": "markdown",
      "source": [
        "> **Note:** We can find a function which achieves similar reasults to the ones we implemented above at `tf.keras.preprocessing.timeseries_dataset_from_array()`. It takes an array and returns a windowed dataset. It has the benefit of returning data in the form of tf.data.Dataset instance. https://www.tensorflow.org/api_docs/python/tf/keras/preprocessing/timeseries_dataset_from_array"
      ],
      "metadata": {
        "id": "bjw4SixYzxdK"
      }
    },
    {
      "cell_type": "markdown",
      "source": [
        "## Turning windows into training and test sets\n"
      ],
      "metadata": {
        "id": "01zJca9i16cR"
      }
    },
    {
      "cell_type": "code",
      "source": [
        "# Make the train/test splits\n",
        "def make_train_test_split(windows, labels, test_split=0.2):\n",
        "  \"\"\"\n",
        "  Split matching pairs of windows and labels into train and test splits.\n",
        "  \"\"\"\n",
        "  split_size = int(len(windows) * (1-test_split)) # this will default to 80% train and 20% test\n",
        "  train_windows = windows[:split_size]\n",
        "  train_labels = labels[:split_size]\n",
        "  test_windows = windows[split_size:]\n",
        "  test_labels = labels[split_size:]\n",
        "  return train_windows, test_windows, train_labels, test_labels"
      ],
      "metadata": {
        "id": "apL0mAxi1ygh"
      },
      "execution_count": 33,
      "outputs": []
    },
    {
      "cell_type": "code",
      "source": [
        "# Create train and test windows\n",
        "train_windows, test_windows, train_labels, test_labels = make_train_test_split(full_windows, full_labels)\n",
        "len(train_windows), len(test_windows), len(train_labels), len(test_labels)"
      ],
      "metadata": {
        "colab": {
          "base_uri": "https://localhost:8080/"
        },
        "id": "8pVV8Pk39-kP",
        "outputId": "c9973f69-a4a4-4d4f-d4db-26c8fed98bd1"
      },
      "execution_count": 34,
      "outputs": [
        {
          "output_type": "execute_result",
          "data": {
            "text/plain": [
              "(2224, 556, 2224, 556)"
            ]
          },
          "metadata": {},
          "execution_count": 34
        }
      ]
    },
    {
      "cell_type": "code",
      "source": [
        "# Check to see if train labels are the same (before and after window split)\n",
        "np.array_equal(np.squeeze(train_labels[:-HORIZON-1]), y_train[WINDOW_SIZE:])"
      ],
      "metadata": {
        "colab": {
          "base_uri": "https://localhost:8080/"
        },
        "id": "n0CeI81h-SAS",
        "outputId": "8c793008-7008-43e2-af4d-57d8aa125f27"
      },
      "execution_count": 35,
      "outputs": [
        {
          "output_type": "execute_result",
          "data": {
            "text/plain": [
              "True"
            ]
          },
          "metadata": {},
          "execution_count": 35
        }
      ]
    },
    {
      "cell_type": "markdown",
      "source": [
        "## Make a modelling checkpoint callback\n",
        "\n",
        "Because our model's performance will fluctuate from experiment to experiment, we're going to write a model checkpoint so we can compare apples to apples.\n",
        "\n",
        "More specifically, we want to compare each of our model's best performance against other model's best performance.\n",
        "\n",
        "For example if our model performs best on epoch 55 (but we're training for 100 epochs), we want to load and evaluate the model saved on epoch 55.\n",
        "\n",
        "We can create a modelling checkpoint callback using the following: https://www.tensorflow.org/api_docs/python/tf/keras/callbacks/ModelCheckpoint"
      ],
      "metadata": {
        "id": "3NCGHnt2H5AW"
      }
    },
    {
      "cell_type": "code",
      "source": [
        "import os\n",
        "\n",
        "# Create a function to implement a ModelCheckpoint callback with a specific filename\n",
        "def create_model_checkpoint(model_name, save_path=\"model_experiments\"):\n",
        "  return tf.keras.callbacks.ModelCheckpoint(filepath=os.path.join(save_path, model_name) + \".keras\",\n",
        "                                            verbose=0,\n",
        "                                            save_best_only=True)"
      ],
      "metadata": {
        "id": "dUP9pPiuH7iO"
      },
      "execution_count": 36,
      "outputs": []
    },
    {
      "cell_type": "markdown",
      "source": [
        "## Model 1: Dense Model (Window = 7, Horizon = 1)\n",
        "\n",
        "Our first deep model is going to be a simple dense model:\n",
        "* A single dense layer with 128 hidden units and ReLU\n",
        "* An output layer with linear activation (no activation)\n",
        "* Adam optimization and MAE loss function\n",
        "* Batch size of 128\n",
        "* 100 epochs"
      ],
      "metadata": {
        "id": "D9xGHTYRJ_RD"
      }
    },
    {
      "cell_type": "code",
      "source": [
        "import tensorflow as tf\n",
        "from tensorflow.keras import layers\n",
        "\n",
        "tf.random.set_seed(42)\n",
        "\n",
        "model_1 = tf.keras.Sequential([\n",
        "    layers.Dense(128, activation=\"relu\"),\n",
        "    layers.Dense(HORIZON, activation=\"linear\")\n",
        "], name =\"model_1_dense\")\n",
        "\n",
        "model_1.compile(loss=\"mae\",\n",
        "                optimizer=tf.keras.optimizers.Adam(),\n",
        "                metrics=[\"mae\", \"mse\"])\n",
        "\n",
        "model_1.fit(x=train_windows,\n",
        "            y=train_labels,\n",
        "            epochs=100,\n",
        "            verbose=1,\n",
        "            batch_size=128,\n",
        "            validation_data=(test_windows, test_labels),\n",
        "            callbacks=[create_model_checkpoint(model_name=model_1.name)])"
      ],
      "metadata": {
        "colab": {
          "base_uri": "https://localhost:8080/"
        },
        "id": "G28C_UbvJskN",
        "outputId": "539fafa8-d6c7-464e-efb6-cb7b9290f8bd"
      },
      "execution_count": 37,
      "outputs": [
        {
          "output_type": "stream",
          "name": "stdout",
          "text": [
            "Epoch 1/100\n",
            "\u001b[1m18/18\u001b[0m \u001b[32m━━━━━━━━━━━━━━━━━━━━\u001b[0m\u001b[37m\u001b[0m \u001b[1m3s\u001b[0m 78ms/step - loss: 1835.8187 - mae: 1835.8187 - mse: 9592765.0000 - val_loss: 2907.5745 - val_mae: 2907.5745 - val_mse: 19661410.0000\n",
            "Epoch 2/100\n",
            "\u001b[1m18/18\u001b[0m \u001b[32m━━━━━━━━━━━━━━━━━━━━\u001b[0m\u001b[37m\u001b[0m \u001b[1m0s\u001b[0m 11ms/step - loss: 394.2656 - mae: 394.2656 - mse: 535426.7500 - val_loss: 1400.3684 - val_mae: 1400.3684 - val_mse: 5337706.0000\n",
            "Epoch 3/100\n",
            "\u001b[1m18/18\u001b[0m \u001b[32m━━━━━━━━━━━━━━━━━━━━\u001b[0m\u001b[37m\u001b[0m \u001b[1m0s\u001b[0m 7ms/step - loss: 217.8841 - mae: 217.8841 - mse: 227040.9375 - val_loss: 1273.0764 - val_mae: 1273.0764 - val_mse: 4561503.0000\n",
            "Epoch 4/100\n",
            "\u001b[1m18/18\u001b[0m \u001b[32m━━━━━━━━━━━━━━━━━━━━\u001b[0m\u001b[37m\u001b[0m \u001b[1m0s\u001b[0m 7ms/step - loss: 196.7730 - mae: 196.7730 - mse: 192629.6250 - val_loss: 1097.7994 - val_mae: 1097.7994 - val_mse: 3792640.7500\n",
            "Epoch 5/100\n",
            "\u001b[1m18/18\u001b[0m \u001b[32m━━━━━━━━━━━━━━━━━━━━\u001b[0m\u001b[37m\u001b[0m \u001b[1m0s\u001b[0m 7ms/step - loss: 184.1175 - mae: 184.1175 - mse: 174440.1250 - val_loss: 1049.7981 - val_mae: 1049.7981 - val_mse: 3537684.2500\n",
            "Epoch 6/100\n",
            "\u001b[1m18/18\u001b[0m \u001b[32m━━━━━━━━━━━━━━━━━━━━\u001b[0m\u001b[37m\u001b[0m \u001b[1m0s\u001b[0m 7ms/step - loss: 177.0140 - mae: 177.0140 - mse: 167266.9375 - val_loss: 1044.1034 - val_mae: 1044.1034 - val_mse: 3404871.2500\n",
            "Epoch 7/100\n",
            "\u001b[1m18/18\u001b[0m \u001b[32m━━━━━━━━━━━━━━━━━━━━\u001b[0m\u001b[37m\u001b[0m \u001b[1m0s\u001b[0m 9ms/step - loss: 172.7266 - mae: 172.7266 - mse: 156593.5312 - val_loss: 998.8748 - val_mae: 998.8748 - val_mse: 3165554.7500\n",
            "Epoch 8/100\n",
            "\u001b[1m18/18\u001b[0m \u001b[32m━━━━━━━━━━━━━━━━━━━━\u001b[0m\u001b[37m\u001b[0m \u001b[1m0s\u001b[0m 7ms/step - loss: 166.9127 - mae: 166.9127 - mse: 147617.5156 - val_loss: 970.9280 - val_mae: 970.9280 - val_mse: 2978929.7500\n",
            "Epoch 9/100\n",
            "\u001b[1m18/18\u001b[0m \u001b[32m━━━━━━━━━━━━━━━━━━━━\u001b[0m\u001b[37m\u001b[0m \u001b[1m0s\u001b[0m 7ms/step - loss: 162.1412 - mae: 162.1412 - mse: 139242.7969 - val_loss: 940.4843 - val_mae: 940.4843 - val_mse: 2797668.2500\n",
            "Epoch 10/100\n",
            "\u001b[1m18/18\u001b[0m \u001b[32m━━━━━━━━━━━━━━━━━━━━\u001b[0m\u001b[37m\u001b[0m \u001b[1m0s\u001b[0m 7ms/step - loss: 157.7947 - mae: 157.7947 - mse: 131393.8125 - val_loss: 910.1121 - val_mae: 910.1121 - val_mse: 2627504.5000\n",
            "Epoch 11/100\n",
            "\u001b[1m18/18\u001b[0m \u001b[32m━━━━━━━━━━━━━━━━━━━━\u001b[0m\u001b[37m\u001b[0m \u001b[1m0s\u001b[0m 7ms/step - loss: 153.0779 - mae: 153.0779 - mse: 123875.3828 - val_loss: 870.9526 - val_mae: 870.9526 - val_mse: 2450884.0000\n",
            "Epoch 12/100\n",
            "\u001b[1m18/18\u001b[0m \u001b[32m━━━━━━━━━━━━━━━━━━━━\u001b[0m\u001b[37m\u001b[0m \u001b[1m0s\u001b[0m 7ms/step - loss: 148.2858 - mae: 148.2858 - mse: 117292.8281 - val_loss: 823.3585 - val_mae: 823.3585 - val_mse: 2289428.2500\n",
            "Epoch 13/100\n",
            "\u001b[1m18/18\u001b[0m \u001b[32m━━━━━━━━━━━━━━━━━━━━\u001b[0m\u001b[37m\u001b[0m \u001b[1m0s\u001b[0m 8ms/step - loss: 144.8284 - mae: 144.8284 - mse: 112775.7656 - val_loss: 802.3070 - val_mae: 802.3070 - val_mse: 2187218.5000\n",
            "Epoch 14/100\n",
            "\u001b[1m18/18\u001b[0m \u001b[32m━━━━━━━━━━━━━━━━━━━━\u001b[0m\u001b[37m\u001b[0m \u001b[1m0s\u001b[0m 9ms/step - loss: 142.4858 - mae: 142.4858 - mse: 108411.6016 - val_loss: 785.2291 - val_mae: 785.2291 - val_mse: 2090922.8750\n",
            "Epoch 15/100\n",
            "\u001b[1m18/18\u001b[0m \u001b[32m━━━━━━━━━━━━━━━━━━━━\u001b[0m\u001b[37m\u001b[0m \u001b[1m0s\u001b[0m 10ms/step - loss: 139.4427 - mae: 139.4427 - mse: 103614.9609 - val_loss: 767.4185 - val_mae: 767.4185 - val_mse: 1992393.0000\n",
            "Epoch 16/100\n",
            "\u001b[1m18/18\u001b[0m \u001b[32m━━━━━━━━━━━━━━━━━━━━\u001b[0m\u001b[37m\u001b[0m \u001b[1m0s\u001b[0m 11ms/step - loss: 135.8300 - mae: 135.8300 - mse: 99680.1094 - val_loss: 749.4426 - val_mae: 749.4426 - val_mse: 1895360.5000\n",
            "Epoch 17/100\n",
            "\u001b[1m18/18\u001b[0m \u001b[32m━━━━━━━━━━━━━━━━━━━━\u001b[0m\u001b[37m\u001b[0m \u001b[1m0s\u001b[0m 11ms/step - loss: 132.4887 - mae: 132.4887 - mse: 95492.2578 - val_loss: 718.3208 - val_mae: 718.3208 - val_mse: 1754521.3750\n",
            "Epoch 18/100\n",
            "\u001b[1m18/18\u001b[0m \u001b[32m━━━━━━━━━━━━━━━━━━━━\u001b[0m\u001b[37m\u001b[0m \u001b[1m0s\u001b[0m 12ms/step - loss: 129.5379 - mae: 129.5379 - mse: 91675.8828 - val_loss: 707.6218 - val_mae: 707.6218 - val_mse: 1687392.6250\n",
            "Epoch 19/100\n",
            "\u001b[1m18/18\u001b[0m \u001b[32m━━━━━━━━━━━━━━━━━━━━\u001b[0m\u001b[37m\u001b[0m \u001b[1m0s\u001b[0m 11ms/step - loss: 128.3611 - mae: 128.3611 - mse: 90017.7500 - val_loss: 700.5212 - val_mae: 700.5212 - val_mse: 1641633.3750\n",
            "Epoch 20/100\n",
            "\u001b[1m18/18\u001b[0m \u001b[32m━━━━━━━━━━━━━━━━━━━━\u001b[0m\u001b[37m\u001b[0m \u001b[1m0s\u001b[0m 12ms/step - loss: 125.7656 - mae: 125.7656 - mse: 86895.5625 - val_loss: 686.0342 - val_mae: 686.0342 - val_mse: 1602758.6250\n",
            "Epoch 21/100\n",
            "\u001b[1m18/18\u001b[0m \u001b[32m━━━━━━━━━━━━━━━━━━━━\u001b[0m\u001b[37m\u001b[0m \u001b[1m0s\u001b[0m 13ms/step - loss: 125.3287 - mae: 125.3287 - mse: 87023.8984 - val_loss: 677.1310 - val_mae: 677.1310 - val_mse: 1568555.7500\n",
            "Epoch 22/100\n",
            "\u001b[1m18/18\u001b[0m \u001b[32m━━━━━━━━━━━━━━━━━━━━\u001b[0m\u001b[37m\u001b[0m \u001b[1m0s\u001b[0m 10ms/step - loss: 123.2426 - mae: 123.2426 - mse: 84778.0938 - val_loss: 671.0398 - val_mae: 671.0398 - val_mse: 1528000.2500\n",
            "Epoch 23/100\n",
            "\u001b[1m18/18\u001b[0m \u001b[32m━━━━━━━━━━━━━━━━━━━━\u001b[0m\u001b[37m\u001b[0m \u001b[1m0s\u001b[0m 7ms/step - loss: 124.0670 - mae: 124.0670 - mse: 85066.4297 - val_loss: 663.2872 - val_mae: 663.2872 - val_mse: 1519611.0000\n",
            "Epoch 24/100\n",
            "\u001b[1m18/18\u001b[0m \u001b[32m━━━━━━━━━━━━━━━━━━━━\u001b[0m\u001b[37m\u001b[0m \u001b[1m0s\u001b[0m 7ms/step - loss: 121.4970 - mae: 121.4970 - mse: 83246.2500 - val_loss: 656.9631 - val_mae: 656.9631 - val_mse: 1493537.8750\n",
            "Epoch 25/100\n",
            "\u001b[1m18/18\u001b[0m \u001b[32m━━━━━━━━━━━━━━━━━━━━\u001b[0m\u001b[37m\u001b[0m \u001b[1m0s\u001b[0m 7ms/step - loss: 124.7291 - mae: 124.7291 - mse: 85278.7969 - val_loss: 649.2588 - val_mae: 649.2588 - val_mse: 1450933.7500\n",
            "Epoch 26/100\n",
            "\u001b[1m18/18\u001b[0m \u001b[32m━━━━━━━━━━━━━━━━━━━━\u001b[0m\u001b[37m\u001b[0m \u001b[1m0s\u001b[0m 6ms/step - loss: 119.2315 - mae: 119.2315 - mse: 81241.9219 - val_loss: 656.5210 - val_mae: 656.5210 - val_mse: 1486339.5000\n",
            "Epoch 27/100\n",
            "\u001b[1m18/18\u001b[0m \u001b[32m━━━━━━━━━━━━━━━━━━━━\u001b[0m\u001b[37m\u001b[0m \u001b[1m0s\u001b[0m 6ms/step - loss: 119.0849 - mae: 119.0849 - mse: 81485.4922 - val_loss: 659.0630 - val_mae: 659.0630 - val_mse: 1492874.3750\n",
            "Epoch 28/100\n",
            "\u001b[1m18/18\u001b[0m \u001b[32m━━━━━━━━━━━━━━━━━━━━\u001b[0m\u001b[37m\u001b[0m \u001b[1m0s\u001b[0m 8ms/step - loss: 119.0084 - mae: 119.0084 - mse: 81424.3125 - val_loss: 664.4221 - val_mae: 664.4221 - val_mse: 1505218.1250\n",
            "Epoch 29/100\n",
            "\u001b[1m18/18\u001b[0m \u001b[32m━━━━━━━━━━━━━━━━━━━━\u001b[0m\u001b[37m\u001b[0m \u001b[1m0s\u001b[0m 9ms/step - loss: 118.1081 - mae: 118.1081 - mse: 81020.7500 - val_loss: 635.6951 - val_mae: 635.6951 - val_mse: 1403086.6250\n",
            "Epoch 30/100\n",
            "\u001b[1m18/18\u001b[0m \u001b[32m━━━━━━━━━━━━━━━━━━━━\u001b[0m\u001b[37m\u001b[0m \u001b[1m0s\u001b[0m 6ms/step - loss: 117.3879 - mae: 117.3879 - mse: 79315.8516 - val_loss: 661.0882 - val_mae: 661.0882 - val_mse: 1481319.3750\n",
            "Epoch 31/100\n",
            "\u001b[1m18/18\u001b[0m \u001b[32m━━━━━━━━━━━━━━━━━━━━\u001b[0m\u001b[37m\u001b[0m \u001b[1m0s\u001b[0m 6ms/step - loss: 116.8217 - mae: 116.8217 - mse: 79802.8828 - val_loss: 636.0424 - val_mae: 636.0424 - val_mse: 1400264.0000\n",
            "Epoch 32/100\n",
            "\u001b[1m18/18\u001b[0m \u001b[32m━━━━━━━━━━━━━━━━━━━━\u001b[0m\u001b[37m\u001b[0m \u001b[1m0s\u001b[0m 6ms/step - loss: 115.7356 - mae: 115.7356 - mse: 78179.6797 - val_loss: 650.6083 - val_mae: 650.6083 - val_mse: 1438647.6250\n",
            "Epoch 33/100\n",
            "\u001b[1m18/18\u001b[0m \u001b[32m━━━━━━━━━━━━━━━━━━━━\u001b[0m\u001b[37m\u001b[0m \u001b[1m0s\u001b[0m 7ms/step - loss: 115.3381 - mae: 115.3381 - mse: 78359.6250 - val_loss: 619.8924 - val_mae: 619.8924 - val_mse: 1345895.5000\n",
            "Epoch 34/100\n",
            "\u001b[1m18/18\u001b[0m \u001b[32m━━━━━━━━━━━━━━━━━━━━\u001b[0m\u001b[37m\u001b[0m \u001b[1m0s\u001b[0m 6ms/step - loss: 114.2558 - mae: 114.2558 - mse: 76463.6484 - val_loss: 629.7665 - val_mae: 629.7665 - val_mse: 1371622.5000\n",
            "Epoch 35/100\n",
            "\u001b[1m18/18\u001b[0m \u001b[32m━━━━━━━━━━━━━━━━━━━━\u001b[0m\u001b[37m\u001b[0m \u001b[1m0s\u001b[0m 5ms/step - loss: 113.8109 - mae: 113.8109 - mse: 76524.0391 - val_loss: 631.6878 - val_mae: 631.6878 - val_mse: 1373818.3750\n",
            "Epoch 36/100\n",
            "\u001b[1m18/18\u001b[0m \u001b[32m━━━━━━━━━━━━━━━━━━━━\u001b[0m\u001b[37m\u001b[0m \u001b[1m0s\u001b[0m 8ms/step - loss: 113.4354 - mae: 113.4354 - mse: 76197.0391 - val_loss: 634.0789 - val_mae: 634.0789 - val_mse: 1377310.3750\n",
            "Epoch 37/100\n",
            "\u001b[1m18/18\u001b[0m \u001b[32m━━━━━━━━━━━━━━━━━━━━\u001b[0m\u001b[37m\u001b[0m \u001b[1m0s\u001b[0m 7ms/step - loss: 113.2935 - mae: 113.2935 - mse: 76107.5234 - val_loss: 613.2101 - val_mae: 613.2101 - val_mse: 1318513.2500\n",
            "Epoch 38/100\n",
            "\u001b[1m18/18\u001b[0m \u001b[32m━━━━━━━━━━━━━━━━━━━━\u001b[0m\u001b[37m\u001b[0m \u001b[1m0s\u001b[0m 9ms/step - loss: 111.6635 - mae: 111.6635 - mse: 74730.5938 - val_loss: 612.8237 - val_mae: 612.8237 - val_mse: 1314520.6250\n",
            "Epoch 39/100\n",
            "\u001b[1m18/18\u001b[0m \u001b[32m━━━━━━━━━━━━━━━━━━━━\u001b[0m\u001b[37m\u001b[0m \u001b[1m0s\u001b[0m 6ms/step - loss: 111.2330 - mae: 111.2330 - mse: 74663.9297 - val_loss: 641.8625 - val_mae: 641.8625 - val_mse: 1389469.0000\n",
            "Epoch 40/100\n",
            "\u001b[1m18/18\u001b[0m \u001b[32m━━━━━━━━━━━━━━━━━━━━\u001b[0m\u001b[37m\u001b[0m \u001b[1m0s\u001b[0m 7ms/step - loss: 112.5914 - mae: 112.5914 - mse: 75744.4062 - val_loss: 606.1740 - val_mae: 606.1740 - val_mse: 1291818.7500\n",
            "Epoch 41/100\n",
            "\u001b[1m18/18\u001b[0m \u001b[32m━━━━━━━━━━━━━━━━━━━━\u001b[0m\u001b[37m\u001b[0m \u001b[1m0s\u001b[0m 6ms/step - loss: 110.3252 - mae: 110.3252 - mse: 73866.7578 - val_loss: 624.2110 - val_mae: 624.2110 - val_mse: 1333717.1250\n",
            "Epoch 42/100\n",
            "\u001b[1m18/18\u001b[0m \u001b[32m━━━━━━━━━━━━━━━━━━━━\u001b[0m\u001b[37m\u001b[0m \u001b[1m0s\u001b[0m 7ms/step - loss: 112.0992 - mae: 112.0992 - mse: 74780.4766 - val_loss: 598.7068 - val_mae: 598.7068 - val_mse: 1268876.8750\n",
            "Epoch 43/100\n",
            "\u001b[1m18/18\u001b[0m \u001b[32m━━━━━━━━━━━━━━━━━━━━\u001b[0m\u001b[37m\u001b[0m \u001b[1m0s\u001b[0m 6ms/step - loss: 109.4010 - mae: 109.4010 - mse: 73082.5000 - val_loss: 605.4435 - val_mae: 605.4435 - val_mse: 1282397.6250\n",
            "Epoch 44/100\n",
            "\u001b[1m18/18\u001b[0m \u001b[32m━━━━━━━━━━━━━━━━━━━━\u001b[0m\u001b[37m\u001b[0m \u001b[1m0s\u001b[0m 6ms/step - loss: 109.7926 - mae: 109.7926 - mse: 73330.6250 - val_loss: 625.0698 - val_mae: 625.0698 - val_mse: 1328789.2500\n",
            "Epoch 45/100\n",
            "\u001b[1m18/18\u001b[0m \u001b[32m━━━━━━━━━━━━━━━━━━━━\u001b[0m\u001b[37m\u001b[0m \u001b[1m0s\u001b[0m 6ms/step - loss: 110.6370 - mae: 110.6370 - mse: 73897.2812 - val_loss: 613.1373 - val_mae: 613.1373 - val_mse: 1296709.0000\n",
            "Epoch 46/100\n",
            "\u001b[1m18/18\u001b[0m \u001b[32m━━━━━━━━━━━━━━━━━━━━\u001b[0m\u001b[37m\u001b[0m \u001b[1m0s\u001b[0m 6ms/step - loss: 110.3172 - mae: 110.3172 - mse: 73590.6875 - val_loss: 603.5566 - val_mae: 603.5566 - val_mse: 1272070.0000\n",
            "Epoch 47/100\n",
            "\u001b[1m18/18\u001b[0m \u001b[32m━━━━━━━━━━━━━━━━━━━━\u001b[0m\u001b[37m\u001b[0m \u001b[1m0s\u001b[0m 7ms/step - loss: 109.8568 - mae: 109.8568 - mse: 73117.4766 - val_loss: 594.6708 - val_mae: 594.6708 - val_mse: 1249983.2500\n",
            "Epoch 48/100\n",
            "\u001b[1m18/18\u001b[0m \u001b[32m━━━━━━━━━━━━━━━━━━━━\u001b[0m\u001b[37m\u001b[0m \u001b[1m0s\u001b[0m 6ms/step - loss: 108.7546 - mae: 108.7546 - mse: 72415.3594 - val_loss: 596.6093 - val_mae: 596.6093 - val_mse: 1253027.5000\n",
            "Epoch 49/100\n",
            "\u001b[1m18/18\u001b[0m \u001b[32m━━━━━━━━━━━━━━━━━━━━\u001b[0m\u001b[37m\u001b[0m \u001b[1m0s\u001b[0m 6ms/step - loss: 108.7338 - mae: 108.7338 - mse: 72412.7109 - val_loss: 594.7444 - val_mae: 594.7444 - val_mse: 1247290.7500\n",
            "Epoch 50/100\n",
            "\u001b[1m18/18\u001b[0m \u001b[32m━━━━━━━━━━━━━━━━━━━━\u001b[0m\u001b[37m\u001b[0m \u001b[1m0s\u001b[0m 7ms/step - loss: 108.3657 - mae: 108.3657 - mse: 72078.0625 - val_loss: 584.7722 - val_mae: 584.7722 - val_mse: 1218669.3750\n",
            "Epoch 51/100\n",
            "\u001b[1m18/18\u001b[0m \u001b[32m━━━━━━━━━━━━━━━━━━━━\u001b[0m\u001b[37m\u001b[0m \u001b[1m0s\u001b[0m 6ms/step - loss: 108.1254 - mae: 108.1254 - mse: 71543.0078 - val_loss: 584.7968 - val_mae: 584.7968 - val_mse: 1220427.2500\n",
            "Epoch 52/100\n",
            "\u001b[1m18/18\u001b[0m \u001b[32m━━━━━━━━━━━━━━━━━━━━\u001b[0m\u001b[37m\u001b[0m \u001b[1m0s\u001b[0m 6ms/step - loss: 109.0950 - mae: 109.0950 - mse: 71753.7422 - val_loss: 586.4863 - val_mae: 586.4863 - val_mse: 1224003.8750\n",
            "Epoch 53/100\n",
            "\u001b[1m18/18\u001b[0m \u001b[32m━━━━━━━━━━━━━━━━━━━━\u001b[0m\u001b[37m\u001b[0m \u001b[1m0s\u001b[0m 6ms/step - loss: 108.7582 - mae: 108.7582 - mse: 71759.2969 - val_loss: 589.2520 - val_mae: 589.2520 - val_mse: 1230115.8750\n",
            "Epoch 54/100\n",
            "\u001b[1m18/18\u001b[0m \u001b[32m━━━━━━━━━━━━━━━━━━━━\u001b[0m\u001b[37m\u001b[0m \u001b[1m0s\u001b[0m 7ms/step - loss: 108.3923 - mae: 108.3923 - mse: 71666.9531 - val_loss: 582.6938 - val_mae: 582.6938 - val_mse: 1212271.3750\n",
            "Epoch 55/100\n",
            "\u001b[1m18/18\u001b[0m \u001b[32m━━━━━━━━━━━━━━━━━━━━\u001b[0m\u001b[37m\u001b[0m \u001b[1m0s\u001b[0m 6ms/step - loss: 108.2722 - mae: 108.2722 - mse: 71275.5625 - val_loss: 586.7202 - val_mae: 586.7202 - val_mse: 1222102.7500\n",
            "Epoch 56/100\n",
            "\u001b[1m18/18\u001b[0m \u001b[32m━━━━━━━━━━━━━━━━━━━━\u001b[0m\u001b[37m\u001b[0m \u001b[1m0s\u001b[0m 6ms/step - loss: 108.2168 - mae: 108.2168 - mse: 71433.6016 - val_loss: 582.7213 - val_mae: 582.7213 - val_mse: 1211440.7500\n",
            "Epoch 57/100\n",
            "\u001b[1m18/18\u001b[0m \u001b[32m━━━━━━━━━━━━━━━━━━━━\u001b[0m\u001b[37m\u001b[0m \u001b[1m0s\u001b[0m 7ms/step - loss: 107.6549 - mae: 107.6549 - mse: 71144.5703 - val_loss: 582.2246 - val_mae: 582.2246 - val_mse: 1202777.5000\n",
            "Epoch 58/100\n",
            "\u001b[1m18/18\u001b[0m \u001b[32m━━━━━━━━━━━━━━━━━━━━\u001b[0m\u001b[37m\u001b[0m \u001b[1m0s\u001b[0m 6ms/step - loss: 109.4617 - mae: 109.4617 - mse: 71387.6875 - val_loss: 585.3358 - val_mae: 585.3358 - val_mse: 1216947.6250\n",
            "Epoch 59/100\n",
            "\u001b[1m18/18\u001b[0m \u001b[32m━━━━━━━━━━━━━━━━━━━━\u001b[0m\u001b[37m\u001b[0m \u001b[1m0s\u001b[0m 9ms/step - loss: 107.8169 - mae: 107.8169 - mse: 71135.3594 - val_loss: 582.0071 - val_mae: 582.0071 - val_mse: 1207348.6250\n",
            "Epoch 60/100\n",
            "\u001b[1m18/18\u001b[0m \u001b[32m━━━━━━━━━━━━━━━━━━━━\u001b[0m\u001b[37m\u001b[0m \u001b[1m0s\u001b[0m 7ms/step - loss: 107.4625 - mae: 107.4625 - mse: 70903.2812 - val_loss: 579.4600 - val_mae: 579.4600 - val_mse: 1199582.5000\n",
            "Epoch 61/100\n",
            "\u001b[1m18/18\u001b[0m \u001b[32m━━━━━━━━━━━━━━━━━━━━\u001b[0m\u001b[37m\u001b[0m \u001b[1m0s\u001b[0m 6ms/step - loss: 108.6735 - mae: 108.6735 - mse: 71276.8516 - val_loss: 595.2154 - val_mae: 595.2154 - val_mse: 1239247.2500\n",
            "Epoch 62/100\n",
            "\u001b[1m18/18\u001b[0m \u001b[32m━━━━━━━━━━━━━━━━━━━━\u001b[0m\u001b[37m\u001b[0m \u001b[1m0s\u001b[0m 6ms/step - loss: 107.9828 - mae: 107.9828 - mse: 71303.4219 - val_loss: 581.6818 - val_mae: 581.6818 - val_mse: 1204926.6250\n",
            "Epoch 63/100\n",
            "\u001b[1m18/18\u001b[0m \u001b[32m━━━━━━━━━━━━━━━━━━━━\u001b[0m\u001b[37m\u001b[0m \u001b[1m0s\u001b[0m 7ms/step - loss: 107.3539 - mae: 107.3539 - mse: 70930.6484 - val_loss: 579.0901 - val_mae: 579.0901 - val_mse: 1198004.2500\n",
            "Epoch 64/100\n",
            "\u001b[1m18/18\u001b[0m \u001b[32m━━━━━━━━━━━━━━━━━━━━\u001b[0m\u001b[37m\u001b[0m \u001b[1m0s\u001b[0m 7ms/step - loss: 107.1851 - mae: 107.1851 - mse: 70821.8828 - val_loss: 577.6036 - val_mae: 577.6036 - val_mse: 1192534.5000\n",
            "Epoch 65/100\n",
            "\u001b[1m18/18\u001b[0m \u001b[32m━━━━━━━━━━━━━━━━━━━━\u001b[0m\u001b[37m\u001b[0m \u001b[1m0s\u001b[0m 8ms/step - loss: 109.0415 - mae: 109.0415 - mse: 71276.4688 - val_loss: 580.9954 - val_mae: 580.9954 - val_mse: 1202195.5000\n",
            "Epoch 66/100\n",
            "\u001b[1m18/18\u001b[0m \u001b[32m━━━━━━━━━━━━━━━━━━━━\u001b[0m\u001b[37m\u001b[0m \u001b[1m0s\u001b[0m 7ms/step - loss: 107.8814 - mae: 107.8814 - mse: 70930.3047 - val_loss: 577.2164 - val_mae: 577.2164 - val_mse: 1188652.8750\n",
            "Epoch 67/100\n",
            "\u001b[1m18/18\u001b[0m \u001b[32m━━━━━━━━━━━━━━━━━━━━\u001b[0m\u001b[37m\u001b[0m \u001b[1m0s\u001b[0m 5ms/step - loss: 107.6715 - mae: 107.6715 - mse: 70731.3047 - val_loss: 580.4790 - val_mae: 580.4790 - val_mse: 1199962.5000\n",
            "Epoch 68/100\n",
            "\u001b[1m18/18\u001b[0m \u001b[32m━━━━━━━━━━━━━━━━━━━━\u001b[0m\u001b[37m\u001b[0m \u001b[1m0s\u001b[0m 8ms/step - loss: 108.0145 - mae: 108.0145 - mse: 70892.9688 - val_loss: 579.4677 - val_mae: 579.4677 - val_mse: 1189697.5000\n",
            "Epoch 69/100\n",
            "\u001b[1m18/18\u001b[0m \u001b[32m━━━━━━━━━━━━━━━━━━━━\u001b[0m\u001b[37m\u001b[0m \u001b[1m0s\u001b[0m 6ms/step - loss: 107.8809 - mae: 107.8809 - mse: 70590.6328 - val_loss: 579.3703 - val_mae: 579.3703 - val_mse: 1196822.7500\n",
            "Epoch 70/100\n",
            "\u001b[1m18/18\u001b[0m \u001b[32m━━━━━━━━━━━━━━━━━━━━\u001b[0m\u001b[37m\u001b[0m \u001b[1m0s\u001b[0m 9ms/step - loss: 107.8123 - mae: 107.8123 - mse: 70776.3047 - val_loss: 575.8853 - val_mae: 575.8853 - val_mse: 1186637.1250\n",
            "Epoch 71/100\n",
            "\u001b[1m18/18\u001b[0m \u001b[32m━━━━━━━━━━━━━━━━━━━━\u001b[0m\u001b[37m\u001b[0m \u001b[1m0s\u001b[0m 6ms/step - loss: 106.7363 - mae: 106.7363 - mse: 70253.2891 - val_loss: 582.8751 - val_mae: 582.8751 - val_mse: 1205115.7500\n",
            "Epoch 72/100\n",
            "\u001b[1m18/18\u001b[0m \u001b[32m━━━━━━━━━━━━━━━━━━━━\u001b[0m\u001b[37m\u001b[0m \u001b[1m0s\u001b[0m 9ms/step - loss: 107.7645 - mae: 107.7645 - mse: 70807.1719 - val_loss: 575.1502 - val_mae: 575.1502 - val_mse: 1184496.0000\n",
            "Epoch 73/100\n",
            "\u001b[1m18/18\u001b[0m \u001b[32m━━━━━━━━━━━━━━━━━━━━\u001b[0m\u001b[37m\u001b[0m \u001b[1m0s\u001b[0m 6ms/step - loss: 106.8631 - mae: 106.8631 - mse: 70203.0391 - val_loss: 583.3384 - val_mae: 583.3384 - val_mse: 1206506.8750\n",
            "Epoch 74/100\n",
            "\u001b[1m18/18\u001b[0m \u001b[32m━━━━━━━━━━━━━━━━━━━━\u001b[0m\u001b[37m\u001b[0m \u001b[1m0s\u001b[0m 6ms/step - loss: 107.5262 - mae: 107.5262 - mse: 70570.3203 - val_loss: 575.2443 - val_mae: 575.2443 - val_mse: 1183693.2500\n",
            "Epoch 75/100\n",
            "\u001b[1m18/18\u001b[0m \u001b[32m━━━━━━━━━━━━━━━━━━━━\u001b[0m\u001b[37m\u001b[0m \u001b[1m0s\u001b[0m 7ms/step - loss: 106.1582 - mae: 106.1582 - mse: 69925.2188 - val_loss: 574.8645 - val_mae: 574.8645 - val_mse: 1183843.8750\n",
            "Epoch 76/100\n",
            "\u001b[1m18/18\u001b[0m \u001b[32m━━━━━━━━━━━━━━━━━━━━\u001b[0m\u001b[37m\u001b[0m \u001b[1m0s\u001b[0m 5ms/step - loss: 107.5048 - mae: 107.5048 - mse: 70304.2109 - val_loss: 574.8953 - val_mae: 574.8953 - val_mse: 1184242.3750\n",
            "Epoch 77/100\n",
            "\u001b[1m18/18\u001b[0m \u001b[32m━━━━━━━━━━━━━━━━━━━━\u001b[0m\u001b[37m\u001b[0m \u001b[1m0s\u001b[0m 6ms/step - loss: 106.7841 - mae: 106.7841 - mse: 69939.9453 - val_loss: 582.5714 - val_mae: 582.5714 - val_mse: 1190181.1250\n",
            "Epoch 78/100\n",
            "\u001b[1m18/18\u001b[0m \u001b[32m━━━━━━━━━━━━━━━━━━━━\u001b[0m\u001b[37m\u001b[0m \u001b[1m0s\u001b[0m 5ms/step - loss: 107.9786 - mae: 107.9786 - mse: 70298.6797 - val_loss: 584.2074 - val_mae: 584.2074 - val_mse: 1207754.3750\n",
            "Epoch 79/100\n",
            "\u001b[1m18/18\u001b[0m \u001b[32m━━━━━━━━━━━━━━━━━━━━\u001b[0m\u001b[37m\u001b[0m \u001b[1m0s\u001b[0m 6ms/step - loss: 107.5732 - mae: 107.5732 - mse: 70531.0156 - val_loss: 574.9618 - val_mae: 574.9618 - val_mse: 1183142.5000\n",
            "Epoch 80/100\n",
            "\u001b[1m18/18\u001b[0m \u001b[32m━━━━━━━━━━━━━━━━━━━━\u001b[0m\u001b[37m\u001b[0m \u001b[1m0s\u001b[0m 6ms/step - loss: 106.1387 - mae: 106.1387 - mse: 69848.9609 - val_loss: 574.3752 - val_mae: 574.3752 - val_mse: 1178139.6250\n",
            "Epoch 81/100\n",
            "\u001b[1m18/18\u001b[0m \u001b[32m━━━━━━━━━━━━━━━━━━━━\u001b[0m\u001b[37m\u001b[0m \u001b[1m0s\u001b[0m 8ms/step - loss: 106.0425 - mae: 106.0425 - mse: 69814.3828 - val_loss: 579.1707 - val_mae: 579.1707 - val_mse: 1181884.5000\n",
            "Epoch 82/100\n",
            "\u001b[1m18/18\u001b[0m \u001b[32m━━━━━━━━━━━━━━━━━━━━\u001b[0m\u001b[37m\u001b[0m \u001b[1m0s\u001b[0m 7ms/step - loss: 107.1694 - mae: 107.1694 - mse: 69971.7812 - val_loss: 574.1310 - val_mae: 574.1310 - val_mse: 1176952.3750\n",
            "Epoch 83/100\n",
            "\u001b[1m18/18\u001b[0m \u001b[32m━━━━━━━━━━━━━━━━━━━━\u001b[0m\u001b[37m\u001b[0m \u001b[1m0s\u001b[0m 7ms/step - loss: 107.0991 - mae: 107.0991 - mse: 69933.9141 - val_loss: 573.7798 - val_mae: 573.7798 - val_mse: 1177131.5000\n",
            "Epoch 84/100\n",
            "\u001b[1m18/18\u001b[0m \u001b[32m━━━━━━━━━━━━━━━━━━━━\u001b[0m\u001b[37m\u001b[0m \u001b[1m0s\u001b[0m 10ms/step - loss: 106.6189 - mae: 106.6189 - mse: 69906.1797 - val_loss: 578.6139 - val_mae: 578.6139 - val_mse: 1191923.1250\n",
            "Epoch 85/100\n",
            "\u001b[1m18/18\u001b[0m \u001b[32m━━━━━━━━━━━━━━━━━━━━\u001b[0m\u001b[37m\u001b[0m \u001b[1m0s\u001b[0m 10ms/step - loss: 106.9264 - mae: 106.9264 - mse: 70073.2734 - val_loss: 574.3519 - val_mae: 574.3519 - val_mse: 1181854.6250\n",
            "Epoch 86/100\n",
            "\u001b[1m18/18\u001b[0m \u001b[32m━━━━━━━━━━━━━━━━━━━━\u001b[0m\u001b[37m\u001b[0m \u001b[1m0s\u001b[0m 11ms/step - loss: 106.4507 - mae: 106.4507 - mse: 69786.1094 - val_loss: 573.5286 - val_mae: 573.5286 - val_mse: 1176827.1250\n",
            "Epoch 87/100\n",
            "\u001b[1m18/18\u001b[0m \u001b[32m━━━━━━━━━━━━━━━━━━━━\u001b[0m\u001b[37m\u001b[0m \u001b[1m0s\u001b[0m 9ms/step - loss: 105.8042 - mae: 105.8042 - mse: 69572.9922 - val_loss: 576.9562 - val_mae: 576.9562 - val_mse: 1187368.0000\n",
            "Epoch 88/100\n",
            "\u001b[1m18/18\u001b[0m \u001b[32m━━━━━━━━━━━━━━━━━━━━\u001b[0m\u001b[37m\u001b[0m \u001b[1m0s\u001b[0m 10ms/step - loss: 106.9647 - mae: 106.9647 - mse: 70098.2344 - val_loss: 574.4949 - val_mae: 574.4949 - val_mse: 1173982.3750\n",
            "Epoch 89/100\n",
            "\u001b[1m18/18\u001b[0m \u001b[32m━━━━━━━━━━━━━━━━━━━━\u001b[0m\u001b[37m\u001b[0m \u001b[1m0s\u001b[0m 12ms/step - loss: 105.6014 - mae: 105.6014 - mse: 69477.4453 - val_loss: 574.9898 - val_mae: 574.9898 - val_mse: 1173436.1250\n",
            "Epoch 90/100\n",
            "\u001b[1m18/18\u001b[0m \u001b[32m━━━━━━━━━━━━━━━━━━━━\u001b[0m\u001b[37m\u001b[0m \u001b[1m0s\u001b[0m 6ms/step - loss: 106.4540 - mae: 106.4540 - mse: 69715.3438 - val_loss: 574.4630 - val_mae: 574.4630 - val_mse: 1179943.2500\n",
            "Epoch 91/100\n",
            "\u001b[1m18/18\u001b[0m \u001b[32m━━━━━━━━━━━━━━━━━━━━\u001b[0m\u001b[37m\u001b[0m \u001b[1m0s\u001b[0m 6ms/step - loss: 108.9638 - mae: 108.9638 - mse: 70581.1094 - val_loss: 576.2951 - val_mae: 576.2951 - val_mse: 1185669.5000\n",
            "Epoch 92/100\n",
            "\u001b[1m18/18\u001b[0m \u001b[32m━━━━━━━━━━━━━━━━━━━━\u001b[0m\u001b[37m\u001b[0m \u001b[1m0s\u001b[0m 6ms/step - loss: 105.1967 - mae: 105.1967 - mse: 69692.4688 - val_loss: 585.9857 - val_mae: 585.9857 - val_mse: 1189701.8750\n",
            "Epoch 93/100\n",
            "\u001b[1m18/18\u001b[0m \u001b[32m━━━━━━━━━━━━━━━━━━━━\u001b[0m\u001b[37m\u001b[0m \u001b[1m0s\u001b[0m 5ms/step - loss: 107.4921 - mae: 107.4921 - mse: 69845.0938 - val_loss: 586.1241 - val_mae: 586.1241 - val_mse: 1210614.2500\n",
            "Epoch 94/100\n",
            "\u001b[1m18/18\u001b[0m \u001b[32m━━━━━━━━━━━━━━━━━━━━\u001b[0m\u001b[37m\u001b[0m \u001b[1m0s\u001b[0m 9ms/step - loss: 106.5947 - mae: 106.5947 - mse: 70166.1797 - val_loss: 572.6685 - val_mae: 572.6685 - val_mse: 1172084.0000\n",
            "Epoch 95/100\n",
            "\u001b[1m18/18\u001b[0m \u001b[32m━━━━━━━━━━━━━━━━━━━━\u001b[0m\u001b[37m\u001b[0m \u001b[1m0s\u001b[0m 6ms/step - loss: 105.4517 - mae: 105.4517 - mse: 69470.0000 - val_loss: 573.0707 - val_mae: 573.0707 - val_mse: 1169429.5000\n",
            "Epoch 96/100\n",
            "\u001b[1m18/18\u001b[0m \u001b[32m━━━━━━━━━━━━━━━━━━━━\u001b[0m\u001b[37m\u001b[0m \u001b[1m0s\u001b[0m 7ms/step - loss: 105.9732 - mae: 105.9732 - mse: 69549.9141 - val_loss: 572.4637 - val_mae: 572.4637 - val_mse: 1170906.2500\n",
            "Epoch 97/100\n",
            "\u001b[1m18/18\u001b[0m \u001b[32m━━━━━━━━━━━━━━━━━━━━\u001b[0m\u001b[37m\u001b[0m \u001b[1m0s\u001b[0m 5ms/step - loss: 105.6954 - mae: 105.6954 - mse: 69534.1797 - val_loss: 574.1066 - val_mae: 574.1066 - val_mse: 1169696.2500\n",
            "Epoch 98/100\n",
            "\u001b[1m18/18\u001b[0m \u001b[32m━━━━━━━━━━━━━━━━━━━━\u001b[0m\u001b[37m\u001b[0m \u001b[1m0s\u001b[0m 6ms/step - loss: 106.2961 - mae: 106.2961 - mse: 69609.4844 - val_loss: 572.4737 - val_mae: 572.4737 - val_mse: 1172637.6250\n",
            "Epoch 99/100\n",
            "\u001b[1m18/18\u001b[0m \u001b[32m━━━━━━━━━━━━━━━━━━━━\u001b[0m\u001b[37m\u001b[0m \u001b[1m0s\u001b[0m 6ms/step - loss: 107.6187 - mae: 107.6187 - mse: 70008.2500 - val_loss: 573.2036 - val_mae: 573.2036 - val_mse: 1171008.2500\n",
            "Epoch 100/100\n",
            "\u001b[1m18/18\u001b[0m \u001b[32m━━━━━━━━━━━━━━━━━━━━\u001b[0m\u001b[37m\u001b[0m \u001b[1m0s\u001b[0m 7ms/step - loss: 105.4149 - mae: 105.4149 - mse: 69314.4922 - val_loss: 572.1049 - val_mae: 572.1049 - val_mse: 1169887.1250\n"
          ]
        },
        {
          "output_type": "execute_result",
          "data": {
            "text/plain": [
              "<keras.src.callbacks.history.History at 0x7a6a94b0be50>"
            ]
          },
          "metadata": {},
          "execution_count": 37
        }
      ]
    },
    {
      "cell_type": "code",
      "source": [
        "# Evaluate model on test data\n",
        "model_1.evaluate(test_windows, test_labels) # but it's the model from the last epoch and not the best one"
      ],
      "metadata": {
        "colab": {
          "base_uri": "https://localhost:8080/"
        },
        "id": "e_modUhCRDHe",
        "outputId": "bddf374c-25c7-4998-baa7-3337eb22bab0"
      },
      "execution_count": 38,
      "outputs": [
        {
          "output_type": "stream",
          "name": "stdout",
          "text": [
            "\u001b[1m18/18\u001b[0m \u001b[32m━━━━━━━━━━━━━━━━━━━━\u001b[0m\u001b[37m\u001b[0m \u001b[1m0s\u001b[0m 15ms/step - loss: 285.0518 - mae: 285.0518 - mse: 346819.1875\n"
          ]
        },
        {
          "output_type": "execute_result",
          "data": {
            "text/plain": [
              "[572.1049194335938, 572.1049194335938, 1169887.125]"
            ]
          },
          "metadata": {},
          "execution_count": 38
        }
      ]
    },
    {
      "cell_type": "code",
      "source": [
        "# Load in saved best performing model_1 and evaluate it on test data\n",
        "model_1 = tf.keras.models.load_model(\"model_experiments/model_1_dense.keras\")\n",
        "model_1.evaluate(test_windows, test_labels)"
      ],
      "metadata": {
        "colab": {
          "base_uri": "https://localhost:8080/"
        },
        "id": "c71vSOQNRTHI",
        "outputId": "ad1abb1c-182a-4af8-bfe5-4a038595c729"
      },
      "execution_count": 39,
      "outputs": [
        {
          "output_type": "stream",
          "name": "stdout",
          "text": [
            "\u001b[1m18/18\u001b[0m \u001b[32m━━━━━━━━━━━━━━━━━━━━\u001b[0m\u001b[37m\u001b[0m \u001b[1m0s\u001b[0m 8ms/step - loss: 285.0518 - mae: 285.0518 - mse: 346819.1875\n"
          ]
        },
        {
          "output_type": "execute_result",
          "data": {
            "text/plain": [
              "[572.1049194335938, 572.1049194335938, 1169887.125]"
            ]
          },
          "metadata": {},
          "execution_count": 39
        }
      ]
    },
    {
      "cell_type": "markdown",
      "source": [
        "## Making forecasts with a model (on the test dataset)\n",
        "\n",
        "To make \"forecasts\" on the test dataset (note: these won't be actual forecasts, they're only pseudo forecasts because actual forecasts are into the future), let's write a function to:\n",
        "1. Takes in a trained model\n",
        "2. Takes in some input data (same kind of data the model was trained on)\n",
        "3. Passes the input to the model's `predict()` method\n",
        "4. Returns the prediction"
      ],
      "metadata": {
        "id": "_sXNB-SIOilW"
      }
    },
    {
      "cell_type": "code",
      "source": [
        "def make_preds(model, input_data):\n",
        "  \"\"\"\n",
        "  Uses model to make predictions on input_data.\n",
        "  \"\"\"\n",
        "  forecast = model.predict(input_data)\n",
        "  return tf.squeeze(forecast) # return 1D array of predictions"
      ],
      "metadata": {
        "id": "APs6FHFhRuWq"
      },
      "execution_count": 40,
      "outputs": []
    },
    {
      "cell_type": "code",
      "source": [
        "# Make predictions\n",
        "model_1_preds = make_preds(model_1, test_windows)\n",
        "len(model_1_preds), model_1_preds[:10]"
      ],
      "metadata": {
        "colab": {
          "base_uri": "https://localhost:8080/"
        },
        "id": "9EEZCgb0PXnW",
        "outputId": "349d8389-d5de-402e-d612-56b4480ba551"
      },
      "execution_count": 41,
      "outputs": [
        {
          "output_type": "stream",
          "name": "stdout",
          "text": [
            "\u001b[1m18/18\u001b[0m \u001b[32m━━━━━━━━━━━━━━━━━━━━\u001b[0m\u001b[37m\u001b[0m \u001b[1m0s\u001b[0m 8ms/step\n"
          ]
        },
        {
          "output_type": "execute_result",
          "data": {
            "text/plain": [
              "(556,\n",
              " <tf.Tensor: shape=(10,), dtype=float32, numpy=\n",
              " array([8831.178, 8782.846, 9061.152, 8757.195, 8733.14 , 8773.906,\n",
              "        8652.951, 8520.863, 8463.919, 8532.441], dtype=float32)>)"
            ]
          },
          "metadata": {},
          "execution_count": 41
        }
      ]
    },
    {
      "cell_type": "code",
      "source": [
        "# Evaluate preds\n",
        "model_1_results = evaluate_pred(y_true=tf.squeeze(test_labels),\n",
        "                                y_pred=model_1_preds)\n",
        "model_1_results"
      ],
      "metadata": {
        "colab": {
          "base_uri": "https://localhost:8080/"
        },
        "id": "KIaUQ4hnQDWo",
        "outputId": "be95fd6d-ab7b-4873-8125-dd12ffb557a1"
      },
      "execution_count": 42,
      "outputs": [
        {
          "output_type": "execute_result",
          "data": {
            "text/plain": [
              "{'mae': 572.1049,\n",
              " 'mse': 1169887.0,\n",
              " 'rmse': 1081.6132,\n",
              " 'mape': 2.5581634,\n",
              " 'mase': 1.0050299}"
            ]
          },
          "metadata": {},
          "execution_count": 42
        }
      ]
    },
    {
      "cell_type": "code",
      "source": [
        "# Plot model_1 predictions\n",
        "offset = 450\n",
        "plt.figure(figsize=(10,7))\n",
        "# Account for the test window offset and index into test_labels to ensure correct plotting\n",
        "plot_time_series(timesteps=X_test[-len(test_windows):], values=tf.squeeze(test_labels), start=offset, label=\"Test Data\") # instead of instead we can use test_labels[:,0]\n",
        "plot_time_series(timesteps=X_test[-len(test_windows):], values=model_1_preds, start=offset, format=\"-\", label=\"Model 1 Predictions\")"
      ],
      "metadata": {
        "colab": {
          "base_uri": "https://localhost:8080/",
          "height": 453
        },
        "id": "AMB_FUlwQ03d",
        "outputId": "76967598-8511-403e-eb31-7f26227c81ce"
      },
      "execution_count": 43,
      "outputs": [
        {
          "output_type": "display_data",
          "data": {
            "text/plain": [
              "<Figure size 1000x700 with 1 Axes>"
            ],
            "image/png": "[encoded data removed]"
          },
          "metadata": {}
        }
      ]
    },
    {
      "cell_type": "markdown",
      "source": [
        "Why is the model predictions lagged slightly behind the true labels?\n",
        "-> Autocorrelation: https://otexts.com/fpp3/acf.html"
      ],
      "metadata": {
        "id": "UoGL5OtoRMJO"
      }
    },
    {
      "cell_type": "markdown",
      "source": [
        "## Model 2: Dense (window = 30, horizon = 1)\n",
        "\n"
      ],
      "metadata": {
        "id": "9paWjgoNTTNu"
      }
    },
    {
      "cell_type": "code",
      "source": [
        "HORIZON = 1\n",
        "WINDOW_SIZE = 30"
      ],
      "metadata": {
        "id": "2g4Iiz1TRkR1"
      },
      "execution_count": 44,
      "outputs": []
    },
    {
      "cell_type": "code",
      "source": [
        "# Make windowed data with appropriate horizon and window size\n",
        "full_windows, full_labels = make_windows(prices, window_size=WINDOW_SIZE, horizon=HORIZON)\n",
        "len(full_windows), len(full_labels)"
      ],
      "metadata": {
        "colab": {
          "base_uri": "https://localhost:8080/"
        },
        "id": "JJdOe_-5RqA2",
        "outputId": "e47ec0df-684f-41d9-c41c-e718cceecf63"
      },
      "execution_count": 45,
      "outputs": [
        {
          "output_type": "stream",
          "name": "stdout",
          "text": [
            "[[ 0  1  2  3  4  5  6  7  8  9 10 11 12 13 14 15 16 17 18 19 20 21 22 23\n",
            "  24 25 26 27 28 29 30]]\n",
            "[[   0    1    2 ...   28   29   30]\n",
            " [   1    2    3 ...   29   30   31]\n",
            " [   2    3    4 ...   30   31   32]\n",
            " ...\n",
            " [2754 2755 2756 ... 2782 2783 2784]\n",
            " [2755 2756 2757 ... 2783 2784 2785]\n",
            " [2756 2757 2758 ... 2784 2785 2786]]\n"
          ]
        },
        {
          "output_type": "execute_result",
          "data": {
            "text/plain": [
              "(2757, 2757)"
            ]
          },
          "metadata": {},
          "execution_count": 45
        }
      ]
    },
    {
      "cell_type": "code",
      "source": [
        "# Make train and testing windows\n",
        "train_windows, test_windows, train_labels, test_labels = make_train_test_split(full_windows, full_labels)\n",
        "len(train_windows), len(test_windows), len(train_labels), len(test_labels)"
      ],
      "metadata": {
        "colab": {
          "base_uri": "https://localhost:8080/"
        },
        "id": "Ptc6gnPhTIwN",
        "outputId": "022f5f89-0979-4d00-e89f-07452a8d4e19"
      },
      "execution_count": 46,
      "outputs": [
        {
          "output_type": "execute_result",
          "data": {
            "text/plain": [
              "(2205, 552, 2205, 552)"
            ]
          },
          "metadata": {},
          "execution_count": 46
        }
      ]
    },
    {
      "cell_type": "code",
      "source": [
        "train_windows[:3], train_labels[:3]"
      ],
      "metadata": {
        "colab": {
          "base_uri": "https://localhost:8080/"
        },
        "id": "IWJ1GFmvS3yx",
        "outputId": "2b9fd331-6f72-4eb0-8247-c74c6a6a8c43"
      },
      "execution_count": 47,
      "outputs": [
        {
          "output_type": "execute_result",
          "data": {
            "text/plain": [
              "(array([[123.65499, 125.455  , 108.58483, 118.67466, 121.33866, 120.65533,\n",
              "         121.795  , 123.033  , 124.049  , 125.96116, 125.27966, 125.9275 ,\n",
              "         126.38333, 135.24199, 133.20333, 142.76333, 137.92333, 142.95166,\n",
              "         152.55183, 160.33883, 164.31499, 177.63333, 188.29716, 200.70166,\n",
              "         180.355  , 175.03166, 177.6965 , 187.15983, 192.75666, 197.4    ],\n",
              "        [125.455  , 108.58483, 118.67466, 121.33866, 120.65533, 121.795  ,\n",
              "         123.033  , 124.049  , 125.96116, 125.27966, 125.9275 , 126.38333,\n",
              "         135.24199, 133.20333, 142.76333, 137.92333, 142.95166, 152.55183,\n",
              "         160.33883, 164.31499, 177.63333, 188.29716, 200.70166, 180.355  ,\n",
              "         175.03166, 177.6965 , 187.15983, 192.75666, 197.4    , 196.02499],\n",
              "        [108.58483, 118.67466, 121.33866, 120.65533, 121.795  , 123.033  ,\n",
              "         124.049  , 125.96116, 125.27966, 125.9275 , 126.38333, 135.24199,\n",
              "         133.20333, 142.76333, 137.92333, 142.95166, 152.55183, 160.33883,\n",
              "         164.31499, 177.63333, 188.29716, 200.70166, 180.355  , 175.03166,\n",
              "         177.6965 , 187.15983, 192.75666, 197.4    , 196.02499, 198.04883]]),\n",
              " array([[196.02499],\n",
              "        [198.04883],\n",
              "        [198.93233]]))"
            ]
          },
          "metadata": {},
          "execution_count": 47
        }
      ]
    },
    {
      "cell_type": "code",
      "source": [
        "tf.random.set_seed(42)\n",
        "\n",
        "model_2 = tf.keras.Sequential([\n",
        "    layers.Dense(128, activation=\"relu\"),\n",
        "    layers.Dense(HORIZON, activation=\"linear\")\n",
        "], name = \"model_2_dense\")\n",
        "\n",
        "model_2.compile(loss=\"mae\",\n",
        "                optimizer=tf.keras.optimizers.Adam())\n",
        "\n",
        "model_2.fit(x=train_windows,\n",
        "            y=train_labels,\n",
        "            epochs=100,\n",
        "            batch_size=128,\n",
        "            verbose=0,\n",
        "            validation_data=(test_windows, test_labels),\n",
        "            callbacks=[create_model_checkpoint(model_name=model_2.name)])"
      ],
      "metadata": {
        "colab": {
          "base_uri": "https://localhost:8080/"
        },
        "id": "0TbW-DRTTgpb",
        "outputId": "b8ad1c63-fd8e-4540-f34d-2d4dc9bbef59"
      },
      "execution_count": 48,
      "outputs": [
        {
          "output_type": "execute_result",
          "data": {
            "text/plain": [
              "<keras.src.callbacks.history.History at 0x7a6a739ed3d0>"
            ]
          },
          "metadata": {},
          "execution_count": 48
        }
      ]
    },
    {
      "cell_type": "code",
      "source": [
        "# Evaluate model 2 on test data\n",
        "model_2.evaluate(test_windows, test_labels)"
      ],
      "metadata": {
        "colab": {
          "base_uri": "https://localhost:8080/"
        },
        "id": "uq6C5EacUX_Y",
        "outputId": "6bf40712-dd58-47a3-a7fa-401ee0d8017d"
      },
      "execution_count": 49,
      "outputs": [
        {
          "output_type": "stream",
          "name": "stdout",
          "text": [
            "\u001b[1m18/18\u001b[0m \u001b[32m━━━━━━━━━━━━━━━━━━━━\u001b[0m\u001b[37m\u001b[0m \u001b[1m0s\u001b[0m 13ms/step - loss: 370.3592\n"
          ]
        },
        {
          "output_type": "execute_result",
          "data": {
            "text/plain": [
              "704.5593872070312"
            ]
          },
          "metadata": {},
          "execution_count": 49
        }
      ]
    },
    {
      "cell_type": "code",
      "source": [
        "# Load in the best performing model\n",
        "model_2 = tf.keras.models.load_model(\"/content/model_experiments/model_2_dense.keras\")\n",
        "model_2.evaluate(test_windows, test_labels)"
      ],
      "metadata": {
        "colab": {
          "base_uri": "https://localhost:8080/"
        },
        "id": "I9WuxfMxUeew",
        "outputId": "1860dab2-7871-4105-b4e8-67eb5b92a6aa"
      },
      "execution_count": 50,
      "outputs": [
        {
          "output_type": "stream",
          "name": "stdout",
          "text": [
            "\u001b[1m18/18\u001b[0m \u001b[32m━━━━━━━━━━━━━━━━━━━━\u001b[0m\u001b[37m\u001b[0m \u001b[1m0s\u001b[0m 9ms/step - loss: 315.9336\n"
          ]
        },
        {
          "output_type": "execute_result",
          "data": {
            "text/plain": [
              "616.7088012695312"
            ]
          },
          "metadata": {},
          "execution_count": 50
        }
      ]
    },
    {
      "cell_type": "code",
      "source": [
        "# Get forecast predictions\n",
        "model_2_preds = make_preds(model_2, input_data=test_windows)"
      ],
      "metadata": {
        "colab": {
          "base_uri": "https://localhost:8080/"
        },
        "id": "qxvdojytUvPM",
        "outputId": "dd918b1d-7c1c-4103-9553-53a74f7e9ea9"
      },
      "execution_count": 51,
      "outputs": [
        {
          "output_type": "stream",
          "name": "stdout",
          "text": [
            "\u001b[1m18/18\u001b[0m \u001b[32m━━━━━━━━━━━━━━━━━━━━\u001b[0m\u001b[37m\u001b[0m \u001b[1m0s\u001b[0m 7ms/step\n"
          ]
        }
      ]
    },
    {
      "cell_type": "code",
      "source": [
        "# Evaluate results for model 2 predictions\n",
        "model_2_results = evaluate_pred(y_true=tf.squeeze(test_labels),\n",
        "                                y_pred=model_2_preds)\n",
        "model_2_results"
      ],
      "metadata": {
        "colab": {
          "base_uri": "https://localhost:8080/"
        },
        "id": "E9Ksk9-0U659",
        "outputId": "ea8a5b2e-749c-49cf-f0c2-b569f7978f55"
      },
      "execution_count": 52,
      "outputs": [
        {
          "output_type": "execute_result",
          "data": {
            "text/plain": [
              "{'mae': 616.70886,\n",
              " 'mse': 1314910.2,\n",
              " 'rmse': 1146.6953,\n",
              " 'mape': 2.8198333,\n",
              " 'mase': 1.0780132}"
            ]
          },
          "metadata": {},
          "execution_count": 52
        }
      ]
    },
    {
      "cell_type": "code",
      "source": [
        "offset = 300\n",
        "plt.figure(figsize=(10,7))\n",
        "plot_time_series(timesteps=X_test[-len(test_windows):], values=tf.squeeze(test_labels), start=offset, label=\"Test Data\")\n",
        "plot_time_series(timesteps=X_test[-len(test_windows):], values=model_2_preds, start=offset, format=\"-\", label=\"Model 2 Predictions\")"
      ],
      "metadata": {
        "colab": {
          "base_uri": "https://localhost:8080/",
          "height": 453
        },
        "id": "kfxELkDoVlRP",
        "outputId": "1a955446-0143-406f-800a-17d1ce1e440d"
      },
      "execution_count": 53,
      "outputs": [
        {
          "output_type": "display_data",
          "data": {
            "text/plain": [
              "<Figure size 1000x700 with 1 Axes>"
            ],
            "image/png": "[encoded data removed]"
          },
          "metadata": {}
        }
      ]
    },
    {
      "cell_type": "markdown",
      "source": [
        "## Model 3: Dense (window = 30, horizon = 7)"
      ],
      "metadata": {
        "id": "y53MUQ-LhDd9"
      }
    },
    {
      "cell_type": "code",
      "source": [
        "HORIZON = 7\n",
        "WINDOW_SIZE = 30\n",
        "\n",
        "full_windows, full_labels = make_windows(prices, window_size=WINDOW_SIZE, horizon=HORIZON)\n",
        "len(full_windows), len(full_labels)"
      ],
      "metadata": {
        "id": "pV2EGvXJhd_G",
        "colab": {
          "base_uri": "https://localhost:8080/"
        },
        "outputId": "2dea39cb-2a15-4290-aff9-8fda7168fa53"
      },
      "execution_count": 54,
      "outputs": [
        {
          "output_type": "stream",
          "name": "stdout",
          "text": [
            "[[ 0  1  2  3  4  5  6  7  8  9 10 11 12 13 14 15 16 17 18 19 20 21 22 23\n",
            "  24 25 26 27 28 29 30 31 32 33 34 35 36]]\n",
            "[[   0    1    2 ...   34   35   36]\n",
            " [   1    2    3 ...   35   36   37]\n",
            " [   2    3    4 ...   36   37   38]\n",
            " ...\n",
            " [2748 2749 2750 ... 2782 2783 2784]\n",
            " [2749 2750 2751 ... 2783 2784 2785]\n",
            " [2750 2751 2752 ... 2784 2785 2786]]\n"
          ]
        },
        {
          "output_type": "execute_result",
          "data": {
            "text/plain": [
              "(2751, 2751)"
            ]
          },
          "metadata": {},
          "execution_count": 54
        }
      ]
    },
    {
      "cell_type": "code",
      "source": [
        "train_windows, test_windows, train_labels, test_labels = make_train_test_split(full_windows, full_labels)\n",
        "len(train_windows), len(test_windows), len(train_labels), len(test_labels)"
      ],
      "metadata": {
        "colab": {
          "base_uri": "https://localhost:8080/"
        },
        "id": "gnzjC6CLh3yU",
        "outputId": "253b47b1-2006-4424-d213-425a3fcca177"
      },
      "execution_count": 55,
      "outputs": [
        {
          "output_type": "execute_result",
          "data": {
            "text/plain": [
              "(2200, 551, 2200, 551)"
            ]
          },
          "metadata": {},
          "execution_count": 55
        }
      ]
    },
    {
      "cell_type": "code",
      "source": [
        "tf.random.set_seed(42)\n",
        "\n",
        "model_3 = tf.keras.Sequential([\n",
        "    layers.Dense(128, activation=\"relu\"),\n",
        "    layers.Dense(HORIZON, activation=\"linear\")\n",
        "], name=\"model_3_dense\")\n",
        "\n",
        "model_3.compile(loss=\"mae\",\n",
        "                optimizer=tf.keras.optimizers.Adam())\n",
        "\n",
        "model_3.fit(x=train_windows,\n",
        "            y=train_labels,\n",
        "            batch_size=128,\n",
        "            epochs=100,\n",
        "            verbose=0,\n",
        "            validation_data=(test_windows, test_labels),\n",
        "            callbacks=[create_model_checkpoint(model_name=model_3.name)])"
      ],
      "metadata": {
        "colab": {
          "base_uri": "https://localhost:8080/"
        },
        "id": "HFkVkOOxik5i",
        "outputId": "03caca3a-044e-4033-e747-0dbb306a68b4"
      },
      "execution_count": 56,
      "outputs": [
        {
          "output_type": "execute_result",
          "data": {
            "text/plain": [
              "<keras.src.callbacks.history.History at 0x7a6a419cc8d0>"
            ]
          },
          "metadata": {},
          "execution_count": 56
        }
      ]
    },
    {
      "cell_type": "code",
      "source": [
        "# Evaluate the model on test data\n",
        "model_3.evaluate(test_windows, test_labels)"
      ],
      "metadata": {
        "colab": {
          "base_uri": "https://localhost:8080/"
        },
        "id": "v4-CYE8ajTg-",
        "outputId": "a0985afd-fe2e-45c1-9403-7319328bc954"
      },
      "execution_count": 57,
      "outputs": [
        {
          "output_type": "stream",
          "name": "stdout",
          "text": [
            "\u001b[1m18/18\u001b[0m \u001b[32m━━━━━━━━━━━━━━━━━━━━\u001b[0m\u001b[37m\u001b[0m \u001b[1m0s\u001b[0m 15ms/step - loss: 638.7577\n"
          ]
        },
        {
          "output_type": "execute_result",
          "data": {
            "text/plain": [
              "1276.6961669921875"
            ]
          },
          "metadata": {},
          "execution_count": 57
        }
      ]
    },
    {
      "cell_type": "code",
      "source": [
        "# Load in the best performing model\n",
        "model_3 = tf.keras.models.load_model(\"/content/model_experiments/model_3_dense.keras\")\n",
        "model_3.evaluate(test_windows, test_labels)"
      ],
      "metadata": {
        "colab": {
          "base_uri": "https://localhost:8080/"
        },
        "id": "5yRw7iYWjbba",
        "outputId": "28664749-caff-4d3d-cd41-02a4c7c5c362"
      },
      "execution_count": 58,
      "outputs": [
        {
          "output_type": "stream",
          "name": "stdout",
          "text": [
            "\u001b[1m18/18\u001b[0m \u001b[32m━━━━━━━━━━━━━━━━━━━━\u001b[0m\u001b[37m\u001b[0m \u001b[1m0s\u001b[0m 8ms/step - loss: 637.3213\n"
          ]
        },
        {
          "output_type": "execute_result",
          "data": {
            "text/plain": [
              "1270.201171875"
            ]
          },
          "metadata": {},
          "execution_count": 58
        }
      ]
    },
    {
      "cell_type": "code",
      "source": [
        "# Create forecast predictions\n",
        "model_3_preds = make_preds(model_3, test_windows)\n",
        "model_3_preds[:5]"
      ],
      "metadata": {
        "colab": {
          "base_uri": "https://localhost:8080/"
        },
        "id": "TeZnUsQAjrUH",
        "outputId": "0d1c6575-077f-437f-95ec-bc9ace77f0cd"
      },
      "execution_count": 59,
      "outputs": [
        {
          "output_type": "stream",
          "name": "stdout",
          "text": [
            "\u001b[1m18/18\u001b[0m \u001b[32m━━━━━━━━━━━━━━━━━━━━\u001b[0m\u001b[37m\u001b[0m \u001b[1m0s\u001b[0m 8ms/step\n"
          ]
        },
        {
          "output_type": "execute_result",
          "data": {
            "text/plain": [
              "<tf.Tensor: shape=(5, 7), dtype=float32, numpy=\n",
              "array([[9278.234 , 9452.653 , 9466.769 , 9192.136 , 9261.363 , 9338.982 ,\n",
              "        9272.262 ],\n",
              "       [8968.585 , 9069.029 , 9333.124 , 9267.665 , 9142.118 , 9052.007 ,\n",
              "        9028.1875],\n",
              "       [8882.881 , 8749.155 , 9118.333 , 9200.216 , 8865.633 , 8871.0625,\n",
              "        8963.748 ],\n",
              "       [9109.734 , 9038.301 , 9163.143 , 9285.078 , 8944.433 , 9083.566 ,\n",
              "        9069.113 ],\n",
              "       [8952.055 , 9005.612 , 9022.331 , 9038.743 , 8783.727 , 8897.762 ,\n",
              "        8760.271 ]], dtype=float32)>"
            ]
          },
          "metadata": {},
          "execution_count": 59
        }
      ]
    },
    {
      "cell_type": "code",
      "source": [
        "# Evaluate model_3 results\n",
        "model_3_results = evaluate_pred(y_true=tf.squeeze(test_labels),\n",
        "                                y_pred=model_3_preds)\n",
        "model_3_results # we need to condense these array into single values"
      ],
      "metadata": {
        "colab": {
          "base_uri": "https://localhost:8080/"
        },
        "id": "gamV9HVYkZLj",
        "outputId": "7311e571-a691-4c4a-acce-afbb2b118a07"
      },
      "execution_count": 60,
      "outputs": [
        {
          "output_type": "execute_result",
          "data": {
            "text/plain": [
              "{'mae': array([ 529.9849  ,  375.1772  ,  302.5187  ,  472.458   ,  368.5809  ,\n",
              "         383.6389  ,  435.56543 ,  538.74713 ,  588.2043  ,  625.53754 ,\n",
              "         708.68756 ,  654.24384 ,  770.36786 ,  792.2694  ,  627.8446  ,\n",
              "         246.26395 ,  279.05615 ,  307.30414 ,  369.38943 ,  420.8293  ,\n",
              "         185.55672 ,  100.94698 ,  208.69978 ,  207.58922 ,  204.63832 ,\n",
              "         177.65535 ,  120.35917 ,   96.90465 ,   68.145645,   71.29659 ,\n",
              "         224.2959  ,  300.7558  ,  346.05386 ,  286.90387 ,  265.73123 ,\n",
              "         255.04373 ,  271.8704  ,  237.36844 ,  229.12354 ,  267.75873 ,\n",
              "         441.604   ,  141.94621 ,  143.68938 ,   81.42041 ,  105.85658 ,\n",
              "         163.94943 ,  115.59577 ,  129.78271 ,   74.29366 ,   97.42802 ,\n",
              "         145.65381 ,  154.0752  ,  161.72838 ,  200.62758 ,  324.09332 ,\n",
              "         368.9705  ,  507.5318  ,  530.9427  ,  585.08307 ,  636.8696  ,\n",
              "         457.80246 ,  291.9963  ,  327.21658 ,  386.17953 ,  441.2954  ,\n",
              "         535.08044 ,  481.61908 ,  580.2519  ,  228.27553 ,   90.61761 ,\n",
              "         165.68987 ,  331.24805 ,  499.0685  ,  397.5145  ,  318.8687  ,\n",
              "         335.37863 ,  400.6935  ,  495.11774 ,  575.84406 ,  754.85284 ,\n",
              "         773.7656  ,  659.8115  ,  412.21722 ,  193.75418 ,  221.38937 ,\n",
              "         297.90805 ,  297.42453 ,  336.7129  ,  386.39508 ,  597.00183 ,\n",
              "         529.86633 ,  493.45563 ,  439.58902 ,  273.6861  ,  150.52805 ,\n",
              "         209.22517 ,  252.63951 ,  436.71695 ,  507.54214 ,  683.0469  ,\n",
              "         494.20563 ,  345.06293 ,  151.60295 ,  347.5141  ,  262.6225  ,\n",
              "         349.32715 ,  451.1907  ,  616.3281  ,  967.9452  ,  957.0419  ,\n",
              "         820.44977 ,  460.1589  ,  260.44586 ,  222.55705 ,  374.37192 ,\n",
              "         366.16705 ,  292.1729  ,  412.53033 ,  522.36395 ,  972.8591  ,\n",
              "        1593.942   , 2057.7166  , 2092.3474  , 2072.6438  , 2359.5378  ,\n",
              "        2541.8542  , 1292.6914  ,  599.69763 ,  532.81036 ,  508.34576 ,\n",
              "         936.5826  , 1093.0759  , 1069.5688  ,  521.88275 ,  447.09744 ,\n",
              "         391.0563  ,  454.09897 ,  204.67752 ,  289.4165  ,  327.1257  ,\n",
              "         302.64474 ,  328.75537 ,  393.3494  ,  582.0878  ,  693.43134 ,\n",
              "         605.8909  ,  513.1605  ,  425.92545 ,  281.6603  ,  260.18234 ,\n",
              "         179.13756 ,  140.80832 ,  295.72476 ,  353.16412 ,  578.3364  ,\n",
              "         211.3014  ,  188.95926 ,  291.8489  ,  152.69922 ,  199.23299 ,\n",
              "         277.63986 ,  226.44637 ,  262.553   ,  281.23947 ,  364.18576 ,\n",
              "         339.7724  ,  480.39252 ,  707.1588  ,  627.41785 ,  755.351   ,\n",
              "         848.40295 ,  904.6255  ,  939.9166  , 1032.7078  ,  620.487   ,\n",
              "         464.62222 ,  432.5632  ,  503.3976  ,  397.50055 ,  470.96567 ,\n",
              "         442.65485 ,  463.51743 ,  559.0505  ,  745.9156  ,  746.8291  ,\n",
              "         317.0879  ,  436.      ,  656.9717  ,  449.46317 ,  129.10435 ,\n",
              "         178.45299 ,  127.20048 ,  326.77164 ,  599.6738  ,  604.18445 ,\n",
              "         589.3944  ,  343.38617 ,  287.71402 ,  375.12695 ,  375.52664 ,\n",
              "         604.09625 ,  661.35614 ,  695.89343 ,  404.20844 ,  350.6946  ,\n",
              "         215.00475 ,  242.65514 ,  436.93246 ,  238.73326 ,  180.45703 ,\n",
              "         232.46526 ,  159.91016 ,  135.42244 ,  197.05664 ,  322.8323  ,\n",
              "         337.88965 ,  474.5262  ,  162.68945 ,  113.2786  ,  270.3386  ,\n",
              "          77.49052 ,  152.70145 ,  262.785   ,  238.10728 ,  204.99902 ,\n",
              "         127.67997 ,  120.6822  ,  181.38295 ,  368.76004 ,  369.46793 ,\n",
              "         366.37054 ,  240.24832 ,  236.20033 ,   72.75419 ,   60.628765,\n",
              "         130.62793 ,  118.98507 ,  202.11955 ,  188.3351  ,  162.95647 ,\n",
              "         139.01367 ,  126.34668 ,  119.8305  ,  112.134346,  155.83328 ,\n",
              "         140.49596 ,  126.40778 ,  118.85784 ,  132.41281 ,  146.1282  ,\n",
              "         137.19182 ,  177.30315 ,  219.14928 ,  261.60938 ,  271.66238 ,\n",
              "         375.25266 ,  598.97784 ,  747.3549  ,  816.4453  ,  963.7081  ,\n",
              "        1139.266   , 1329.4254  , 1330.8141  ,  582.50476 ,  393.12418 ,\n",
              "         198.49358 ,  290.16782 ,  277.0766  ,  357.74902 ,  169.67006 ,\n",
              "         256.92508 ,  269.87653 ,  122.40221 ,  213.7108  ,  165.2387  ,\n",
              "         206.63045 ,  225.04172 ,  357.90387 ,  264.12262 ,  281.06097 ,\n",
              "         227.28697 ,  142.3923  ,  173.28976 ,  155.76018 ,  508.78012 ,\n",
              "         454.80426 ,  329.74527 ,  312.86285 ,  272.26578 ,  302.41574 ,\n",
              "         219.85086 ,  245.44768 ,  280.2945  ,  227.22726 ,  233.92508 ,\n",
              "         369.32114 ,  496.50766 ,  739.5128  , 1006.3382  , 1452.5548  ,\n",
              "        1430.268   ,  969.29254 ,  614.3724  ,  178.86746 ,  211.73717 ,\n",
              "         271.76227 ,  465.69058 ,  500.10797 ,  466.06543 ,  355.47516 ,\n",
              "         463.393   ,  460.37402 ,  286.6154  ,  117.80371 ,  333.46805 ,\n",
              "         278.44016 ,  398.64215 ,  468.54633 ,  390.8789  ,  177.30162 ,\n",
              "         204.6575  ,  329.2507  ,  190.84654 ,   70.14258 ,  129.54674 ,\n",
              "         138.41476 ,  329.47223 ,  260.65414 ,  242.02888 ,  226.06822 ,\n",
              "         224.68387 ,  344.4919  ,  384.09793 ,  516.4036  ,  585.5664  ,\n",
              "         659.6085  ,  608.68164 ,  456.34738 ,  190.79324 ,  102.82701 ,\n",
              "         215.0512  ,  321.39426 ,  496.27567 ,  687.0981  ,  821.73114 ,\n",
              "        1036.8186  , 1272.4127  , 1187.8269  , 1284.2006  ,  550.2257  ,\n",
              "         330.3824  ,  285.48062 ,  337.15082 ,  356.73242 ,  348.1772  ,\n",
              "         272.83636 ,  318.86453 ,  511.9043  ,  726.97797 ,  763.04364 ,\n",
              "         956.0028  , 1104.4056  , 1295.1409  , 1237.0438  ,  537.4813  ,\n",
              "         564.22546 ,  610.3298  ,  497.7613  ,  548.25336 ,  806.0618  ,\n",
              "         977.40265 , 1019.2988  , 1212.2284  , 1463.6289  , 1687.4987  ,\n",
              "        1675.6111  , 1073.9252  ,  921.1861  ,  661.84656 ,  527.55164 ,\n",
              "         791.63367 ,  928.2818  ,  925.4286  , 1006.53156 , 1151.5009  ,\n",
              "         908.05634 , 1322.9744  , 1452.4451  , 1240.5234  ,  431.26617 ,\n",
              "         349.53906 ,  329.87555 ,  830.2475  ,  742.7542  ,  562.1875  ,\n",
              "         545.66437 ,  743.0742  ,  662.7433  ,  870.7935  , 1620.1953  ,\n",
              "        2385.9106  , 2696.6873  , 3129.795   , 3344.0327  , 3551.717   ,\n",
              "        2650.8855  , 1267.4766  ,  766.57227 , 1050.1029  , 1469.3307  ,\n",
              "        1492.8368  , 1909.0946  , 2687.7437  , 3314.654   , 3379.2297  ,\n",
              "        2854.484   , 3128.3757  , 3194.0854  , 3817.6047  , 3707.2566  ,\n",
              "        4386.1646  , 5609.1406  , 5209.8003  , 5020.798   , 5168.099   ,\n",
              "        3909.9978  , 2853.4883  , 2094.2065  , 2759.961   , 4083.7466  ,\n",
              "        3971.7773  , 1596.5195  ,  527.6468  ,  705.1758  , 2083.5916  ,\n",
              "        2004.5558  , 2086.6953  , 3245.905   , 3567.412   , 4124.08    ,\n",
              "        3646.002   , 1014.46985 , 1316.7645  , 1722.1244  , 1543.6174  ,\n",
              "        2372.7498  , 2520.0383  , 3912.345   , 3072.0603  , 2362.5317  ,\n",
              "        2949.0217  , 3730.1406  , 4593.9873  , 5173.653   , 4393.428   ,\n",
              "        5874.5464  , 7125.5493  , 6722.101   , 7242.219   , 4703.0396  ,\n",
              "        2454.8242  , 2468.2048  , 2295.0369  , 2826.141   , 2864.1914  ,\n",
              "        3780.4202  , 4379.655   , 4115.48    , 2832.645   , 3072.966   ,\n",
              "        4177.2534  , 5981.941   , 8757.836   , 8620.782   , 5452.9814  ,\n",
              "        3202.1458  , 1853.2584  , 1895.4447  , 2942.8784  , 4342.8057  ,\n",
              "        2656.3247  , 3265.5117  , 2580.0574  , 4622.047   , 4276.9653  ,\n",
              "        6106.969   , 6361.138   , 6372.062   , 5161.581   , 2764.8276  ,\n",
              "        1739.9375  , 1687.7869  , 1802.3655  , 2656.3208  , 1752.9269  ,\n",
              "        1292.1998  , 2753.0386  , 3947.4058  , 4007.7786  , 4324.065   ,\n",
              "        4154.7837  , 2784.7266  , 2382.1384  , 2727.1858  , 4534.6167  ,\n",
              "        3957.0168  , 3168.2678  , 2643.2292  , 1976.9486  ,  693.2031  ,\n",
              "         947.56476 , 1079.9553  , 1059.0658  ,  825.22266 , 1116.6328  ,\n",
              "        1547.3666  , 1960.1725  , 2647.4956  , 3135.5825  , 3467.9475  ,\n",
              "        2820.9465  , 2291.8997  , 2275.6892  , 3111.2305  , 5223.2734  ,\n",
              "        7363.189   , 8129.806   , 8620.206   , 6512.59    , 5109.4526  ,\n",
              "        4471.6787  , 3010.1077  , 2329.984   , 3085.2942  , 4549.898   ,\n",
              "        5853.915   , 4807.677   , 2529.2349  , 2426.3354  , 2214.697   ,\n",
              "        1345.278   , 1758.399   , 1567.3114  , 1662.1361  , 1846.8516  ,\n",
              "        1511.2819  , 2019.7166  , 3134.424   , 4856.829   , 7146.0864  ,\n",
              "        8518.032   ], dtype=float32),\n",
              " 'mse': array([2.88403219e+05, 1.80130578e+05, 1.13842602e+05, 2.36889141e+05,\n",
              "        1.51627031e+05, 1.61031391e+05, 1.94084734e+05, 3.19408719e+05,\n",
              "        4.81653344e+05, 5.54066750e+05, 6.44257875e+05, 5.54816375e+05,\n",
              "        6.80415438e+05, 6.57478438e+05, 4.42585469e+05, 8.29400156e+04,\n",
              "        8.68481953e+04, 1.47688953e+05, 1.62718078e+05, 1.88549359e+05,\n",
              "        5.26264727e+04, 1.65506035e+04, 5.84664609e+04, 6.90474922e+04,\n",
              "        6.28564609e+04, 4.02375977e+04, 2.10032949e+04, 1.45821465e+04,\n",
              "        8.27892676e+03, 7.63591309e+03, 5.92105547e+04, 9.75592109e+04,\n",
              "        1.31550000e+05, 1.38797641e+05, 1.16906477e+05, 1.07806000e+05,\n",
              "        1.14672289e+05, 1.03396688e+05, 9.98505469e+04, 1.08190086e+05,\n",
              "        2.06646500e+05, 2.53329902e+04, 3.44923516e+04, 8.68860254e+03,\n",
              "        1.52193232e+04, 3.40751289e+04, 1.92159492e+04, 2.07411191e+04,\n",
              "        6.53051074e+03, 1.32736924e+04, 2.72059062e+04, 3.33778359e+04,\n",
              "        3.56445430e+04, 6.03753047e+04, 1.78541281e+05, 2.50435359e+05,\n",
              "        3.83027469e+05, 3.99492438e+05, 4.30494406e+05, 4.49630062e+05,\n",
              "        2.50011828e+05, 1.86607266e+05, 1.86135219e+05, 3.09016750e+05,\n",
              "        3.30717406e+05, 3.89496562e+05, 2.76962906e+05, 3.54648688e+05,\n",
              "        6.12198984e+04, 1.53137676e+04, 3.85320742e+04, 1.35119969e+05,\n",
              "        2.64024094e+05, 1.80980250e+05, 1.31968234e+05, 1.38677281e+05,\n",
              "        1.81831453e+05, 3.51528656e+05, 4.51422500e+05, 7.21779438e+05,\n",
              "        6.56330438e+05, 4.55082156e+05, 1.82907641e+05, 7.08412734e+04,\n",
              "        5.20984570e+04, 1.03174852e+05, 1.11381188e+05, 1.67163500e+05,\n",
              "        2.08021328e+05, 4.58431656e+05, 3.85155531e+05, 3.24592938e+05,\n",
              "        2.47493875e+05, 1.01349500e+05, 2.56418125e+04, 6.44024141e+04,\n",
              "        1.10028305e+05, 2.51685609e+05, 3.33273250e+05, 4.96476438e+05,\n",
              "        2.75361812e+05, 1.63979578e+05, 3.28336328e+04, 1.39765203e+05,\n",
              "        1.25323477e+05, 2.19090953e+05, 3.08619250e+05, 5.43867500e+05,\n",
              "        1.07878575e+06, 9.82994312e+05, 6.93932875e+05, 2.61824266e+05,\n",
              "        9.47491250e+04, 8.62550000e+04, 1.80357219e+05, 1.81437891e+05,\n",
              "        1.21627820e+05, 2.35419203e+05, 3.46779562e+05, 1.84262700e+06,\n",
              "        3.73581725e+06, 5.51659450e+06, 5.67509950e+06, 5.57644700e+06,\n",
              "        6.27587200e+06, 6.51241150e+06, 1.87833062e+06, 4.57743281e+05,\n",
              "        3.46465750e+05, 3.27832156e+05, 1.04742631e+06, 1.45423675e+06,\n",
              "        1.31058412e+06, 3.74302469e+05, 2.86885531e+05, 1.71895500e+05,\n",
              "        3.09232469e+05, 7.35277266e+04, 1.18113922e+05, 2.28701906e+05,\n",
              "        1.43197281e+05, 1.95254719e+05, 2.20069781e+05, 3.68797281e+05,\n",
              "        5.29996812e+05, 4.16870188e+05, 3.02247656e+05, 2.55190969e+05,\n",
              "        1.15765391e+05, 8.85436328e+04, 4.25821797e+04, 2.99792285e+04,\n",
              "        1.60807859e+05, 1.91742391e+05, 3.89425188e+05, 5.22818320e+04,\n",
              "        4.80401836e+04, 1.03537914e+05, 3.39886562e+04, 6.43233750e+04,\n",
              "        9.53078750e+04, 7.60332109e+04, 1.00219711e+05, 1.09050586e+05,\n",
              "        1.37496969e+05, 1.46043406e+05, 3.05762938e+05, 7.64749562e+05,\n",
              "        7.54302312e+05, 1.01627856e+06, 1.20299800e+06, 1.11836625e+06,\n",
              "        1.00864344e+06, 1.07942838e+06, 4.26402062e+05, 3.90633969e+05,\n",
              "        3.96595031e+05, 3.52523844e+05, 1.86726109e+05, 2.70843594e+05,\n",
              "        2.37415453e+05, 2.48866000e+05, 4.78219469e+05, 8.07995938e+05,\n",
              "        7.37029812e+05, 1.72821891e+05, 2.21916953e+05, 4.78403344e+05,\n",
              "        2.47776578e+05, 4.00388008e+04, 3.70042617e+04, 2.65759121e+04,\n",
              "        1.33524109e+05, 4.13150000e+05, 4.39271219e+05, 3.83915094e+05,\n",
              "        1.53147891e+05, 1.05030008e+05, 1.62756094e+05, 1.70814922e+05,\n",
              "        5.28803188e+05, 5.99191375e+05, 6.02446312e+05, 2.30323422e+05,\n",
              "        1.90049875e+05, 6.81646094e+04, 9.34968516e+04, 2.14602719e+05,\n",
              "        9.95687031e+04, 3.85178203e+04, 7.46366016e+04, 4.96109102e+04,\n",
              "        2.60066699e+04, 5.80861562e+04, 1.28611984e+05, 1.36142891e+05,\n",
              "        2.36679391e+05, 4.01569336e+04, 2.16616621e+04, 8.01767031e+04,\n",
              "        9.17549219e+03, 3.72603398e+04, 7.88280156e+04, 7.63638906e+04,\n",
              "        5.78893359e+04, 1.92426992e+04, 1.95999863e+04, 4.50226328e+04,\n",
              "        1.50739672e+05, 1.65686672e+05, 1.43520891e+05, 8.18857891e+04,\n",
              "        6.85076641e+04, 6.69761182e+03, 4.40337646e+03, 2.52510312e+04,\n",
              "        2.37186094e+04, 4.62950234e+04, 4.63425352e+04, 3.59390195e+04,\n",
              "        2.46187949e+04, 2.21200098e+04, 1.91539785e+04, 1.84538398e+04,\n",
              "        3.78656680e+04, 3.14927559e+04, 2.01841465e+04, 1.68986016e+04,\n",
              "        2.55037285e+04, 2.84646758e+04, 2.51536602e+04, 4.19376992e+04,\n",
              "        7.08626406e+04, 8.59796797e+04, 1.08131836e+05, 1.86469531e+05,\n",
              "        7.38690562e+05, 1.10309200e+06, 1.34527838e+06, 1.47004288e+06,\n",
              "        1.77667712e+06, 2.12900425e+06, 1.85967912e+06, 4.46928750e+05,\n",
              "        1.89094750e+05, 8.05573594e+04, 1.23715305e+05, 9.32933203e+04,\n",
              "        2.03036281e+05, 4.54359922e+04, 8.53636797e+04, 9.74464375e+04,\n",
              "        2.07601445e+04, 6.07660078e+04, 4.94177227e+04, 8.16456406e+04,\n",
              "        8.29180469e+04, 1.66422078e+05, 1.42934766e+05, 1.53607516e+05,\n",
              "        9.78112891e+04, 3.31430977e+04, 4.15920000e+04, 3.52899375e+04,\n",
              "        2.82836969e+05, 2.31578031e+05, 1.46616094e+05, 1.05900625e+05,\n",
              "        1.06108734e+05, 1.11897195e+05, 7.50518828e+04, 9.28690391e+04,\n",
              "        9.13864844e+04, 6.96356875e+04, 1.00450859e+05, 2.12470609e+05,\n",
              "        4.30621062e+05, 7.75359000e+05, 1.25649100e+06, 2.26432650e+06,\n",
              "        2.11443375e+06, 9.78027312e+05, 4.35201406e+05, 4.67094688e+04,\n",
              "        5.98006914e+04, 1.10339414e+05, 3.25805719e+05, 3.43513844e+05,\n",
              "        3.28684406e+05, 2.07435703e+05, 2.59339125e+05, 2.47365031e+05,\n",
              "        1.22988047e+05, 2.52897051e+04, 1.26904062e+05, 1.03289164e+05,\n",
              "        1.89091875e+05, 2.78156250e+05, 2.18614641e+05, 4.48341445e+04,\n",
              "        6.22219570e+04, 1.13688562e+05, 4.76264805e+04, 6.92027393e+03,\n",
              "        1.82919844e+04, 2.44283711e+04, 1.31272656e+05, 1.08384820e+05,\n",
              "        8.08223594e+04, 6.83408828e+04, 7.33156562e+04, 2.13421047e+05,\n",
              "        2.36900656e+05, 4.11075688e+05, 4.59594562e+05, 5.33506938e+05,\n",
              "        4.19208906e+05, 2.21072391e+05, 5.21790625e+04, 1.78594863e+04,\n",
              "        5.35969297e+04, 1.22611141e+05, 4.63989781e+05, 8.02059375e+05,\n",
              "        1.19789912e+06, 1.65131512e+06, 2.00462888e+06, 1.62459138e+06,\n",
              "        1.74373912e+06, 3.98723781e+05, 1.74684250e+05, 1.11039961e+05,\n",
              "        1.34225094e+05, 1.54129328e+05, 1.77479422e+05, 9.96245391e+04,\n",
              "        2.00085000e+05, 7.60008312e+05, 1.21869212e+06, 9.17413312e+05,\n",
              "        1.49997200e+06, 1.59644988e+06, 1.88183762e+06, 1.67508888e+06,\n",
              "        4.97762188e+05, 4.35391000e+05, 5.66171438e+05, 3.22515531e+05,\n",
              "        5.17960219e+05, 1.07764675e+06, 1.60262325e+06, 1.69862888e+06,\n",
              "        2.19176125e+06, 2.75759200e+06, 3.33767800e+06, 3.01374175e+06,\n",
              "        1.34060800e+06, 9.48981125e+05, 5.45172562e+05, 5.33157812e+05,\n",
              "        1.03669762e+06, 1.27307175e+06, 1.30860875e+06, 1.66160000e+06,\n",
              "        1.79492688e+06, 1.00731356e+06, 2.15586000e+06, 2.39725725e+06,\n",
              "        1.60013588e+06, 2.27790922e+05, 1.50937656e+05, 1.55346531e+05,\n",
              "        7.54577062e+05, 6.16625875e+05, 4.52200281e+05, 4.28174719e+05,\n",
              "        7.89111375e+05, 5.74729625e+05, 1.62560988e+06, 4.81853250e+06,\n",
              "        8.90959200e+06, 1.13166700e+07, 1.30961050e+07, 1.30798300e+07,\n",
              "        1.32842130e+07, 7.14979100e+06, 1.77678288e+06, 9.10604375e+05,\n",
              "        1.83477938e+06, 2.71306175e+06, 3.32545125e+06, 5.24245150e+06,\n",
              "        1.01634370e+07, 1.35281420e+07, 1.34192080e+07, 1.24404860e+07,\n",
              "        1.51344020e+07, 1.39948070e+07, 1.89717120e+07, 1.93578440e+07,\n",
              "        3.02381800e+07, 4.40320560e+07, 4.00157840e+07, 3.21323400e+07,\n",
              "        3.19818200e+07, 2.06114720e+07, 1.03192980e+07, 5.68210350e+06,\n",
              "        1.21662390e+07, 1.98035620e+07, 1.75337060e+07, 3.79293325e+06,\n",
              "        7.19946938e+05, 9.27215812e+05, 7.34034750e+06, 7.98126950e+06,\n",
              "        7.72869750e+06, 1.39385050e+07, 1.60531020e+07, 1.96915660e+07,\n",
              "        1.40677940e+07, 1.50910975e+06, 2.11314075e+06, 3.69457200e+06,\n",
              "        3.02316975e+06, 7.13673350e+06, 7.61875300e+06, 1.79962600e+07,\n",
              "        1.24480060e+07, 9.05491900e+06, 1.29193050e+07, 1.90782160e+07,\n",
              "        2.96874100e+07, 4.03976960e+07, 3.36321480e+07, 5.25813840e+07,\n",
              "        6.53554000e+07, 5.15508680e+07, 5.54382360e+07, 2.43117620e+07,\n",
              "        7.47837250e+06, 9.22700200e+06, 8.11136500e+06, 1.26813270e+07,\n",
              "        1.39514270e+07, 2.06875660e+07, 2.61791000e+07, 2.24685800e+07,\n",
              "        1.10176160e+07, 1.08824720e+07, 2.35832900e+07, 4.60521200e+07,\n",
              "        8.46568320e+07, 7.73014880e+07, 3.31105740e+07, 1.40052890e+07,\n",
              "        5.62090000e+06, 5.39928800e+06, 1.08879270e+07, 2.10358140e+07,\n",
              "        9.04770200e+06, 1.61730080e+07, 1.48658340e+07, 3.44847880e+07,\n",
              "        2.73875480e+07, 5.21140880e+07, 5.17542080e+07, 4.77785880e+07,\n",
              "        3.20027020e+07, 1.11315070e+07, 4.54498500e+06, 3.53220575e+06,\n",
              "        4.47078300e+06, 7.91033700e+06, 5.10167450e+06, 3.41877000e+06,\n",
              "        1.28992690e+07, 2.09115140e+07, 2.14398180e+07, 2.30704020e+07,\n",
              "        2.05580760e+07, 1.05813170e+07, 7.40885950e+06, 1.07719430e+07,\n",
              "        2.44193280e+07, 1.99110940e+07, 1.30358510e+07, 8.25946900e+06,\n",
              "        4.44146100e+06, 8.05308000e+05, 1.36278438e+06, 1.99969075e+06,\n",
              "        1.34751575e+06, 1.20929588e+06, 1.78869225e+06, 3.13030350e+06,\n",
              "        5.54122650e+06, 1.10267610e+07, 1.49084270e+07, 1.54939210e+07,\n",
              "        9.89476100e+06, 6.30587300e+06, 6.01099100e+06, 1.44302990e+07,\n",
              "        3.48092400e+07, 6.22886040e+07, 7.27944800e+07, 7.85888160e+07,\n",
              "        4.71703280e+07, 3.15451240e+07, 2.44048660e+07, 1.29617690e+07,\n",
              "        7.00872000e+06, 1.12404420e+07, 2.40936020e+07, 3.80581040e+07,\n",
              "        2.71335960e+07, 9.05205900e+06, 7.43465850e+06, 5.67578550e+06,\n",
              "        2.90401200e+06, 5.54176500e+06, 4.74289700e+06, 4.60304150e+06,\n",
              "        4.50365650e+06, 3.76598750e+06, 8.98584500e+06, 1.43946380e+07,\n",
              "        3.71403160e+07, 6.38002680e+07, 9.22896480e+07], dtype=float32),\n",
              " 'rmse': array([ 537.03186 ,  424.41794 ,  337.4057  ,  486.7126  ,  389.39316 ,\n",
              "         401.28717 ,  440.55048 ,  565.16254 ,  694.0125  ,  744.3566  ,\n",
              "         802.65674 ,  744.86    ,  824.873   ,  810.8504  ,  665.27094 ,\n",
              "         287.99307 ,  294.70016 ,  384.3032  ,  403.3833  ,  434.2227  ,\n",
              "         229.4046  ,  128.64914 ,  241.79839 ,  262.7689  ,  250.71191 ,\n",
              "         200.59311 ,  144.92513 ,  120.75656 ,   90.98861 ,   87.38371 ,\n",
              "         243.33218 ,  312.3447  ,  362.6982  ,  372.55554 ,  341.9159  ,\n",
              "         328.33823 ,  338.63297 ,  321.55356 ,  315.99136 ,  328.9226  ,\n",
              "         454.58386 ,  159.1634  ,  185.72116 ,   93.21268 ,  123.36662 ,\n",
              "         184.5945  ,  138.6216  ,  144.01778 ,   80.81158 ,  115.21151 ,\n",
              "         164.94212 ,  182.69601 ,  188.79762 ,  245.71387 ,  422.54144 ,\n",
              "         500.43515 ,  618.89215 ,  632.05414 ,  656.1207  ,  670.5446  ,\n",
              "         500.0118  ,  431.98062 ,  431.4339  ,  555.89276 ,  575.0803  ,\n",
              "         624.09656 ,  526.27264 ,  595.52386 ,  247.42654 ,  123.74881 ,\n",
              "         196.29588 ,  367.5867  ,  513.83276 ,  425.41772 ,  363.27432 ,\n",
              "         372.39398 ,  426.417   ,  592.8985  ,  671.8798  ,  849.57605 ,\n",
              "         810.1422  ,  674.5978  ,  427.67703 ,  266.16025 ,  228.25087 ,\n",
              "         321.20844 ,  333.7382  ,  408.85632 ,  456.09354 ,  677.0758  ,\n",
              "         620.609   ,  569.7306  ,  497.48755 ,  318.35437 ,  160.13062 ,\n",
              "         253.7763  ,  331.70514 ,  501.68277 ,  577.2982  ,  704.61084 ,\n",
              "         524.74927 ,  404.9439  ,  181.20053 ,  373.85184 ,  354.01056 ,\n",
              "         468.07153 ,  555.5351  ,  737.4737  , 1038.6461  ,  991.4607  ,\n",
              "         833.0263  ,  511.68765 ,  307.81345 ,  293.69202 ,  424.68484 ,\n",
              "         425.95526 ,  348.7518  ,  485.20016 ,  588.87994 , 1357.434   ,\n",
              "        1932.8262  , 2348.7432  , 2382.2468  , 2361.4502  , 2505.169   ,\n",
              "        2551.9426  , 1370.522   ,  676.56726 ,  588.6134  ,  572.5663  ,\n",
              "        1023.4385  , 1205.9174  , 1144.8075  ,  611.8026  ,  535.61694 ,\n",
              "         414.6028  ,  556.08673 ,  271.15997 ,  343.67706 ,  478.22787 ,\n",
              "         378.41415 ,  441.87637 ,  469.11594 ,  607.2868  ,  728.0088  ,\n",
              "         645.65485 ,  549.77057 ,  505.1643  ,  340.24313 ,  297.5628  ,\n",
              "         206.35449 ,  173.14511 ,  401.00854 ,  437.88397 ,  624.0394  ,\n",
              "         228.6522  ,  219.18071 ,  321.77307 ,  184.36012 ,  253.62053 ,\n",
              "         308.71973 ,  275.74118 ,  316.57498 ,  330.2281  ,  370.80582 ,\n",
              "         382.15625 ,  552.9584  ,  874.4996  ,  868.5058  , 1008.10645 ,\n",
              "        1096.8126  , 1057.5283  , 1004.3124  , 1038.9554  ,  652.9947  ,\n",
              "         625.00714 ,  629.75793 ,  593.7372  ,  432.11816 ,  520.42633 ,\n",
              "         487.25296 ,  498.86472 ,  691.5341  ,  898.8859  ,  858.5044  ,\n",
              "         415.7185  ,  471.08063 ,  691.66705 ,  497.7716  ,  200.09697 ,\n",
              "         192.36491 ,  163.02121 ,  365.4095  ,  642.76746 ,  662.7754  ,\n",
              "         619.6088  ,  391.34116 ,  324.08334 ,  403.43042 ,  413.2976  ,\n",
              "         727.18854 ,  774.0745  ,  776.17413 ,  479.92023 ,  435.9471  ,\n",
              "         261.08353 ,  305.77255 ,  463.25232 ,  315.54507 ,  196.25957 ,\n",
              "         273.197   ,  222.73506 ,  161.26584 ,  241.0107  ,  358.62512 ,\n",
              "         368.97546 ,  486.49704 ,  200.39195 ,  147.17902 ,  283.1549  ,\n",
              "          95.78879 ,  193.02937 ,  280.76328 ,  276.34018 ,  240.60202 ,\n",
              "         138.71805 ,  139.99995 ,  212.18538 ,  388.25208 ,  407.0463  ,\n",
              "         378.8415  ,  286.15692 ,  261.7397  ,   81.838936,   66.35794 ,\n",
              "         158.90573 ,  154.00847 ,  215.16278 ,  215.27316 ,  189.57588 ,\n",
              "         156.90378 ,  148.72797 ,  138.3979  ,  135.84491 ,  194.59103 ,\n",
              "         177.46198 ,  142.07092 ,  129.99461 ,  159.69887 ,  168.71477 ,\n",
              "         158.59904 ,  204.78696 ,  266.20038 ,  293.22293 ,  328.83405 ,\n",
              "         431.82117 ,  859.47107 , 1050.2819  , 1159.8613  , 1212.4532  ,\n",
              "        1332.9205  , 1459.1108  , 1363.7006  ,  668.5273  ,  434.85025 ,\n",
              "         283.82626 ,  351.73187 ,  305.43954 ,  450.59546 ,  213.1572  ,\n",
              "         292.17062 ,  312.16412 ,  144.0838  ,  246.50761 ,  222.30096 ,\n",
              "         285.73703 ,  287.95493 ,  407.9486  ,  378.06714 ,  391.92795 ,\n",
              "         312.74796 ,  182.05246 ,  203.94116 ,  187.85616 ,  531.82416 ,\n",
              "         481.22556 ,  382.90482 ,  325.42377 ,  325.74335 ,  334.51038 ,\n",
              "         273.956   ,  304.7442  ,  302.30197 ,  263.88574 ,  316.93982 ,\n",
              "         460.94534 ,  656.2172  ,  880.54474 , 1120.9331  , 1504.768   ,\n",
              "        1454.1093  ,  988.95264 ,  659.69794 ,  216.12373 ,  244.5418  ,\n",
              "         332.17377 ,  570.79395 ,  586.1005  ,  573.31    ,  455.45108 ,\n",
              "         509.25348 ,  497.35806 ,  350.6965  ,  159.02737 ,  356.23596 ,\n",
              "         321.38632 ,  434.84695 ,  527.4052  ,  467.56244 ,  211.74075 ,\n",
              "         249.44328 ,  337.17734 ,  218.23491 ,   83.18818 ,  135.24786 ,\n",
              "         156.29578 ,  362.31567 ,  329.2185  ,  284.29272 ,  261.4209  ,\n",
              "         270.76865 ,  461.97516 ,  486.7244  ,  641.15186 ,  677.934   ,\n",
              "         730.4156  ,  647.46344 ,  470.18338 ,  228.42737 ,  133.63939 ,\n",
              "         231.5101  ,  350.15872 ,  681.16797 ,  895.5777  , 1094.4857  ,\n",
              "        1285.035   , 1415.8491  , 1274.5946  , 1320.5071  ,  631.4458  ,\n",
              "         417.95245 ,  333.2266  ,  366.36743 ,  392.59308 ,  421.28308 ,\n",
              "         315.63354 ,  447.30862 ,  871.78455 , 1103.9438  ,  957.81696 ,\n",
              "        1224.7334  , 1263.507   , 1371.8009  , 1294.2522  ,  705.52264 ,\n",
              "         659.8416  ,  752.4436  ,  567.9045  ,  719.6945  , 1038.0977  ,\n",
              "        1265.9475  , 1303.3146  , 1480.4598  , 1660.5999  , 1826.9313  ,\n",
              "        1736.0132  , 1157.8463  ,  974.1566  ,  738.35803 ,  730.1766  ,\n",
              "        1018.1835  , 1128.3048  , 1143.9445  , 1289.0306  , 1339.7488  ,\n",
              "        1003.65015 , 1468.2847  , 1548.3079  , 1264.9647  ,  477.27448 ,\n",
              "         388.50696 ,  394.14026 ,  868.66394 ,  785.2553  ,  672.4584  ,\n",
              "         654.3506  ,  888.3194  ,  758.10925 , 1274.994   , 2195.1155  ,\n",
              "        2984.894   , 3364.026   , 3618.854   , 3616.6047  , 3644.7515  ,\n",
              "        2673.9092  , 1332.9602  ,  954.2559  , 1354.5403  , 1647.1375  ,\n",
              "        1823.582   , 2289.6401  , 3188.0146  , 3678.0623  , 3663.2236  ,\n",
              "        3527.1074  , 3890.296   , 3740.9634  , 4355.653   , 4399.755   ,\n",
              "        5498.9253  , 6635.6655  , 6325.8027  , 5668.5396  , 5655.247   ,\n",
              "        4539.986   , 3212.3665  , 2383.7163  , 3488.0137  , 4450.119   ,\n",
              "        4187.3267  , 1947.5454  ,  848.4969  ,  962.9205  , 2709.3074  ,\n",
              "        2825.114   , 2780.0535  , 3733.4307  , 4006.6323  , 4437.518   ,\n",
              "        3750.7058  , 1228.4583  , 1453.6646  , 1922.127   , 1738.7264  ,\n",
              "        2671.4666  , 2760.2087  , 4242.1997  , 3528.1733  , 3009.1392  ,\n",
              "        3594.3435  , 4367.862   , 5448.615   , 6355.918   , 5799.3228  ,\n",
              "        7251.3022  , 8084.2686  , 7179.893   , 7445.6855  , 4930.696   ,\n",
              "        2734.6611  , 3037.598   , 2848.046   , 3561.085   , 3735.161   ,\n",
              "        4548.3584  , 5116.5513  , 4740.1035  , 3319.2793  , 3298.8591  ,\n",
              "        4856.263   , 6786.1714  , 9200.915   , 8792.126   , 5754.1787  ,\n",
              "        3742.364   , 2370.8438  , 2323.6367  , 3299.6858  , 4586.4814  ,\n",
              "        3007.9397  , 4021.5679  , 3855.6235  , 5872.375   , 5233.311   ,\n",
              "        7219.009   , 7194.0396  , 6912.2056  , 5657.093   , 3336.3914  ,\n",
              "        2131.897   , 1879.4164  , 2114.4226  , 2812.532   , 2258.6887  ,\n",
              "        1848.9916  , 3591.5552  , 4572.911   , 4630.315   , 4803.1655  ,\n",
              "        4534.101   , 3252.8936  , 2721.9219  , 3282.0637  , 4941.5913  ,\n",
              "        4462.185   , 3610.5195  , 2873.9292  , 2107.4773  ,  897.3895  ,\n",
              "        1167.3835  , 1414.1042  , 1160.8254  , 1099.6799  , 1337.4199  ,\n",
              "        1769.2664  , 2353.981   , 3320.6567  , 3861.1433  , 3936.2317  ,\n",
              "        3145.594   , 2511.1497  , 2451.7322  , 3798.7231  , 5899.9355  ,\n",
              "        7892.313   , 8531.968   , 8865.033   , 6868.066   , 5616.5044  ,\n",
              "        4940.128   , 3600.2456  , 2647.3987  , 3352.6768  , 4908.5234  ,\n",
              "        6169.125   , 5208.9917  , 3008.664   , 2726.657   , 2382.3906  ,\n",
              "        1704.1162  , 2354.0952  , 2177.8193  , 2145.47    , 2122.182   ,\n",
              "        1940.6152  , 2997.64    , 3794.0266  , 6094.2856  , 7987.507   ,\n",
              "        9606.75    ], dtype=float32),\n",
              " 'mape': array([ 6.037488  ,  4.3211784 ,  3.4932976 ,  5.4890103 ,  4.33588   ,\n",
              "         4.5656486 ,  5.2166104 ,  6.640454  ,  7.5643344 ,  8.249033  ,\n",
              "         9.55541   ,  8.969905  , 10.624712  , 10.905884  ,  8.693909  ,\n",
              "         3.416178  ,  3.7881393 ,  4.0746593 ,  4.9221377 ,  5.625349  ,\n",
              "         2.470639  ,  1.3437991 ,  2.8461337 ,  2.8367774 ,  2.792684  ,\n",
              "         2.4061527 ,  1.6264929 ,  1.2985108 ,  0.9166418 ,  0.98196405,\n",
              "         3.1113496 ,  4.1848974 ,  4.875145  ,  4.1850147 ,  3.8700886 ,\n",
              "         3.703345  ,  3.9392643 ,  3.4560344 ,  3.3367183 ,  3.8179867 ,\n",
              "         6.0940404 ,  1.9697398 ,  1.9902918 ,  1.1261759 ,  1.4641653 ,\n",
              "         2.2689006 ,  1.5902022 ,  1.791404  ,  1.0239458 ,  1.3600589 ,\n",
              "         2.0347698 ,  2.151558  ,  2.2623882 ,  2.763998  ,  4.2683773 ,\n",
              "         4.7253804 ,  6.460897  ,  6.67003   ,  7.3140526 ,  7.9226613 ,\n",
              "         5.6598716 ,  3.4775105 ,  3.8610194 ,  4.4291224 ,  5.0195065 ,\n",
              "         6.067912  ,  5.4724236 ,  6.5987177 ,  2.5918632 ,  1.0389853 ,\n",
              "         1.9253973 ,  3.871096  ,  5.859914  ,  4.683916  ,  3.7584066 ,\n",
              "         3.9090416 ,  4.5879116 ,  5.4266195 ,  6.23573   ,  8.094231  ,\n",
              "         8.280316  ,  7.0539327 ,  4.4016457 ,  2.0399425 ,  2.3480139 ,\n",
              "         3.1603467 ,  3.1234174 ,  3.472521  ,  3.918732  ,  5.973225  ,\n",
              "         5.2315755 ,  4.8458595 ,  4.2873125 ,  2.6691613 ,  1.4900199 ,\n",
              "         2.088828  ,  2.555953  ,  4.4304934 ,  5.1962514 ,  6.9944606 ,\n",
              "         5.081248  ,  3.5670943 ,  1.5543687 ,  3.6090024 ,  2.844069  ,\n",
              "         3.8640547 ,  5.038762  ,  6.980883  , 11.015681  , 10.915061  ,\n",
              "         9.391455  ,  5.2925196 ,  2.9857857 ,  2.5135794 ,  4.1793027 ,\n",
              "         4.1087685 ,  3.3955817 ,  4.9960093 ,  6.394537  , 14.253979  ,\n",
              "        24.491842  , 33.57106   , 36.078815  , 38.04172   , 43.501797  ,\n",
              "        47.22924   , 24.2274    , 11.259857  ,  9.370373  ,  8.719099  ,\n",
              "        15.279698  , 17.234442  , 16.599894  ,  7.9301596 ,  6.769166  ,\n",
              "         5.953633  ,  6.8278203 ,  3.237315  ,  4.5444107 ,  5.2967353 ,\n",
              "         4.7312655 ,  5.2143455 ,  5.9837537 ,  8.664003  , 10.109903  ,\n",
              "         8.706626  ,  7.232815  ,  5.8993797 ,  3.8908422 ,  3.6517508 ,\n",
              "         2.536797  ,  2.0070353 ,  4.2835774 ,  5.122895  ,  8.40774   ,\n",
              "         3.060733  ,  2.6928527 ,  4.1363297 ,  2.162349  ,  2.7950597 ,\n",
              "         3.8862784 ,  3.1132567 ,  3.5995166 ,  3.9200802 ,  4.99045   ,\n",
              "         4.5245843 ,  6.273584  ,  8.781276  ,  7.4475875 ,  8.749986  ,\n",
              "         9.630837  , 10.24038   , 10.631055  , 11.626875  ,  6.883711  ,\n",
              "         4.9340744 ,  4.4546776 ,  5.2435822 ,  4.2087126 ,  4.994959  ,\n",
              "         4.7184315 ,  5.004579  ,  6.2709966 ,  8.381394  ,  8.367426  ,\n",
              "         3.4996207 ,  4.5776453 ,  6.828255  ,  4.6533875 ,  1.3427933 ,\n",
              "         1.875082  ,  1.3614942 ,  3.5340097 ,  6.5488553 ,  6.6840396 ,\n",
              "         6.519395  ,  3.789946  ,  3.1674688 ,  4.075777  ,  4.031179  ,\n",
              "         6.219823  ,  6.785699  ,  7.1340704 ,  4.1080737 ,  3.5443556 ,\n",
              "         2.176289  ,  2.4511008 ,  4.516804  ,  2.4629195 ,  1.8529263 ,\n",
              "         2.4177868 ,  1.6801947 ,  1.4091586 ,  2.0869641 ,  3.4256246 ,\n",
              "         3.5926807 ,  5.0446725 ,  1.7276479 ,  1.2078083 ,  2.8788657 ,\n",
              "         0.82563233,  1.6157633 ,  2.7772667 ,  2.5253172 ,  2.1867042 ,\n",
              "         1.3528067 ,  1.2857372 ,  1.924537  ,  4.014831  ,  4.0379667 ,\n",
              "         4.0058947 ,  2.6388085 ,  2.5945132 ,  0.79648226,  0.66447806,\n",
              "         1.4244204 ,  1.2915633 ,  2.1961498 ,  2.0358915 ,  1.7563978 ,\n",
              "         1.5043974 ,  1.3595915 ,  1.2889043 ,  1.2109026 ,  1.686165  ,\n",
              "         1.5201799 ,  1.3711988 ,  1.28808   ,  1.4408578 ,  1.5928612 ,\n",
              "         1.4880924 ,  1.9041475 ,  2.323156  ,  2.766093  ,  2.8400693 ,\n",
              "         3.8809922 ,  5.772896  ,  7.00595   ,  7.3987403 ,  8.717264  ,\n",
              "        10.201983  , 11.74978   , 11.77366   ,  5.1142354 ,  3.4582381 ,\n",
              "         1.7189579 ,  2.5060983 ,  2.43224   ,  3.1632054 ,  1.4833515 ,\n",
              "         2.1925037 ,  2.2993712 ,  1.0536532 ,  1.8468773 ,  1.4312626 ,\n",
              "         1.79307   ,  1.9405292 ,  3.0394297 ,  2.17882   ,  2.3169057 ,\n",
              "         1.880149  ,  1.1822398 ,  1.4594133 ,  1.3015887 ,  4.3337626 ,\n",
              "         3.90766   ,  2.85724   ,  2.7197564 ,  2.3779218 ,  2.6411066 ,\n",
              "         1.925897  ,  2.1516395 ,  2.411463  ,  1.9571285 ,  2.050053  ,\n",
              "         3.3340118 ,  4.685321  ,  7.0521755 ,  9.6434765 , 14.028649  ,\n",
              "        13.919537  ,  9.473658  ,  6.0293016 ,  1.7499577 ,  2.0461078 ,\n",
              "         2.609979  ,  4.395073  ,  4.6674705 ,  4.297923  ,  3.2537956 ,\n",
              "         4.2444263 ,  4.2098665 ,  2.616245  ,  1.07923   ,  3.1373653 ,\n",
              "         2.6311169 ,  3.7690077 ,  4.446268  ,  3.7247937 ,  1.6825166 ,\n",
              "         1.9328485 ,  3.0594099 ,  1.7717155 ,  0.6540814 ,  1.2133763 ,\n",
              "         1.2966359 ,  3.0945258 ,  2.4577    ,  2.2835126 ,  2.1185327 ,\n",
              "         2.075653  ,  3.1151688 ,  3.444059  ,  4.5634313 ,  5.148529  ,\n",
              "         5.7788734 ,  5.3161197 ,  3.984942  ,  1.6604272 ,  0.89374995,\n",
              "         1.875926  ,  2.7901227 ,  4.060665  ,  5.4819665 ,  6.3982763 ,\n",
              "         7.9917374 ,  9.813646  ,  9.1094475 ,  9.731526  ,  4.1380796 ,\n",
              "         2.4644027 ,  2.1269364 ,  2.5022285 ,  2.624859  ,  2.5378833 ,\n",
              "         2.001395  ,  2.2892878 ,  3.4554648 ,  4.8030624 ,  5.100566  ,\n",
              "         6.253504  ,  7.2279377 ,  8.463392  ,  7.995049  ,  3.399494  ,\n",
              "         3.573709  ,  3.800546  ,  3.1193953 ,  3.3607237 ,  4.798764  ,\n",
              "         5.679473  ,  5.8192058 ,  6.7955995 ,  8.113234  ,  9.249468  ,\n",
              "         9.135798  ,  5.7763686 ,  4.943394  ,  3.5557117 ,  3.0116072 ,\n",
              "         4.516744  ,  5.282132  ,  5.245321  ,  5.745587  ,  6.498377  ,\n",
              "         4.85349   ,  6.930219  ,  7.586606  ,  6.4700894 ,  2.257437  ,\n",
              "         1.8273135 ,  1.7532451 ,  4.4275136 ,  3.9914258 ,  3.04185   ,\n",
              "         2.9479413 ,  4.0182886 ,  3.54524   ,  4.3602576 ,  7.684995  ,\n",
              "        10.991407  , 11.94091   , 13.68408   , 14.527692  , 15.314296  ,\n",
              "        11.357249  ,  5.399495  ,  3.2027316 ,  4.2707434 ,  5.8974457 ,\n",
              "         5.7997665 ,  7.2618284 ,  9.905184  , 12.003597  , 12.011619  ,\n",
              "         9.601714  , 10.112172  , 10.225992  , 11.866157  , 11.019545  ,\n",
              "        12.221612  , 15.08206   , 13.458273  , 12.967169  , 13.350005  ,\n",
              "         9.99907   ,  7.327411  ,  5.7166433 ,  7.7653127 , 11.424114  ,\n",
              "        11.129676  ,  4.4800963 ,  1.4012867 ,  1.9143105 ,  6.2139626 ,\n",
              "         6.1128626 ,  6.454489  ,  9.988642  , 11.07497   , 12.849394  ,\n",
              "        11.490809  ,  3.1787212 ,  4.051948  ,  5.184877  ,  4.6290984 ,\n",
              "         7.05148   ,  7.414259  , 11.144722  ,  8.536138  ,  6.3866434 ,\n",
              "         7.760959  ,  9.72823   , 11.405461  , 12.159162  ,  9.881705  ,\n",
              "        12.914331  , 15.455956  , 14.501786  , 15.354276  ,  9.8612175 ,\n",
              "         5.091632  ,  4.967914  ,  4.556917  ,  5.4390483 ,  5.339212  ,\n",
              "         6.93963   ,  7.968321  ,  7.4956007 ,  5.2214146 ,  5.9608903 ,\n",
              "         8.583057  , 12.5307    , 18.564095  , 18.297707  , 11.63083   ,\n",
              "         6.879165  ,  3.9963431 ,  3.877306  ,  6.002227  ,  8.772441  ,\n",
              "         5.288897  ,  6.3056016 ,  4.740297  ,  8.372653  ,  7.6279283 ,\n",
              "        10.617232  , 10.882746  , 10.9127655 ,  8.810777  ,  4.6957407 ,\n",
              "         2.9415348 ,  2.8656507 ,  3.1412628 ,  4.620322  ,  3.108099  ,\n",
              "         2.3262165 ,  5.0483046 ,  7.301092  ,  7.459308  ,  8.02977   ,\n",
              "         7.733818  ,  5.17262   ,  4.326656  ,  4.762415  ,  7.8387566 ,\n",
              "         6.7704124 ,  5.4211617 ,  4.5201483 ,  3.377347  ,  1.1899018 ,\n",
              "         1.6357932 ,  1.8785645 ,  1.8337895 ,  1.433579  ,  1.9267281 ,\n",
              "         2.6582067 ,  3.2599742 ,  4.3014317 ,  5.031052  ,  5.5637817 ,\n",
              "         4.526485  ,  3.7083614 ,  3.7596967 ,  5.3936205 ,  9.191379  ,\n",
              "        13.246942  , 15.002701  , 16.205957  , 12.602167  ,  9.992064  ,\n",
              "         8.756077  ,  5.9400806 ,  4.5271916 ,  5.708021  ,  8.259642  ,\n",
              "        10.470784  ,  8.500806  ,  4.462133  ,  4.275191  ,  3.8929846 ,\n",
              "         2.4095733 ,  3.1525369 ,  2.8081264 ,  2.934697  ,  3.2115822 ,\n",
              "         2.7342563 ,  3.8695037 ,  6.0103807 ,  9.7023115 , 14.556892  ,\n",
              "        18.120197  ], dtype=float32),\n",
              " 'mase': 2.2602518}"
            ]
          },
          "metadata": {},
          "execution_count": 60
        }
      ]
    },
    {
      "cell_type": "code",
      "source": [
        "model_2_preds.shape, model_3_preds.shape, model_2_results[\"mae\"].shape, model_3_results[\"mae\"].shape"
      ],
      "metadata": {
        "colab": {
          "base_uri": "https://localhost:8080/"
        },
        "id": "11rSFImkk0O2",
        "outputId": "86eaac1e-534a-46b1-c411-50d457d9d186"
      },
      "execution_count": 61,
      "outputs": [
        {
          "output_type": "execute_result",
          "data": {
            "text/plain": [
              "(TensorShape([552]), TensorShape([551, 7]), (), (551,))"
            ]
          },
          "metadata": {},
          "execution_count": 61
        }
      ]
    },
    {
      "cell_type": "markdown",
      "source": [
        "## Make our evaluation function work for larger horizons"
      ],
      "metadata": {
        "id": "C7jGxMVClbM0"
      }
    },
    {
      "cell_type": "code",
      "source": [
        "# Create a function to take in model predictions and truth values and return evaluation metrics\n",
        "def evaluate_pred(y_true, y_pred):\n",
        "  # Make sure float32 datatype (for metric calculation)\n",
        "  y_true = tf.cast(y_true, dtype=tf.float32)\n",
        "  y_pred = tf.cast(y_pred, dtype=tf.float32)\n",
        "\n",
        "  # Calculate various evaluation metrics\n",
        "  mae = tf.keras.metrics.mae(y_true, y_pred)\n",
        "  mse = tf.keras.metrics.mse(y_true, y_pred)\n",
        "  rmse = tf.sqrt(mse)\n",
        "  mape = tf.keras.metrics.mape(y_true, y_pred)\n",
        "  mase = mean_absolute_scaled_error(y_true, y_pred)\n",
        "\n",
        "  # Account for different sized metrics (for longer horizons, we want to reduce metrics to a single value)\n",
        "  if mae.ndim > 0:\n",
        "    mae = tf.reduce_mean(mae)\n",
        "    mse = tf.reduce_mean(mse)\n",
        "    rmse = tf.reduce_mean(rmse)\n",
        "    mape = tf.reduce_mean(mape)\n",
        "    mase = tf.reduce_mean(mase)\n",
        "\n",
        "  return {\"mae\": mae.numpy(),\n",
        "          \"mse\": mse.numpy(),\n",
        "          \"rmse\": rmse.numpy(),\n",
        "          \"mape\": mape.numpy(),\n",
        "          \"mase\": mase.numpy()}"
      ],
      "metadata": {
        "id": "SrVFwD7ylnyJ"
      },
      "execution_count": 62,
      "outputs": []
    },
    {
      "cell_type": "code",
      "source": [
        "# Get model 3 results aggregated to single values\n",
        "model_3_results = evaluate_pred(y_true=tf.squeeze(test_labels),\n",
        "                                y_pred=model_3_preds)\n",
        "model_3_results, naive_results"
      ],
      "metadata": {
        "colab": {
          "base_uri": "https://localhost:8080/"
        },
        "id": "-zsp9nVrnXx8",
        "outputId": "22c3eb4d-3dd7-46ca-96a8-a4ac34830b97"
      },
      "execution_count": 63,
      "outputs": [
        {
          "output_type": "execute_result",
          "data": {
            "text/plain": [
              "({'mae': 1270.2012,\n",
              "  'mse': 5474259.0,\n",
              "  'rmse': 1462.0162,\n",
              "  'mape': 5.700006,\n",
              "  'mase': 2.2602518},\n",
              " {'mae': 567.9802,\n",
              "  'mse': 1147547.0,\n",
              "  'rmse': 1071.2362,\n",
              "  'mape': 2.516525,\n",
              "  'mase': 0.99957})"
            ]
          },
          "metadata": {},
          "execution_count": 63
        }
      ]
    },
    {
      "cell_type": "markdown",
      "source": [
        "With model 3, we are trying to predict further into the future. This explains why the model prediction has higher losses."
      ],
      "metadata": {
        "id": "S4w0Np6Dnogw"
      }
    },
    {
      "cell_type": "code",
      "source": [
        "offset = 300\n",
        "plt.figure(figsize=(10,7))\n",
        "plot_time_series(timesteps=X_test[-len(test_windows):], values=test_labels[:,0], start=offset, format=\"-\", label=\"Test Data\")\n",
        "plot_time_series(timesteps=X_test[-len(test_windows):], values=tf.reduce_mean(model_3_preds, axis=1), start=offset, label=\"Model 3 Predictions\")\n",
        "\n",
        "# We actually lost some informations because we reducing the seven days prediction into a single value"
      ],
      "metadata": {
        "colab": {
          "base_uri": "https://localhost:8080/",
          "height": 453
        },
        "id": "pyxyWPgbnxaD",
        "outputId": "67cdc004-7f43-4e39-8478-56625c3cf7f7"
      },
      "execution_count": 64,
      "outputs": [
        {
          "output_type": "display_data",
          "data": {
            "text/plain": [
              "<Figure size 1000x700 with 1 Axes>"
            ],
            "image/png": "[encoded data removed]"
          },
          "metadata": {}
        }
      ]
    },
    {
      "cell_type": "markdown",
      "source": [
        "## Comparing the models so far"
      ],
      "metadata": {
        "id": "Xwi3bCo1yohP"
      }
    },
    {
      "cell_type": "code",
      "source": [
        "pd.DataFrame({\"naive\": naive_results[\"mae\"],\n",
        "              \"horizon_1_window_7\": model_1_results[\"mae\"],\n",
        "              \"horizon_1_window_30\": model_2_results[\"mae\"],\n",
        "              \"horizon_7_window_30\": model_3_results[\"mae\"]}, index=[\"mae\"]).plot(figsize=(10,7), kind=\"bar\")"
      ],
      "metadata": {
        "colab": {
          "base_uri": "https://localhost:8080/",
          "height": 482
        },
        "id": "B1XJF6V7x33T",
        "outputId": "bd7860de-c62c-4ac4-f1ec-fcd1b5fc50ed"
      },
      "execution_count": 65,
      "outputs": [
        {
          "output_type": "execute_result",
          "data": {
            "text/plain": [
              "<Axes: >"
            ]
          },
          "metadata": {},
          "execution_count": 65
        },
        {
          "output_type": "display_data",
          "data": {
            "text/plain": [
              "<Figure size 1000x700 with 1 Axes>"
            ],
            "image/png": "[encoded data removed]"
          },
          "metadata": {}
        }
      ]
    },
    {
      "cell_type": "markdown",
      "source": [
        "Why do our naive model did so good in comparison with complexer deep learning model? One of the reason its because the present of autocorrelation in the data. It means the value on this timestep is typically close to the value on the previous timestep. The naive model did good because of high autocorrelation and it is also hinting that our Bitcoin data has high autocorrelation.\n",
        "\n",
        "**Resource:** https://medium.com/towards-data-science/how-not-to-use-machine-learning-for-time-series-forecasting-avoiding-the-pitfalls-19f9d7adf424"
      ],
      "metadata": {
        "id": "GfbemM_Ezo6z"
      }
    },
    {
      "cell_type": "markdown",
      "source": [
        "## Model 4: Conv1D"
      ],
      "metadata": {
        "id": "z7aKtZu45uJW"
      }
    },
    {
      "cell_type": "code",
      "source": [
        "HORIZON = 1\n",
        "WINDOW_SIZE = 7"
      ],
      "metadata": {
        "id": "HYTwHzmiGE6z"
      },
      "execution_count": 66,
      "outputs": []
    },
    {
      "cell_type": "code",
      "source": [
        "# Create the window dataset (the same with model_1)\n",
        "full_windows, full_labels = make_windows(prices, window_size=WINDOW_SIZE, horizon=HORIZON)\n",
        "len(full_windows), len(full_labels)"
      ],
      "metadata": {
        "colab": {
          "base_uri": "https://localhost:8080/"
        },
        "id": "0KdBqC8zGJuC",
        "outputId": "88623331-bbef-4bbe-df3f-617df5c64e5f"
      },
      "execution_count": 67,
      "outputs": [
        {
          "output_type": "stream",
          "name": "stdout",
          "text": [
            "[[0 1 2 3 4 5 6 7]]\n",
            "[[   0    1    2 ...    5    6    7]\n",
            " [   1    2    3 ...    6    7    8]\n",
            " [   2    3    4 ...    7    8    9]\n",
            " ...\n",
            " [2777 2778 2779 ... 2782 2783 2784]\n",
            " [2778 2779 2780 ... 2783 2784 2785]\n",
            " [2779 2780 2781 ... 2784 2785 2786]]\n"
          ]
        },
        {
          "output_type": "execute_result",
          "data": {
            "text/plain": [
              "(2780, 2780)"
            ]
          },
          "metadata": {},
          "execution_count": 67
        }
      ]
    },
    {
      "cell_type": "code",
      "source": [
        "# Create train/test sets\n",
        "train_windows, test_windows, train_labels, test_labels = make_train_test_split(full_windows, full_labels)\n",
        "len(train_windows), len(train_labels), len(test_windows), len(train_labels)"
      ],
      "metadata": {
        "colab": {
          "base_uri": "https://localhost:8080/"
        },
        "id": "Kh_6NEM_Giu9",
        "outputId": "7fdfb735-9449-421d-d7d2-b9f96571e15e"
      },
      "execution_count": 68,
      "outputs": [
        {
          "output_type": "execute_result",
          "data": {
            "text/plain": [
              "(2224, 2224, 556, 2224)"
            ]
          },
          "metadata": {},
          "execution_count": 68
        }
      ]
    },
    {
      "cell_type": "markdown",
      "source": [
        "To use the Conv1D layer, we need an input shape of: `(batch_size, timesteps, input_dim)`.\n",
        "\n",
        "**Resource:** https://www.tensorflow.org/api_docs/python/tf/keras/layers/Conv1D"
      ],
      "metadata": {
        "id": "bmpEhqYOHBmM"
      }
    },
    {
      "cell_type": "code",
      "source": [
        "# Before our pass our data to the Conv1D layer, we have to reshape it\n",
        "x = tf.constant(train_windows[0])\n",
        "x"
      ],
      "metadata": {
        "colab": {
          "base_uri": "https://localhost:8080/"
        },
        "id": "w9PVFizZHh30",
        "outputId": "a7a36307-89d5-432d-9b2b-89908e9b813a"
      },
      "execution_count": 70,
      "outputs": [
        {
          "output_type": "execute_result",
          "data": {
            "text/plain": [
              "<tf.Tensor: shape=(7,), dtype=float64, numpy=\n",
              "array([123.65499, 125.455  , 108.58483, 118.67466, 121.33866, 120.65533,\n",
              "       121.795  ])>"
            ]
          },
          "metadata": {},
          "execution_count": 70
        }
      ]
    },
    {
      "cell_type": "code",
      "source": [
        "expand_dims_layer = layers.Lambda(lambda x: tf.expand_dims(x, axis=1)) # add an extra dimension"
      ],
      "metadata": {
        "id": "5lP05_d2ah2-"
      },
      "execution_count": 74,
      "outputs": []
    },
    {
      "cell_type": "code",
      "source": [
        "# Test out our lambda layer\n",
        "print(f\"Original shape: {x.shape}\") # WINDOW_SIZE\n",
        "print(f\"Expanded shape: {expand_dims_layer(x).shape}\")\n",
        "print(f\"Original values with expanded shape:\\n {expand_dims_layer(x)}\")"
      ],
      "metadata": {
        "colab": {
          "base_uri": "https://localhost:8080/"
        },
        "id": "8NpsyuIMaq3v",
        "outputId": "851ba14f-aad2-4cbc-d72c-17de2a0a494a"
      },
      "execution_count": 75,
      "outputs": [
        {
          "output_type": "stream",
          "name": "stdout",
          "text": [
            "Original shape: (7,)\n",
            "Expanded shape: (7, 1)\n",
            "Original values with expanded shape:\n",
            " [[123.65499]\n",
            " [125.455  ]\n",
            " [108.58483]\n",
            " [118.67466]\n",
            " [121.33866]\n",
            " [120.65533]\n",
            " [121.795  ]]\n"
          ]
        }
      ]
    },
    {
      "cell_type": "code",
      "source": [
        "def expand_dims(x):\n",
        "  return tf.expand_dims(x, axis=1)"
      ],
      "metadata": {
        "id": "ZVppNlQEgKkl"
      },
      "execution_count": 82,
      "outputs": []
    },
    {
      "cell_type": "code",
      "source": [
        "tf.random.set_seed(42)\n",
        "\n",
        "model_4 = tf.keras.Sequential([\n",
        "    # layers.Lambda(lambda x: tf.expand_dims(x, axis=1)), # must create a separate function instead of a lambda function in order to reload the model safely\n",
        "    layers.Lambda(expand_dims),\n",
        "    layers.Conv1D(filters=128, kernel_size=5, strides=1, padding=\"causal\", activation=\"relu\"),\n",
        "    layers.Dense(HORIZON)\n",
        "], name=\"model_4_conv1d\")\n",
        "\n",
        "model_4.compile(loss=\"mae\",\n",
        "                optimizer=tf.keras.optimizers.Adam())\n",
        "\n",
        "model_4.fit(train_windows,\n",
        "            train_labels,\n",
        "            batch_size=128,\n",
        "            epochs=100,\n",
        "            verbose=0,\n",
        "            validation_data=(test_windows, test_labels),\n",
        "            callbacks=[create_model_checkpoint(model_name=model_4.name)])"
      ],
      "metadata": {
        "colab": {
          "base_uri": "https://localhost:8080/"
        },
        "id": "O2sy3YaUbfgU",
        "outputId": "4826a402-5bcb-4427-a4ed-6ccdf8478a74"
      },
      "execution_count": 84,
      "outputs": [
        {
          "output_type": "execute_result",
          "data": {
            "text/plain": [
              "<keras.src.callbacks.history.History at 0x7a6a05dc8210>"
            ]
          },
          "metadata": {},
          "execution_count": 84
        }
      ]
    },
    {
      "cell_type": "code",
      "source": [
        "model_4.summary()"
      ],
      "metadata": {
        "colab": {
          "base_uri": "https://localhost:8080/",
          "height": 241
        },
        "id": "Biiq6gv_e8MY",
        "outputId": "5dc48c52-b536-4ac6-a952-4a03d46de038"
      },
      "execution_count": 85,
      "outputs": [
        {
          "output_type": "display_data",
          "data": {
            "text/plain": [
              "\u001b[1mModel: \"model_4_conv1d\"\u001b[0m\n"
            ],
            "text/html": [
              "<pre style=\"white-space:pre;overflow-x:auto;line-height:normal;font-family:Menlo,'DejaVu Sans Mono',consolas,'Courier New',monospace\"><span style=\"font-weight: bold\">Model: \"model_4_conv1d\"</span>\n",
              "</pre>\n"
            ]
          },
          "metadata": {}
        },
        {
          "output_type": "display_data",
          "data": {
            "text/plain": [
              "┏━━━━━━━━━━━━━━━━━━━━━━━━━━━━━━━━━━━━━━┳━━━━━━━━━━━━━━━━━━━━━━━━━━━━━┳━━━━━━━━━━━━━━━━━┓\n",
              "┃\u001b[1m \u001b[0m\u001b[1mLayer (type)                        \u001b[0m\u001b[1m \u001b[0m┃\u001b[1m \u001b[0m\u001b[1mOutput Shape               \u001b[0m\u001b[1m \u001b[0m┃\u001b[1m \u001b[0m\u001b[1m        Param #\u001b[0m\u001b[1m \u001b[0m┃\n",
              "┡━━━━━━━━━━━━━━━━━━━━━━━━━━━━━━━━━━━━━━╇━━━━━━━━━━━━━━━━━━━━━━━━━━━━━╇━━━━━━━━━━━━━━━━━┩\n",
              "│ lambda_3 (\u001b[38;5;33mLambda\u001b[0m)                    │ (\u001b[38;5;45mNone\u001b[0m, \u001b[38;5;34m1\u001b[0m, \u001b[38;5;34m7\u001b[0m)                │               \u001b[38;5;34m0\u001b[0m │\n",
              "├──────────────────────────────────────┼─────────────────────────────┼─────────────────┤\n",
              "│ conv1d_2 (\u001b[38;5;33mConv1D\u001b[0m)                    │ (\u001b[38;5;45mNone\u001b[0m, \u001b[38;5;34m1\u001b[0m, \u001b[38;5;34m128\u001b[0m)              │           \u001b[38;5;34m4,608\u001b[0m │\n",
              "├──────────────────────────────────────┼─────────────────────────────┼─────────────────┤\n",
              "│ dense_8 (\u001b[38;5;33mDense\u001b[0m)                      │ (\u001b[38;5;45mNone\u001b[0m, \u001b[38;5;34m1\u001b[0m, \u001b[38;5;34m1\u001b[0m)                │             \u001b[38;5;34m129\u001b[0m │\n",
              "└──────────────────────────────────────┴─────────────────────────────┴─────────────────┘\n"
            ],
            "text/html": [
              "<pre style=\"white-space:pre;overflow-x:auto;line-height:normal;font-family:Menlo,'DejaVu Sans Mono',consolas,'Courier New',monospace\">┏━━━━━━━━━━━━━━━━━━━━━━━━━━━━━━━━━━━━━━┳━━━━━━━━━━━━━━━━━━━━━━━━━━━━━┳━━━━━━━━━━━━━━━━━┓\n",
              "┃<span style=\"font-weight: bold\"> Layer (type)                         </span>┃<span style=\"font-weight: bold\"> Output Shape                </span>┃<span style=\"font-weight: bold\">         Param # </span>┃\n",
              "┡━━━━━━━━━━━━━━━━━━━━━━━━━━━━━━━━━━━━━━╇━━━━━━━━━━━━━━━━━━━━━━━━━━━━━╇━━━━━━━━━━━━━━━━━┩\n",
              "│ lambda_3 (<span style=\"color: #0087ff; text-decoration-color: #0087ff\">Lambda</span>)                    │ (<span style=\"color: #00d7ff; text-decoration-color: #00d7ff\">None</span>, <span style=\"color: #00af00; text-decoration-color: #00af00\">1</span>, <span style=\"color: #00af00; text-decoration-color: #00af00\">7</span>)                │               <span style=\"color: #00af00; text-decoration-color: #00af00\">0</span> │\n",
              "├──────────────────────────────────────┼─────────────────────────────┼─────────────────┤\n",
              "│ conv1d_2 (<span style=\"color: #0087ff; text-decoration-color: #0087ff\">Conv1D</span>)                    │ (<span style=\"color: #00d7ff; text-decoration-color: #00d7ff\">None</span>, <span style=\"color: #00af00; text-decoration-color: #00af00\">1</span>, <span style=\"color: #00af00; text-decoration-color: #00af00\">128</span>)              │           <span style=\"color: #00af00; text-decoration-color: #00af00\">4,608</span> │\n",
              "├──────────────────────────────────────┼─────────────────────────────┼─────────────────┤\n",
              "│ dense_8 (<span style=\"color: #0087ff; text-decoration-color: #0087ff\">Dense</span>)                      │ (<span style=\"color: #00d7ff; text-decoration-color: #00d7ff\">None</span>, <span style=\"color: #00af00; text-decoration-color: #00af00\">1</span>, <span style=\"color: #00af00; text-decoration-color: #00af00\">1</span>)                │             <span style=\"color: #00af00; text-decoration-color: #00af00\">129</span> │\n",
              "└──────────────────────────────────────┴─────────────────────────────┴─────────────────┘\n",
              "</pre>\n"
            ]
          },
          "metadata": {}
        },
        {
          "output_type": "display_data",
          "data": {
            "text/plain": [
              "\u001b[1m Total params: \u001b[0m\u001b[38;5;34m14,213\u001b[0m (55.52 KB)\n"
            ],
            "text/html": [
              "<pre style=\"white-space:pre;overflow-x:auto;line-height:normal;font-family:Menlo,'DejaVu Sans Mono',consolas,'Courier New',monospace\"><span style=\"font-weight: bold\"> Total params: </span><span style=\"color: #00af00; text-decoration-color: #00af00\">14,213</span> (55.52 KB)\n",
              "</pre>\n"
            ]
          },
          "metadata": {}
        },
        {
          "output_type": "display_data",
          "data": {
            "text/plain": [
              "\u001b[1m Trainable params: \u001b[0m\u001b[38;5;34m4,737\u001b[0m (18.50 KB)\n"
            ],
            "text/html": [
              "<pre style=\"white-space:pre;overflow-x:auto;line-height:normal;font-family:Menlo,'DejaVu Sans Mono',consolas,'Courier New',monospace\"><span style=\"font-weight: bold\"> Trainable params: </span><span style=\"color: #00af00; text-decoration-color: #00af00\">4,737</span> (18.50 KB)\n",
              "</pre>\n"
            ]
          },
          "metadata": {}
        },
        {
          "output_type": "display_data",
          "data": {
            "text/plain": [
              "\u001b[1m Non-trainable params: \u001b[0m\u001b[38;5;34m0\u001b[0m (0.00 B)\n"
            ],
            "text/html": [
              "<pre style=\"white-space:pre;overflow-x:auto;line-height:normal;font-family:Menlo,'DejaVu Sans Mono',consolas,'Courier New',monospace\"><span style=\"font-weight: bold\"> Non-trainable params: </span><span style=\"color: #00af00; text-decoration-color: #00af00\">0</span> (0.00 B)\n",
              "</pre>\n"
            ]
          },
          "metadata": {}
        },
        {
          "output_type": "display_data",
          "data": {
            "text/plain": [
              "\u001b[1m Optimizer params: \u001b[0m\u001b[38;5;34m9,476\u001b[0m (37.02 KB)\n"
            ],
            "text/html": [
              "<pre style=\"white-space:pre;overflow-x:auto;line-height:normal;font-family:Menlo,'DejaVu Sans Mono',consolas,'Courier New',monospace\"><span style=\"font-weight: bold\"> Optimizer params: </span><span style=\"color: #00af00; text-decoration-color: #00af00\">9,476</span> (37.02 KB)\n",
              "</pre>\n"
            ]
          },
          "metadata": {}
        }
      ]
    },
    {
      "cell_type": "code",
      "source": [
        "# Evaluate model\n",
        "model_4.evaluate(test_windows, test_labels)"
      ],
      "metadata": {
        "colab": {
          "base_uri": "https://localhost:8080/"
        },
        "id": "VbchNll3fVIf",
        "outputId": "6c461f50-b81f-465c-e4e3-e5790629050b"
      },
      "execution_count": 86,
      "outputs": [
        {
          "output_type": "stream",
          "name": "stdout",
          "text": [
            "\u001b[1m18/18\u001b[0m \u001b[32m━━━━━━━━━━━━━━━━━━━━\u001b[0m\u001b[37m\u001b[0m \u001b[1m0s\u001b[0m 8ms/step - loss: 289.6855\n"
          ]
        },
        {
          "output_type": "execute_result",
          "data": {
            "text/plain": [
              "575.6329345703125"
            ]
          },
          "metadata": {},
          "execution_count": 86
        }
      ]
    },
    {
      "cell_type": "code",
      "source": [
        "# Load in best performing model and re-evaluate\n",
        "model_4 = tf.keras.models.load_model(\"/content/model_experiments/model_4_conv1d.keras\", custom_objects={'expand_dims': expand_dims})\n",
        "model_4.evaluate(test_windows, test_labels)"
      ],
      "metadata": {
        "colab": {
          "base_uri": "https://localhost:8080/"
        },
        "id": "9T3JM2m6fbVV",
        "outputId": "73391cd7-222a-4f5c-df73-9ae82a14bba2"
      },
      "execution_count": 88,
      "outputs": [
        {
          "output_type": "stream",
          "name": "stdout",
          "text": [
            "\u001b[1m18/18\u001b[0m \u001b[32m━━━━━━━━━━━━━━━━━━━━\u001b[0m\u001b[37m\u001b[0m \u001b[1m1s\u001b[0m 19ms/step - loss: 283.5649\n"
          ]
        },
        {
          "output_type": "execute_result",
          "data": {
            "text/plain": [
              "568.69775390625"
            ]
          },
          "metadata": {},
          "execution_count": 88
        }
      ]
    },
    {
      "cell_type": "code",
      "source": [
        "# Make predictions\n",
        "model_4_preds = make_preds(model_4, test_windows)\n",
        "model_4_preds[:10]"
      ],
      "metadata": {
        "colab": {
          "base_uri": "https://localhost:8080/"
        },
        "id": "kfw325eqiO5c",
        "outputId": "336e83a8-c263-4343-9f71-f0347539dd88"
      },
      "execution_count": 89,
      "outputs": [
        {
          "output_type": "stream",
          "name": "stdout",
          "text": [
            "\u001b[1m18/18\u001b[0m \u001b[32m━━━━━━━━━━━━━━━━━━━━\u001b[0m\u001b[37m\u001b[0m \u001b[1m1s\u001b[0m 17ms/step\n"
          ]
        },
        {
          "output_type": "execute_result",
          "data": {
            "text/plain": [
              "<tf.Tensor: shape=(10,), dtype=float32, numpy=\n",
              "array([8875.042, 8780.176, 9013.156, 8793.932, 8721.809, 8727.054,\n",
              "       8686.512, 8519.095, 8455.387, 8519.561], dtype=float32)>"
            ]
          },
          "metadata": {},
          "execution_count": 89
        }
      ]
    },
    {
      "cell_type": "code",
      "source": [
        "# Evaluate predictions\n",
        "model_4_results = evaluate_pred(y_true=tf.squeeze(test_labels),\n",
        "                                y_pred=model_4_preds)\n",
        "model_4_results"
      ],
      "metadata": {
        "colab": {
          "base_uri": "https://localhost:8080/"
        },
        "id": "ggKNjI-iifvC",
        "outputId": "d3ed20c9-f7f8-4ead-c9f0-14c13f3af60a"
      },
      "execution_count": 91,
      "outputs": [
        {
          "output_type": "execute_result",
          "data": {
            "text/plain": [
              "{'mae': 568.69775,\n",
              " 'mse': 1175347.1,\n",
              " 'rmse': 1084.1343,\n",
              " 'mape': 2.5383487,\n",
              " 'mase': 0.9990444}"
            ]
          },
          "metadata": {},
          "execution_count": 91
        }
      ]
    },
    {
      "cell_type": "markdown",
      "source": [
        "## Model 5: RNN (LSTM)"
      ],
      "metadata": {
        "id": "pZpa2hbqjEyG"
      }
    },
    {
      "cell_type": "code",
      "source": [
        "tf.random.set_seed(42)\n",
        "\n",
        "# Let's build the LSTM model with the Functional API\n",
        "inputs = layers.Input(shape=(WINDOW_SIZE,))\n",
        "x = layers.Lambda(expand_dims)(inputs)\n",
        "#x = layers.LSTM(128, return_sequences=True)(x)\n",
        "x = layers.LSTM(128, activation=\"relu\")(x)\n",
        "#x = layers.Dense(32, activation=\"relu\")(x)\n",
        "output = layers.Dense(HORIZON)(x)\n",
        "model_5 = tf.keras.Model(inputs=inputs, outputs=output, name=\"model_5_lstm\")\n",
        "\n",
        "model_5.compile(loss=\"mae\",\n",
        "                optimizer=tf.keras.optimizers.Adam())\n",
        "\n",
        "model_5.fit(train_windows,\n",
        "            train_labels,\n",
        "            epochs=100,\n",
        "            verbose=1,\n",
        "            batch_size=128,\n",
        "            validation_data=(test_windows, test_labels),\n",
        "            callbacks=[create_model_checkpoint(model_name=model_5.name)])"
      ],
      "metadata": {
        "colab": {
          "base_uri": "https://localhost:8080/"
        },
        "collapsed": true,
        "id": "sFZDEYYfjVSt",
        "outputId": "a7ea2d89-0c70-4287-df62-43589dbf1c7c"
      },
      "execution_count": 97,
      "outputs": [
        {
          "output_type": "stream",
          "name": "stdout",
          "text": [
            "Epoch 1/100\n",
            "\u001b[1m18/18\u001b[0m \u001b[32m━━━━━━━━━━━━━━━━━━━━\u001b[0m\u001b[37m\u001b[0m \u001b[1m5s\u001b[0m 147ms/step - loss: 3078.1467 - val_loss: 12979.5918\n",
            "Epoch 2/100\n",
            "\u001b[1m18/18\u001b[0m \u001b[32m━━━━━━━━━━━━━━━━━━━━\u001b[0m\u001b[37m\u001b[0m \u001b[1m0s\u001b[0m 7ms/step - loss: 1647.1189 - val_loss: 2598.6169\n",
            "Epoch 3/100\n",
            "\u001b[1m18/18\u001b[0m \u001b[32m━━━━━━━━━━━━━━━━━━━━\u001b[0m\u001b[37m\u001b[0m \u001b[1m0s\u001b[0m 7ms/step - loss: 287.0524 - val_loss: 1055.4557\n",
            "Epoch 4/100\n",
            "\u001b[1m18/18\u001b[0m \u001b[32m━━━━━━━━━━━━━━━━━━━━\u001b[0m\u001b[37m\u001b[0m \u001b[1m0s\u001b[0m 7ms/step - loss: 191.5979 - val_loss: 1038.1284\n",
            "Epoch 5/100\n",
            "\u001b[1m18/18\u001b[0m \u001b[32m━━━━━━━━━━━━━━━━━━━━\u001b[0m\u001b[37m\u001b[0m \u001b[1m0s\u001b[0m 5ms/step - loss: 183.0589 - val_loss: 1098.1360\n",
            "Epoch 6/100\n",
            "\u001b[1m18/18\u001b[0m \u001b[32m━━━━━━━━━━━━━━━━━━━━\u001b[0m\u001b[37m\u001b[0m \u001b[1m0s\u001b[0m 5ms/step - loss: 180.3539 - val_loss: 1077.5422\n",
            "Epoch 7/100\n",
            "\u001b[1m18/18\u001b[0m \u001b[32m━━━━━━━━━━━━━━━━━━━━\u001b[0m\u001b[37m\u001b[0m \u001b[1m0s\u001b[0m 5ms/step - loss: 178.6247 - val_loss: 1056.8188\n",
            "Epoch 8/100\n",
            "\u001b[1m18/18\u001b[0m \u001b[32m━━━━━━━━━━━━━━━━━━━━\u001b[0m\u001b[37m\u001b[0m \u001b[1m0s\u001b[0m 6ms/step - loss: 177.0773 - val_loss: 1079.5363\n",
            "Epoch 9/100\n",
            "\u001b[1m18/18\u001b[0m \u001b[32m━━━━━━━━━━━━━━━━━━━━\u001b[0m\u001b[37m\u001b[0m \u001b[1m0s\u001b[0m 7ms/step - loss: 177.8395 - val_loss: 1075.4153\n",
            "Epoch 10/100\n",
            "\u001b[1m18/18\u001b[0m \u001b[32m━━━━━━━━━━━━━━━━━━━━\u001b[0m\u001b[37m\u001b[0m \u001b[1m0s\u001b[0m 5ms/step - loss: 174.8639 - val_loss: 1041.0284\n",
            "Epoch 11/100\n",
            "\u001b[1m18/18\u001b[0m \u001b[32m━━━━━━━━━━━━━━━━━━━━\u001b[0m\u001b[37m\u001b[0m \u001b[1m0s\u001b[0m 7ms/step - loss: 172.2402 - val_loss: 1030.5898\n",
            "Epoch 12/100\n",
            "\u001b[1m18/18\u001b[0m \u001b[32m━━━━━━━━━━━━━━━━━━━━\u001b[0m\u001b[37m\u001b[0m \u001b[1m0s\u001b[0m 7ms/step - loss: 170.7189 - val_loss: 1021.3795\n",
            "Epoch 13/100\n",
            "\u001b[1m18/18\u001b[0m \u001b[32m━━━━━━━━━━━━━━━━━━━━\u001b[0m\u001b[37m\u001b[0m \u001b[1m0s\u001b[0m 7ms/step - loss: 169.1761 - val_loss: 1010.8153\n",
            "Epoch 14/100\n",
            "\u001b[1m18/18\u001b[0m \u001b[32m━━━━━━━━━━━━━━━━━━━━\u001b[0m\u001b[37m\u001b[0m \u001b[1m0s\u001b[0m 6ms/step - loss: 167.6288 - val_loss: 1000.7798\n",
            "Epoch 15/100\n",
            "\u001b[1m18/18\u001b[0m \u001b[32m━━━━━━━━━━━━━━━━━━━━\u001b[0m\u001b[37m\u001b[0m \u001b[1m0s\u001b[0m 7ms/step - loss: 166.1949 - val_loss: 956.2806\n",
            "Epoch 16/100\n",
            "\u001b[1m18/18\u001b[0m \u001b[32m━━━━━━━━━━━━━━━━━━━━\u001b[0m\u001b[37m\u001b[0m \u001b[1m0s\u001b[0m 5ms/step - loss: 163.6461 - val_loss: 956.5491\n",
            "Epoch 17/100\n",
            "\u001b[1m18/18\u001b[0m \u001b[32m━━━━━━━━━━━━━━━━━━━━\u001b[0m\u001b[37m\u001b[0m \u001b[1m0s\u001b[0m 7ms/step - loss: 162.0241 - val_loss: 937.7405\n",
            "Epoch 18/100\n",
            "\u001b[1m18/18\u001b[0m \u001b[32m━━━━━━━━━━━━━━━━━━━━\u001b[0m\u001b[37m\u001b[0m \u001b[1m0s\u001b[0m 7ms/step - loss: 160.2241 - val_loss: 927.1530\n",
            "Epoch 19/100\n",
            "\u001b[1m18/18\u001b[0m \u001b[32m━━━━━━━━━━━━━━━━━━━━\u001b[0m\u001b[37m\u001b[0m \u001b[1m0s\u001b[0m 7ms/step - loss: 158.3192 - val_loss: 919.6110\n",
            "Epoch 20/100\n",
            "\u001b[1m18/18\u001b[0m \u001b[32m━━━━━━━━━━━━━━━━━━━━\u001b[0m\u001b[37m\u001b[0m \u001b[1m0s\u001b[0m 6ms/step - loss: 156.5762 - val_loss: 906.5381\n",
            "Epoch 21/100\n",
            "\u001b[1m18/18\u001b[0m \u001b[32m━━━━━━━━━━━━━━━━━━━━\u001b[0m\u001b[37m\u001b[0m \u001b[1m0s\u001b[0m 6ms/step - loss: 154.6185 - val_loss: 892.9485\n",
            "Epoch 22/100\n",
            "\u001b[1m18/18\u001b[0m \u001b[32m━━━━━━━━━━━━━━━━━━━━\u001b[0m\u001b[37m\u001b[0m \u001b[1m0s\u001b[0m 7ms/step - loss: 152.7276 - val_loss: 881.6920\n",
            "Epoch 23/100\n",
            "\u001b[1m18/18\u001b[0m \u001b[32m━━━━━━━━━━━━━━━━━━━━\u001b[0m\u001b[37m\u001b[0m \u001b[1m0s\u001b[0m 9ms/step - loss: 150.8537 - val_loss: 874.4846\n",
            "Epoch 24/100\n",
            "\u001b[1m18/18\u001b[0m \u001b[32m━━━━━━━━━━━━━━━━━━━━\u001b[0m\u001b[37m\u001b[0m \u001b[1m0s\u001b[0m 9ms/step - loss: 149.0130 - val_loss: 857.8909\n",
            "Epoch 25/100\n",
            "\u001b[1m18/18\u001b[0m \u001b[32m━━━━━━━━━━━━━━━━━━━━\u001b[0m\u001b[37m\u001b[0m \u001b[1m0s\u001b[0m 7ms/step - loss: 147.0242 - val_loss: 848.0543\n",
            "Epoch 26/100\n",
            "\u001b[1m18/18\u001b[0m \u001b[32m━━━━━━━━━━━━━━━━━━━━\u001b[0m\u001b[37m\u001b[0m \u001b[1m0s\u001b[0m 9ms/step - loss: 145.2643 - val_loss: 825.1289\n",
            "Epoch 27/100\n",
            "\u001b[1m18/18\u001b[0m \u001b[32m━━━━━━━━━━━━━━━━━━━━\u001b[0m\u001b[37m\u001b[0m \u001b[1m0s\u001b[0m 6ms/step - loss: 143.2106 - val_loss: 809.4247\n",
            "Epoch 28/100\n",
            "\u001b[1m18/18\u001b[0m \u001b[32m━━━━━━━━━━━━━━━━━━━━\u001b[0m\u001b[37m\u001b[0m \u001b[1m0s\u001b[0m 9ms/step - loss: 141.1608 - val_loss: 801.6992\n",
            "Epoch 29/100\n",
            "\u001b[1m18/18\u001b[0m \u001b[32m━━━━━━━━━━━━━━━━━━━━\u001b[0m\u001b[37m\u001b[0m \u001b[1m0s\u001b[0m 7ms/step - loss: 139.4994 - val_loss: 786.3343\n",
            "Epoch 30/100\n",
            "\u001b[1m18/18\u001b[0m \u001b[32m━━━━━━━━━━━━━━━━━━━━\u001b[0m\u001b[37m\u001b[0m \u001b[1m0s\u001b[0m 7ms/step - loss: 137.6062 - val_loss: 780.7907\n",
            "Epoch 31/100\n",
            "\u001b[1m18/18\u001b[0m \u001b[32m━━━━━━━━━━━━━━━━━━━━\u001b[0m\u001b[37m\u001b[0m \u001b[1m0s\u001b[0m 9ms/step - loss: 136.1043 - val_loss: 760.5359\n",
            "Epoch 32/100\n",
            "\u001b[1m18/18\u001b[0m \u001b[32m━━━━━━━━━━━━━━━━━━━━\u001b[0m\u001b[37m\u001b[0m \u001b[1m0s\u001b[0m 9ms/step - loss: 134.0126 - val_loss: 753.5698\n",
            "Epoch 33/100\n",
            "\u001b[1m18/18\u001b[0m \u001b[32m━━━━━━━━━━━━━━━━━━━━\u001b[0m\u001b[37m\u001b[0m \u001b[1m0s\u001b[0m 6ms/step - loss: 132.6636 - val_loss: 741.0275\n",
            "Epoch 34/100\n",
            "\u001b[1m18/18\u001b[0m \u001b[32m━━━━━━━━━━━━━━━━━━━━\u001b[0m\u001b[37m\u001b[0m \u001b[1m0s\u001b[0m 7ms/step - loss: 131.1268 - val_loss: 737.8156\n",
            "Epoch 35/100\n",
            "\u001b[1m18/18\u001b[0m \u001b[32m━━━━━━━━━━━━━━━━━━━━\u001b[0m\u001b[37m\u001b[0m \u001b[1m0s\u001b[0m 7ms/step - loss: 129.9664 - val_loss: 731.5853\n",
            "Epoch 36/100\n",
            "\u001b[1m18/18\u001b[0m \u001b[32m━━━━━━━━━━━━━━━━━━━━\u001b[0m\u001b[37m\u001b[0m \u001b[1m0s\u001b[0m 6ms/step - loss: 128.9658 - val_loss: 715.8522\n",
            "Epoch 37/100\n",
            "\u001b[1m18/18\u001b[0m \u001b[32m━━━━━━━━━━━━━━━━━━━━\u001b[0m\u001b[37m\u001b[0m \u001b[1m0s\u001b[0m 7ms/step - loss: 127.2576 - val_loss: 712.1234\n",
            "Epoch 38/100\n",
            "\u001b[1m18/18\u001b[0m \u001b[32m━━━━━━━━━━━━━━━━━━━━\u001b[0m\u001b[37m\u001b[0m \u001b[1m0s\u001b[0m 6ms/step - loss: 126.4546 - val_loss: 708.3452\n",
            "Epoch 39/100\n",
            "\u001b[1m18/18\u001b[0m \u001b[32m━━━━━━━━━━━━━━━━━━━━\u001b[0m\u001b[37m\u001b[0m \u001b[1m0s\u001b[0m 7ms/step - loss: 125.8231 - val_loss: 699.1228\n",
            "Epoch 40/100\n",
            "\u001b[1m18/18\u001b[0m \u001b[32m━━━━━━━━━━━━━━━━━━━━\u001b[0m\u001b[37m\u001b[0m \u001b[1m0s\u001b[0m 6ms/step - loss: 124.7475 - val_loss: 686.3443\n",
            "Epoch 41/100\n",
            "\u001b[1m18/18\u001b[0m \u001b[32m━━━━━━━━━━━━━━━━━━━━\u001b[0m\u001b[37m\u001b[0m \u001b[1m0s\u001b[0m 7ms/step - loss: 123.1737 - val_loss: 676.6059\n",
            "Epoch 42/100\n",
            "\u001b[1m18/18\u001b[0m \u001b[32m━━━━━━━━━━━━━━━━━━━━\u001b[0m\u001b[37m\u001b[0m \u001b[1m0s\u001b[0m 7ms/step - loss: 122.1932 - val_loss: 667.7603\n",
            "Epoch 43/100\n",
            "\u001b[1m18/18\u001b[0m \u001b[32m━━━━━━━━━━━━━━━━━━━━\u001b[0m\u001b[37m\u001b[0m \u001b[1m0s\u001b[0m 7ms/step - loss: 121.4945 - val_loss: 662.1921\n",
            "Epoch 44/100\n",
            "\u001b[1m18/18\u001b[0m \u001b[32m━━━━━━━━━━━━━━━━━━━━\u001b[0m\u001b[37m\u001b[0m \u001b[1m0s\u001b[0m 9ms/step - loss: 120.6053 - val_loss: 655.9113\n",
            "Epoch 45/100\n",
            "\u001b[1m18/18\u001b[0m \u001b[32m━━━━━━━━━━━━━━━━━━━━\u001b[0m\u001b[37m\u001b[0m \u001b[1m0s\u001b[0m 9ms/step - loss: 120.0253 - val_loss: 650.9083\n",
            "Epoch 46/100\n",
            "\u001b[1m18/18\u001b[0m \u001b[32m━━━━━━━━━━━━━━━━━━━━\u001b[0m\u001b[37m\u001b[0m \u001b[1m0s\u001b[0m 6ms/step - loss: 119.4281 - val_loss: 647.3711\n",
            "Epoch 47/100\n",
            "\u001b[1m18/18\u001b[0m \u001b[32m━━━━━━━━━━━━━━━━━━━━\u001b[0m\u001b[37m\u001b[0m \u001b[1m0s\u001b[0m 9ms/step - loss: 119.0973 - val_loss: 643.2462\n",
            "Epoch 48/100\n",
            "\u001b[1m18/18\u001b[0m \u001b[32m━━━━━━━━━━━━━━━━━━━━\u001b[0m\u001b[37m\u001b[0m \u001b[1m0s\u001b[0m 9ms/step - loss: 118.4223 - val_loss: 639.4418\n",
            "Epoch 49/100\n",
            "\u001b[1m18/18\u001b[0m \u001b[32m━━━━━━━━━━━━━━━━━━━━\u001b[0m\u001b[37m\u001b[0m \u001b[1m0s\u001b[0m 7ms/step - loss: 118.2107 - val_loss: 635.0485\n",
            "Epoch 50/100\n",
            "\u001b[1m18/18\u001b[0m \u001b[32m━━━━━━━━━━━━━━━━━━━━\u001b[0m\u001b[37m\u001b[0m \u001b[1m0s\u001b[0m 7ms/step - loss: 117.6174 - val_loss: 632.6862\n",
            "Epoch 51/100\n",
            "\u001b[1m18/18\u001b[0m \u001b[32m━━━━━━━━━━━━━━━━━━━━\u001b[0m\u001b[37m\u001b[0m \u001b[1m0s\u001b[0m 6ms/step - loss: 117.3388 - val_loss: 630.7266\n",
            "Epoch 52/100\n",
            "\u001b[1m18/18\u001b[0m \u001b[32m━━━━━━━━━━━━━━━━━━━━\u001b[0m\u001b[37m\u001b[0m \u001b[1m0s\u001b[0m 9ms/step - loss: 117.0630 - val_loss: 626.9847\n",
            "Epoch 53/100\n",
            "\u001b[1m18/18\u001b[0m \u001b[32m━━━━━━━━━━━━━━━━━━━━\u001b[0m\u001b[37m\u001b[0m \u001b[1m0s\u001b[0m 6ms/step - loss: 115.8081 - val_loss: 624.1119\n",
            "Epoch 54/100\n",
            "\u001b[1m18/18\u001b[0m \u001b[32m━━━━━━━━━━━━━━━━━━━━\u001b[0m\u001b[37m\u001b[0m \u001b[1m0s\u001b[0m 9ms/step - loss: 115.4237 - val_loss: 623.6110\n",
            "Epoch 55/100\n",
            "\u001b[1m18/18\u001b[0m \u001b[32m━━━━━━━━━━━━━━━━━━━━\u001b[0m\u001b[37m\u001b[0m \u001b[1m0s\u001b[0m 7ms/step - loss: 115.9805 - val_loss: 618.4699\n",
            "Epoch 56/100\n",
            "\u001b[1m18/18\u001b[0m \u001b[32m━━━━━━━━━━━━━━━━━━━━\u001b[0m\u001b[37m\u001b[0m \u001b[1m0s\u001b[0m 7ms/step - loss: 115.4404 - val_loss: 617.5562\n",
            "Epoch 57/100\n",
            "\u001b[1m18/18\u001b[0m \u001b[32m━━━━━━━━━━━━━━━━━━━━\u001b[0m\u001b[37m\u001b[0m \u001b[1m0s\u001b[0m 6ms/step - loss: 115.2606 - val_loss: 616.6912\n",
            "Epoch 58/100\n",
            "\u001b[1m18/18\u001b[0m \u001b[32m━━━━━━━━━━━━━━━━━━━━\u001b[0m\u001b[37m\u001b[0m \u001b[1m0s\u001b[0m 6ms/step - loss: 115.0682 - val_loss: 613.3480\n",
            "Epoch 59/100\n",
            "\u001b[1m18/18\u001b[0m \u001b[32m━━━━━━━━━━━━━━━━━━━━\u001b[0m\u001b[37m\u001b[0m \u001b[1m0s\u001b[0m 7ms/step - loss: 114.7184 - val_loss: 609.4093\n",
            "Epoch 60/100\n",
            "\u001b[1m18/18\u001b[0m \u001b[32m━━━━━━━━━━━━━━━━━━━━\u001b[0m\u001b[37m\u001b[0m \u001b[1m0s\u001b[0m 7ms/step - loss: 114.4242 - val_loss: 607.4897\n",
            "Epoch 61/100\n",
            "\u001b[1m18/18\u001b[0m \u001b[32m━━━━━━━━━━━━━━━━━━━━\u001b[0m\u001b[37m\u001b[0m \u001b[1m0s\u001b[0m 8ms/step - loss: 114.2303 - val_loss: 605.9573\n",
            "Epoch 62/100\n",
            "\u001b[1m18/18\u001b[0m \u001b[32m━━━━━━━━━━━━━━━━━━━━\u001b[0m\u001b[37m\u001b[0m \u001b[1m0s\u001b[0m 7ms/step - loss: 113.8696 - val_loss: 604.4527\n",
            "Epoch 63/100\n",
            "\u001b[1m18/18\u001b[0m \u001b[32m━━━━━━━━━━━━━━━━━━━━\u001b[0m\u001b[37m\u001b[0m \u001b[1m0s\u001b[0m 5ms/step - loss: 113.8107 - val_loss: 604.9182\n",
            "Epoch 64/100\n",
            "\u001b[1m18/18\u001b[0m \u001b[32m━━━━━━━━━━━━━━━━━━━━\u001b[0m\u001b[37m\u001b[0m \u001b[1m0s\u001b[0m 6ms/step - loss: 113.5050 - val_loss: 603.6672\n",
            "Epoch 65/100\n",
            "\u001b[1m18/18\u001b[0m \u001b[32m━━━━━━━━━━━━━━━━━━━━\u001b[0m\u001b[37m\u001b[0m \u001b[1m0s\u001b[0m 10ms/step - loss: 113.4832 - val_loss: 600.1644\n",
            "Epoch 66/100\n",
            "\u001b[1m18/18\u001b[0m \u001b[32m━━━━━━━━━━━━━━━━━━━━\u001b[0m\u001b[37m\u001b[0m \u001b[1m0s\u001b[0m 11ms/step - loss: 113.0777 - val_loss: 598.8466\n",
            "Epoch 67/100\n",
            "\u001b[1m18/18\u001b[0m \u001b[32m━━━━━━━━━━━━━━━━━━━━\u001b[0m\u001b[37m\u001b[0m \u001b[1m0s\u001b[0m 9ms/step - loss: 113.0549 - val_loss: 601.3449\n",
            "Epoch 68/100\n",
            "\u001b[1m18/18\u001b[0m \u001b[32m━━━━━━━━━━━━━━━━━━━━\u001b[0m\u001b[37m\u001b[0m \u001b[1m0s\u001b[0m 11ms/step - loss: 113.1938 - val_loss: 596.5776\n",
            "Epoch 69/100\n",
            "\u001b[1m18/18\u001b[0m \u001b[32m━━━━━━━━━━━━━━━━━━━━\u001b[0m\u001b[37m\u001b[0m \u001b[1m0s\u001b[0m 11ms/step - loss: 113.0682 - val_loss: 596.4645\n",
            "Epoch 70/100\n",
            "\u001b[1m18/18\u001b[0m \u001b[32m━━━━━━━━━━━━━━━━━━━━\u001b[0m\u001b[37m\u001b[0m \u001b[1m0s\u001b[0m 11ms/step - loss: 112.6330 - val_loss: 595.1035\n",
            "Epoch 71/100\n",
            "\u001b[1m18/18\u001b[0m \u001b[32m━━━━━━━━━━━━━━━━━━━━\u001b[0m\u001b[37m\u001b[0m \u001b[1m0s\u001b[0m 12ms/step - loss: 112.3885 - val_loss: 593.7681\n",
            "Epoch 72/100\n",
            "\u001b[1m18/18\u001b[0m \u001b[32m━━━━━━━━━━━━━━━━━━━━\u001b[0m\u001b[37m\u001b[0m \u001b[1m0s\u001b[0m 9ms/step - loss: 112.4600 - val_loss: 594.0944\n",
            "Epoch 73/100\n",
            "\u001b[1m18/18\u001b[0m \u001b[32m━━━━━━━━━━━━━━━━━━━━\u001b[0m\u001b[37m\u001b[0m \u001b[1m0s\u001b[0m 9ms/step - loss: 112.2053 - val_loss: 591.1975\n",
            "Epoch 74/100\n",
            "\u001b[1m18/18\u001b[0m \u001b[32m━━━━━━━━━━━━━━━━━━━━\u001b[0m\u001b[37m\u001b[0m \u001b[1m0s\u001b[0m 7ms/step - loss: 112.0407 - val_loss: 592.5616\n",
            "Epoch 75/100\n",
            "\u001b[1m18/18\u001b[0m \u001b[32m━━━━━━━━━━━━━━━━━━━━\u001b[0m\u001b[37m\u001b[0m \u001b[1m0s\u001b[0m 9ms/step - loss: 111.8858 - val_loss: 590.2782\n",
            "Epoch 76/100\n",
            "\u001b[1m18/18\u001b[0m \u001b[32m━━━━━━━━━━━━━━━━━━━━\u001b[0m\u001b[37m\u001b[0m \u001b[1m0s\u001b[0m 5ms/step - loss: 111.9611 - val_loss: 596.8085\n",
            "Epoch 77/100\n",
            "\u001b[1m18/18\u001b[0m \u001b[32m━━━━━━━━━━━━━━━━━━━━\u001b[0m\u001b[37m\u001b[0m \u001b[1m0s\u001b[0m 7ms/step - loss: 112.2785 - val_loss: 603.2680\n",
            "Epoch 78/100\n",
            "\u001b[1m18/18\u001b[0m \u001b[32m━━━━━━━━━━━━━━━━━━━━\u001b[0m\u001b[37m\u001b[0m \u001b[1m0s\u001b[0m 5ms/step - loss: 112.7596 - val_loss: 594.1614\n",
            "Epoch 79/100\n",
            "\u001b[1m18/18\u001b[0m \u001b[32m━━━━━━━━━━━━━━━━━━━━\u001b[0m\u001b[37m\u001b[0m \u001b[1m0s\u001b[0m 5ms/step - loss: 112.0000 - val_loss: 611.3108\n",
            "Epoch 80/100\n",
            "\u001b[1m18/18\u001b[0m \u001b[32m━━━━━━━━━━━━━━━━━━━━\u001b[0m\u001b[37m\u001b[0m \u001b[1m0s\u001b[0m 7ms/step - loss: 112.9023 - val_loss: 594.6261\n",
            "Epoch 81/100\n",
            "\u001b[1m18/18\u001b[0m \u001b[32m━━━━━━━━━━━━━━━━━━━━\u001b[0m\u001b[37m\u001b[0m \u001b[1m0s\u001b[0m 5ms/step - loss: 112.3216 - val_loss: 605.7460\n",
            "Epoch 82/100\n",
            "\u001b[1m18/18\u001b[0m \u001b[32m━━━━━━━━━━━━━━━━━━━━\u001b[0m\u001b[37m\u001b[0m \u001b[1m0s\u001b[0m 5ms/step - loss: 112.8232 - val_loss: 617.3839\n",
            "Epoch 83/100\n",
            "\u001b[1m18/18\u001b[0m \u001b[32m━━━━━━━━━━━━━━━━━━━━\u001b[0m\u001b[37m\u001b[0m \u001b[1m0s\u001b[0m 5ms/step - loss: 113.4653 - val_loss: 614.2184\n",
            "Epoch 84/100\n",
            "\u001b[1m18/18\u001b[0m \u001b[32m━━━━━━━━━━━━━━━━━━━━\u001b[0m\u001b[37m\u001b[0m \u001b[1m0s\u001b[0m 5ms/step - loss: 113.1134 - val_loss: 604.3149\n",
            "Epoch 85/100\n",
            "\u001b[1m18/18\u001b[0m \u001b[32m━━━━━━━━━━━━━━━━━━━━\u001b[0m\u001b[37m\u001b[0m \u001b[1m0s\u001b[0m 5ms/step - loss: 112.1551 - val_loss: 607.6834\n",
            "Epoch 86/100\n",
            "\u001b[1m18/18\u001b[0m \u001b[32m━━━━━━━━━━━━━━━━━━━━\u001b[0m\u001b[37m\u001b[0m \u001b[1m0s\u001b[0m 5ms/step - loss: 112.3656 - val_loss: 610.5689\n",
            "Epoch 87/100\n",
            "\u001b[1m18/18\u001b[0m \u001b[32m━━━━━━━━━━━━━━━━━━━━\u001b[0m\u001b[37m\u001b[0m \u001b[1m0s\u001b[0m 5ms/step - loss: 112.8650 - val_loss: 617.1381\n",
            "Epoch 88/100\n",
            "\u001b[1m18/18\u001b[0m \u001b[32m━━━━━━━━━━━━━━━━━━━━\u001b[0m\u001b[37m\u001b[0m \u001b[1m0s\u001b[0m 5ms/step - loss: 112.8421 - val_loss: 609.4875\n",
            "Epoch 89/100\n",
            "\u001b[1m18/18\u001b[0m \u001b[32m━━━━━━━━━━━━━━━━━━━━\u001b[0m\u001b[37m\u001b[0m \u001b[1m0s\u001b[0m 5ms/step - loss: 112.0366 - val_loss: 601.4506\n",
            "Epoch 90/100\n",
            "\u001b[1m18/18\u001b[0m \u001b[32m━━━━━━━━━━━━━━━━━━━━\u001b[0m\u001b[37m\u001b[0m \u001b[1m0s\u001b[0m 5ms/step - loss: 111.5045 - val_loss: 593.5526\n",
            "Epoch 91/100\n",
            "\u001b[1m18/18\u001b[0m \u001b[32m━━━━━━━━━━━━━━━━━━━━\u001b[0m\u001b[37m\u001b[0m \u001b[1m0s\u001b[0m 7ms/step - loss: 111.0208 - val_loss: 595.3050\n",
            "Epoch 92/100\n",
            "\u001b[1m18/18\u001b[0m \u001b[32m━━━━━━━━━━━━━━━━━━━━\u001b[0m\u001b[37m\u001b[0m \u001b[1m0s\u001b[0m 5ms/step - loss: 111.2021 - val_loss: 612.4062\n",
            "Epoch 93/100\n",
            "\u001b[1m18/18\u001b[0m \u001b[32m━━━━━━━━━━━━━━━━━━━━\u001b[0m\u001b[37m\u001b[0m \u001b[1m0s\u001b[0m 5ms/step - loss: 112.1955 - val_loss: 609.5479\n",
            "Epoch 94/100\n",
            "\u001b[1m18/18\u001b[0m \u001b[32m━━━━━━━━━━━━━━━━━━━━\u001b[0m\u001b[37m\u001b[0m \u001b[1m0s\u001b[0m 5ms/step - loss: 111.9765 - val_loss: 607.6639\n",
            "Epoch 95/100\n",
            "\u001b[1m18/18\u001b[0m \u001b[32m━━━━━━━━━━━━━━━━━━━━\u001b[0m\u001b[37m\u001b[0m \u001b[1m0s\u001b[0m 5ms/step - loss: 111.8712 - val_loss: 601.5858\n",
            "Epoch 96/100\n",
            "\u001b[1m18/18\u001b[0m \u001b[32m━━━━━━━━━━━━━━━━━━━━\u001b[0m\u001b[37m\u001b[0m \u001b[1m0s\u001b[0m 5ms/step - loss: 111.5108 - val_loss: 619.1082\n",
            "Epoch 97/100\n",
            "\u001b[1m18/18\u001b[0m \u001b[32m━━━━━━━━━━━━━━━━━━━━\u001b[0m\u001b[37m\u001b[0m \u001b[1m0s\u001b[0m 7ms/step - loss: 112.2768 - val_loss: 611.2591\n",
            "Epoch 98/100\n",
            "\u001b[1m18/18\u001b[0m \u001b[32m━━━━━━━━━━━━━━━━━━━━\u001b[0m\u001b[37m\u001b[0m \u001b[1m0s\u001b[0m 8ms/step - loss: 111.7263 - val_loss: 618.4620\n",
            "Epoch 99/100\n",
            "\u001b[1m18/18\u001b[0m \u001b[32m━━━━━━━━━━━━━━━━━━━━\u001b[0m\u001b[37m\u001b[0m \u001b[1m0s\u001b[0m 7ms/step - loss: 112.2301 - val_loss: 602.7678\n",
            "Epoch 100/100\n",
            "\u001b[1m18/18\u001b[0m \u001b[32m━━━━━━━━━━━━━━━━━━━━\u001b[0m\u001b[37m\u001b[0m \u001b[1m0s\u001b[0m 5ms/step - loss: 111.2615 - val_loss: 608.8572\n"
          ]
        },
        {
          "output_type": "execute_result",
          "data": {
            "text/plain": [
              "<keras.src.callbacks.history.History at 0x7a6a0404a3d0>"
            ]
          },
          "metadata": {},
          "execution_count": 97
        }
      ]
    },
    {
      "cell_type": "code",
      "source": [
        "# Load in best performing model and evaluate\n",
        "model_5 = tf.keras.models.load_model(\"/content/model_experiments/model_5_lstm.keras\", custom_objects={'expand_dims': expand_dims})\n",
        "model_5.evaluate(test_windows, test_labels)"
      ],
      "metadata": {
        "colab": {
          "base_uri": "https://localhost:8080/"
        },
        "id": "pz8MR-HelwBk",
        "outputId": "c1d9475c-4316-4ffb-ae5d-5159ea53d09d"
      },
      "execution_count": 99,
      "outputs": [
        {
          "output_type": "stream",
          "name": "stdout",
          "text": [
            "\u001b[1m18/18\u001b[0m \u001b[32m━━━━━━━━━━━━━━━━━━━━\u001b[0m\u001b[37m\u001b[0m \u001b[1m2s\u001b[0m 37ms/step - loss: 296.0478\n"
          ]
        },
        {
          "output_type": "execute_result",
          "data": {
            "text/plain": [
              "590.2781982421875"
            ]
          },
          "metadata": {},
          "execution_count": 99
        }
      ]
    },
    {
      "cell_type": "code",
      "source": [
        "# Make predictions\n",
        "model_5_preds = make_preds(model_5, test_windows)\n",
        "model_5_preds[:10]"
      ],
      "metadata": {
        "colab": {
          "base_uri": "https://localhost:8080/"
        },
        "id": "yJAXKB0XnTKr",
        "outputId": "d313d869-a2e4-4980-acb3-1701dd25887e"
      },
      "execution_count": 100,
      "outputs": [
        {
          "output_type": "stream",
          "name": "stdout",
          "text": [
            "\u001b[1m18/18\u001b[0m \u001b[32m━━━━━━━━━━━━━━━━━━━━\u001b[0m\u001b[37m\u001b[0m \u001b[1m1s\u001b[0m 31ms/step\n"
          ]
        },
        {
          "output_type": "execute_result",
          "data": {
            "text/plain": [
              "<tf.Tensor: shape=(10,), dtype=float32, numpy=\n",
              "array([8933.999, 8811.629, 8947.219, 8787.777, 8751.586, 8708.025,\n",
              "       8683.454, 8558.365, 8450.887, 8502.629], dtype=float32)>"
            ]
          },
          "metadata": {},
          "execution_count": 100
        }
      ]
    },
    {
      "cell_type": "code",
      "source": [
        "# Evaluate predictions\n",
        "model_5_results = evaluate_pred(y_true=tf.squeeze(test_labels),\n",
        "                                y_pred=model_5_preds)\n",
        "model_5_results"
      ],
      "metadata": {
        "colab": {
          "base_uri": "https://localhost:8080/"
        },
        "id": "CBnJQGMpnjxw",
        "outputId": "135d278b-d380-43e1-95f7-8f6c09869a63"
      },
      "execution_count": 101,
      "outputs": [
        {
          "output_type": "execute_result",
          "data": {
            "text/plain": [
              "{'mae': 590.2782,\n",
              " 'mse': 1242635.0,\n",
              " 'rmse': 1114.7354,\n",
              " 'mape': 2.662223,\n",
              " 'mase': 1.0369554}"
            ]
          },
          "metadata": {},
          "execution_count": 101
        }
      ]
    },
    {
      "cell_type": "code",
      "source": [
        "model_1_results"
      ],
      "metadata": {
        "colab": {
          "base_uri": "https://localhost:8080/"
        },
        "id": "eJtNOZAXnzfe",
        "outputId": "c1a90a57-15ee-4873-cb1e-1ffc1403b074"
      },
      "execution_count": 102,
      "outputs": [
        {
          "output_type": "execute_result",
          "data": {
            "text/plain": [
              "{'mae': 572.1049,\n",
              " 'mse': 1169887.0,\n",
              " 'rmse': 1081.6132,\n",
              " 'mape': 2.5581634,\n",
              " 'mase': 1.0050299}"
            ]
          },
          "metadata": {},
          "execution_count": 102
        }
      ]
    }
  ]
}